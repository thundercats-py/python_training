{
 "cells": [
  {
   "cell_type": "markdown",
   "metadata": {},
   "source": [
    "# UNCLASSIFIED\n",
    "\n",
    "Transcribed from FOIA Doc ID: 6689693\n",
    "\n",
    "https://archive.org/details/comp3321"
   ]
  },
  {
   "cell_type": "markdown",
   "metadata": {},
   "source": [
    "# (U) Introduction \n",
    "\n",
    "(U) Attention to exception handling, profiling, and testing distinguishes professional developers writing high-quality code from amateurs that hack around just enough to get the job done. Each topic warrants many hours of discussion on its own, but Python makes it possible to start learning and using these principles with minimal effort. This section covers basic ideas to get you interested and see the usefulness of these ideas and modules. \n",
    "Let's begin...by making some errors. "
   ]
  },
  {
   "cell_type": "markdown",
   "metadata": {},
   "source": [
    "# (U) Exceptions \n",
    "\n",
    "(U) Python is very flexible and will try its absolute best to do whatever you ask it to, but sometimes you can just confuse it way too much. The first type of **error** is the **syntax error**. By this point in the course, we've all seen more than enough of these! They happens when Python cannot parse what you typed. "
   ]
  },
  {
   "cell_type": "code",
   "execution_count": null,
   "metadata": {},
   "outputs": [],
   "source": [
    "print(i\n",
    "print(i)"
   ]
  },
  {
   "cell_type": "code",
   "execution_count": null,
   "metadata": {},
   "outputs": [],
   "source": [
    "for i in range(10) "
   ]
  },
  {
   "cell_type": "markdown",
   "metadata": {},
   "source": [
    "(U) Python could not parse what we were trying to do here (because we forgot our colon). It did, however, let us know where things stopped making sense. Note the printed line with an tiny arrow (`^`) pointing to where Python thinks there is an issue. \n",
    "\n",
    "(U) The statement `SyntaxError: invalid syntax` is an example of a special exception called a **SyntaxError**. It is fairly easy to see what happened here, and there is not much to do besides fixing your typo. \n",
    "\n",
    "`SyntaxError: invalid syntax` will frequently point to the first character on a line after the line that actually has the error. Usually this happens if the line before is missing a closing parentheses, bracket, or brace `)}]`. If you see a `SyntaxError: invalid syntax` exception and the code it shows you looks completely correct, go back to your code and look at the line before the one that the exception message is showing you. Make sure that the number of opening and closing characters is correct.\n",
    "\n",
    "Here's an example:"
   ]
  },
  {
   "cell_type": "code",
   "execution_count": null,
   "metadata": {},
   "outputs": [],
   "source": [
    "print(\"Hello\"\n",
    "print(\"Goodbye\")"
   ]
  },
  {
   "cell_type": "markdown",
   "metadata": {},
   "source": [
    "Notice the missing closing `)` in the first line. The error message shows us the line immediately after the missing `)` but by itself that line looks completely correct. It's only incorrect because Python doesn't understand the second line without first seeing a closing `)` for the line before it.\n",
    "\n",
    "(U) Other **exceptions** can be much more interesting.\n",
    "\n",
    "(U) There are many types of exceptions: "
   ]
  },
  {
   "cell_type": "code",
   "execution_count": null,
   "metadata": {},
   "outputs": [],
   "source": [
    "import builtins"
   ]
  },
  {
   "cell_type": "code",
   "execution_count": null,
   "metadata": {
    "scrolled": true
   },
   "outputs": [],
   "source": [
    "help(builtins)"
   ]
  },
  {
   "cell_type": "markdown",
   "metadata": {},
   "source": [
    "(U) I bet we can make some of these happen. In fact, you probably already have recently. "
   ]
  },
  {
   "cell_type": "code",
   "execution_count": null,
   "metadata": {},
   "outputs": [],
   "source": [
    "1/0 "
   ]
  },
  {
   "cell_type": "code",
   "execution_count": null,
   "metadata": {},
   "outputs": [],
   "source": [
    "def f(): \n",
    "    1/0 "
   ]
  },
  {
   "cell_type": "code",
   "execution_count": null,
   "metadata": {},
   "outputs": [],
   "source": [
    "f()"
   ]
  },
  {
   "cell_type": "code",
   "execution_count": null,
   "metadata": {},
   "outputs": [],
   "source": [
    "1/'0'"
   ]
  },
  {
   "cell_type": "code",
   "execution_count": null,
   "metadata": {},
   "outputs": [],
   "source": [
    "import chris "
   ]
  },
  {
   "cell_type": "code",
   "execution_count": null,
   "metadata": {},
   "outputs": [],
   "source": [
    "file = open('data','w') "
   ]
  },
  {
   "cell_type": "code",
   "execution_count": null,
   "metadata": {},
   "outputs": [],
   "source": [
    "file.read() "
   ]
  },
  {
   "cell_type": "markdown",
   "metadata": {},
   "source": [
    "## (U) Exception Handling \n",
    "\n",
    "(U) When exceptions might occur, the best course of action to is to **handle** them and do something more useful than exit and print something to the screen. In fact, sometimes exceptions can be very useful tools (e.g. `KeyboardInterrupt`). In Python, we handle exeptions with the `try` and `except` commands. \n",
    "\n",
    "(U) Here is how it works: \n",
    "\n",
    "1. (U) Everything between the `try` and `except` commands is executed. \n",
    "2. (U) If that produces no exception, the `except` block is skipped and the program continues. \n",
    "3. (U) If an exception occurs, the rest of the `try` block is skipped. \n",
    "4. (U) If the type of exception is named after the `except` keyword, the code after the except command is executed. \n",
    "5. (U) Otherwise, the execution stops and you have an **unhandled exception**. \n",
    "\n",
    "(U) Everything makes more sense with an example: "
   ]
  },
  {
   "cell_type": "code",
   "execution_count": null,
   "metadata": {},
   "outputs": [],
   "source": [
    "def f(x): \n",
    "    try: \n",
    "        print(\"I am going to convert the input to an integer\") \n",
    "        print(int(x))\n",
    "    except ValueError: \n",
    "        print(\"Sorry, I was not able to convert that.\") "
   ]
  },
  {
   "cell_type": "code",
   "execution_count": null,
   "metadata": {},
   "outputs": [],
   "source": [
    "f(2) "
   ]
  },
  {
   "cell_type": "code",
   "execution_count": null,
   "metadata": {},
   "outputs": [],
   "source": [
    "f('2') "
   ]
  },
  {
   "cell_type": "code",
   "execution_count": null,
   "metadata": {},
   "outputs": [],
   "source": [
    "f('two') "
   ]
  },
  {
   "cell_type": "markdown",
   "metadata": {},
   "source": [
    "(U) You can add multiple Exception types to the except command: \n",
    "```\n",
    "... except (TypeError, ValueError):\n",
    "```\n",
    "(U) The keyword `as` lets us grab the message from the error: "
   ]
  },
  {
   "cell_type": "code",
   "execution_count": null,
   "metadata": {},
   "outputs": [],
   "source": [
    "def be_careful(a, b):\n",
    "    try:\n",
    "        print(float(a)/float(b))\n",
    "    except (ValueError, TypeError, ZeroDivisionError) as detail:\n",
    "        print(\"Handled Exception: \", detail)\n",
    "    except:\n",
    "        print(\"Unexpected error!\")\n",
    "    finally:\n",
    "        print(\"THIS WILL ALWAYS RUN!\")"
   ]
  },
  {
   "cell_type": "code",
   "execution_count": null,
   "metadata": {},
   "outputs": [],
   "source": [
    "be_careful(1,0)"
   ]
  },
  {
   "cell_type": "code",
   "execution_count": null,
   "metadata": {},
   "outputs": [],
   "source": [
    "be_careful(1,[1,2])"
   ]
  },
  {
   "cell_type": "code",
   "execution_count": null,
   "metadata": {},
   "outputs": [],
   "source": [
    "be_careful(1,'two')"
   ]
  },
  {
   "cell_type": "code",
   "execution_count": null,
   "metadata": {},
   "outputs": [],
   "source": [
    "be_careful(16**400,1)"
   ]
  },
  {
   "cell_type": "code",
   "execution_count": null,
   "metadata": {},
   "outputs": [],
   "source": [
    "float(16**400)"
   ]
  },
  {
   "cell_type": "markdown",
   "metadata": {},
   "source": [
    "(U) We've also added the `finally` command. It will always be executed, regardless of whether there was an exception or not, so it should be used as a place to clean up anything left over from the `try` and `except` clauses, e.g. closing files that might still be open. "
   ]
  },
  {
   "cell_type": "markdown",
   "metadata": {},
   "source": [
    "## (U) Raising Exceptions \n",
    "\n",
    "(U) Sometimes, you will want to cause an exception and let someone else handle it. This can be done with the `raise` command."
   ]
  },
  {
   "cell_type": "code",
   "execution_count": null,
   "metadata": {},
   "outputs": [],
   "source": [
    "raise TypeError('You submitted the wrong type')"
   ]
  },
  {
   "cell_type": "markdown",
   "metadata": {},
   "source": [
    "(U) If no built-in exception is suitable for what you want to raise, defining a new type of exception is as easy as creating a new class that inherits from the `Exception` type."
   ]
  },
  {
   "cell_type": "code",
   "execution_count": null,
   "metadata": {},
   "outputs": [],
   "source": [
    "class MyPersonalError(Exception):\n",
    "    pass"
   ]
  },
  {
   "cell_type": "code",
   "execution_count": null,
   "metadata": {},
   "outputs": [],
   "source": [
    "raise MyPersonalError(\"I am mighty. Hear my roar!\")"
   ]
  },
  {
   "cell_type": "code",
   "execution_count": null,
   "metadata": {},
   "outputs": [],
   "source": [
    "def locater(my_location):\n",
    "    if my_location < 0:\n",
    "        raise MyPersonalError(\"I am mighty. Hear my roar!\")\n",
    "    print(my_location)"
   ]
  },
  {
   "cell_type": "code",
   "execution_count": null,
   "metadata": {},
   "outputs": [],
   "source": [
    "locater(-1)"
   ]
  },
  {
   "cell_type": "markdown",
   "metadata": {},
   "source": [
    "(U) When catching an exception and raising a different one, both exceptions will be raised (as of Python 3.3)."
   ]
  },
  {
   "cell_type": "code",
   "execution_count": null,
   "metadata": {},
   "outputs": [],
   "source": [
    "class MyException(Exception):\n",
    "    pass\n",
    "\n",
    "try:\n",
    "    int(\"abc\")\n",
    "except ValueError:\n",
    "    raise MyException(\"You can't convert text to an integer!\")"
   ]
  },
  {
   "cell_type": "markdown",
   "metadata": {},
   "source": [
    "(U) You can override this by adding the syntax `from None` to the end of your `raise` statement. "
   ]
  },
  {
   "cell_type": "code",
   "execution_count": null,
   "metadata": {},
   "outputs": [],
   "source": [
    "class MyException(Exception):\n",
    "    pass\n",
    "\n",
    "try:\n",
    "    int(\"abc\")\n",
    "except ValueError:\n",
    "    raise MyException(\"You can't convert text to an integer!\") from None"
   ]
  },
  {
   "cell_type": "markdown",
   "metadata": {},
   "source": [
    "# (U) Testing \n",
    "\n",
    "(U) There are two built-in modules that are pretty useful for testing your code. This also allows code to be tested each time it is imported so that a user on another machine would notice if certain methods did not do what they were intended to ahead of time. "
   ]
  },
  {
   "cell_type": "markdown",
   "metadata": {},
   "source": [
    "## (U) The `doctest` Module\n",
    "\n",
    "(U) The **doctest** module allows for testing of code and value assertions in the documentation of the code itself. It also works with exceptions; you just copy and paste the appropriate `Traceback` that is expected (just the first line and the actual exception string are needed). You may incorporate `doctest` into a module or script. See the official Python [documentation](https://docs.python.org/3/) for details. "
   ]
  },
  {
   "cell_type": "markdown",
   "metadata": {},
   "source": [
    "`factorial.py`\n",
    "```python\n",
    "\"\"\"\n",
    "This is the \"example\" module.\n",
    "\n",
    "The example module supplies one function, factorial(). For example,\n",
    "\n",
    ">>> factorial(5)\n",
    "120\n",
    "\"\"\"\n",
    "\n",
    "def factorial(n):\n",
    "\n",
    "    \"\"\"Return the factorial of n, an exact integer >= 0.\n",
    "\n",
    "    >>> [factorial(n) for n in range(6)]\n",
    "    [1, 1, 2, 6, 24, 120]\n",
    "    >>> factorial(30)\n",
    "    265252859812191058636308480000000\n",
    "    >>> factorial(-1)\n",
    "    Traceback (most recent call last):\n",
    "        ...\n",
    "    ValueError: n must be >= 0\n",
    "\n",
    "    Factorials of floats are OK, but the float must be an exact integer:\n",
    "    >>> factorial(30.1)\n",
    "    Traceback (most recent call last):\n",
    "        ...\n",
    "    ValueError: n must be exact integer\n",
    "    >>> factorial(30.0)\n",
    "    265252859812191058636308480000000\n",
    "\n",
    "    It must also not be ridiculously large:\n",
    "    >>> factorial(1e100)\n",
    "    Traceback (most recent call last):\n",
    "        ...\n",
    "    OverflowError: n too large\n",
    "    \"\"\"\n",
    "\n",
    "    import math\n",
    "    if not n >= 0:\n",
    "        raise ValueError(\"n must be >= 0\")\n",
    "    if math.floor(n) != n:\n",
    "        raise ValueError(\"n must be exact integer\")\n",
    "    if n+1 == n: # catch a value like 1e300\n",
    "        raise OverflowError(\"n too large\")\n",
    "    result = 1\n",
    "    factor = 2\n",
    "    while factor <= n:\n",
    "        result *= factor\n",
    "        factor += 1\n",
    "    return result\n",
    "\n",
    "if __name__ == \"__main__\": \n",
    "    import doctest \n",
    "    doctest.testmod()\n",
    "```"
   ]
  },
  {
   "cell_type": "markdown",
   "metadata": {},
   "source": [
    "(U) This lesson can be tricky to understand from the notebook. It will make the most sense if you copy and paste the above code into a file named `factorial.py`, then from the terminal run:\n",
    "\n",
    "`python factorial.py -v`\n",
    "\n",
    "Note: I've got a copy of the above code in factorial.py on the github for you.\n",
    "\n",
    "(U) Note that you don't have to include the doctest lines in your code. If you remove them, the following should work:\n",
    "\n",
    "`$ python -m doctest -v factorial.py`"
   ]
  },
  {
   "cell_type": "markdown",
   "metadata": {},
   "source": [
    "## (U) The `unittest` Module \n",
    "\n",
    "(U) The `unittest` module is much more stuctured, allowing for the developer to create a class of tests that are run and analyzed flexibly. To create a unit test for a module or script: \n",
    "\n",
    "- import `unittest` \n",
    "\n",
    "- create a test class as a subclass of the `unittest.TestCase` type \n",
    "\n",
    "- add tests as methods of this class, making sure that the **name of each test function begins with the word 'test'**\n",
    "\n",
    "- add `unittest.main()` to your main loop to run the tests "
   ]
  },
  {
   "cell_type": "markdown",
   "metadata": {},
   "source": [
    "`test_factorial.py`\n",
    "```python\n",
    "import unittest\n",
    "from factorial import factorial\n",
    "\n",
    "# ... other importsj script codej etc. ... \n",
    "\n",
    "class FactorialTests(unittest.TestCase): \n",
    "    def testSingleValue(self): \n",
    "        self.assertEqual(factorial(5), 120)\n",
    "\n",
    "    def testMultipleValues(self): \n",
    "        self.assertRaises(TypeError, factorial, [1,2,3,4])\n",
    "\n",
    "    def testBoolean(self): \n",
    "        self.assertTrue(factorial(5) == 120) \n",
    "\n",
    "def main() : \n",
    "    \"\"\"Main function for this script\"\"\" \n",
    "    unittest.main() # Chech the documentation for more verbosity Levels , etc. \n",
    "    # ... rest of main function ... \n",
    "\n",
    "if __name__ == \"__main__\":\n",
    "    main()\n",
    "```"
   ]
  },
  {
   "cell_type": "code",
   "execution_count": null,
   "metadata": {},
   "outputs": [],
   "source": [
    "import unittest \n",
    "dir(unittest.TestCase)"
   ]
  },
  {
   "cell_type": "markdown",
   "metadata": {},
   "source": [
    "# (U) Profiling \n",
    "\n",
    "(U) There are many profiling modules, but we will demonstrate the `cProfile` module from the standard library. To use it interactively, first import the module, then call it with a single argument, which must be a string that could be executed if it was typed into the interpreter. Frequently, this will be \n",
    "previously-defined function. "
   ]
  },
  {
   "cell_type": "code",
   "execution_count": null,
   "metadata": {},
   "outputs": [],
   "source": [
    "import cProfile\n",
    "\n",
    "def long(upper_limit=100000):\n",
    "    for x in range(upper_limit):\n",
    "        pass\n",
    "\n",
    "def short():\n",
    "    pass\n",
    "\n",
    "def outer(upper_limit=100000):\n",
    "    short()\n",
    "    short()\n",
    "    long()"
   ]
  },
  {
   "cell_type": "code",
   "execution_count": null,
   "metadata": {},
   "outputs": [],
   "source": [
    "cProfile.run('outer()')"
   ]
  },
  {
   "cell_type": "code",
   "execution_count": null,
   "metadata": {},
   "outputs": [],
   "source": [
    "cProfile.run('outer(10000000)')"
   ]
  },
  {
   "cell_type": "markdown",
   "metadata": {},
   "source": [
    "(U) The output shows "
   ]
  },
  {
   "cell_type": "markdown",
   "metadata": {},
   "source": [
    "```\n",
    "ncalls: the number of calls, \n",
    "tottime: the total time spent in the given function (and excluding time made in calls to sub-functions), \n",
    "percall: the quotient of tottime divided by ncalls \n",
    "cumtime: the total time spent in this and all subfunctions (from invocation till exit). This figure is accurate even for recursive functions. \n",
    "percall: the quotient of cumtime divided by primitive calls \n",
    "filename:lineno(function): provides the respective data of each function \n",
    "```"
   ]
  },
  {
   "cell_type": "markdown",
   "metadata": {},
   "source": [
    "(U) The quick and easy way to profile a whole application is just to call the `cProfile` main function with your script as an additional argument: "
   ]
  },
  {
   "cell_type": "markdown",
   "metadata": {},
   "source": [
    "```\n",
    "$ python -m cProfile myscript.py\n",
    "```"
   ]
  },
  {
   "cell_type": "markdown",
   "metadata": {},
   "source": [
    "(U) Another useful built-in profiler is `timeit`. It's well suited for quick answers to questions like \"Which is better between A and B?\" \n",
    "\n",
    "```\n",
    "$ python -m timeit \"'for i in range(100):' ' str(i)'\"\n",
    "```"
   ]
  },
  {
   "cell_type": "code",
   "execution_count": null,
   "metadata": {},
   "outputs": [],
   "source": [
    "import timeit"
   ]
  },
  {
   "cell_type": "code",
   "execution_count": null,
   "metadata": {},
   "outputs": [],
   "source": [
    "timeit.timeit('\"-\".join(str(n) for n in range(100))',number=100000)"
   ]
  },
  {
   "cell_type": "code",
   "execution_count": null,
   "metadata": {},
   "outputs": [],
   "source": [
    "mySetup = '''\n",
    "def myfunc(upper_limit=100000):\n",
    "    return range(upper_limit)\n",
    "'''\n",
    "timeit.timeit('myfunc()', number=1000, setup=mySetup)"
   ]
  },
  {
   "cell_type": "markdown",
   "metadata": {},
   "source": [
    "(U) Exercise 1: Go back to lesson 7 and grab your `RangedQuery` class. Write a custom exception and modify `RangedQuery` to raise the exception if a `RangedQuery` is created with dates not in the correct format (`YYYY-MM-DD`). How will you examine begin_date and end_date with your code to determine if they are in the correct format?"
   ]
  },
  {
   "cell_type": "code",
   "execution_count": null,
   "metadata": {},
   "outputs": [],
   "source": [
    "# Your code here"
   ]
  },
  {
   "cell_type": "markdown",
   "metadata": {},
   "source": [
    "(U) Exercise 2: Given the list of tuples: \n",
    "```\n",
    "[(\"2016-12-01\", \"2016-12-06\"),\n",
    " (\"2015-12-01\", \"2015-12-06\"),\n",
    " (\"2016-2-01\", \"2016-2-06\"),\n",
    " (\"01/03/2014\", \"02/03/2014\"), \n",
    " (\"2016-06-01\", \"2016-10-06\")]\n",
    "```\n",
    "write a loop to print a RangedQuery for each of the date ranges using:\n",
    "`\"the IP address of my friend Mark\", \"10.254.18.162\"` as your description and search_term.\n",
    "\n",
    "(U) Inside the loop, write a try/except block to catch your custom error for incorrectly formated dates. "
   ]
  },
  {
   "cell_type": "code",
   "execution_count": null,
   "metadata": {},
   "outputs": [],
   "source": [
    "# Your code here"
   ]
  },
  {
   "cell_type": "markdown",
   "metadata": {},
   "source": [
    "# UNCLASSIFIED\n",
    "\n",
    "Transcribed from FOIA Doc ID: 6689693\n",
    "\n",
    "https://archive.org/details/comp3321"
   ]
  }
 ],
 "metadata": {
  "kernelspec": {
   "display_name": "Python 3",
   "language": "python",
   "name": "python3"
  },
  "language_info": {
   "codemirror_mode": {
    "name": "ipython",
    "version": 3
   },
   "file_extension": ".py",
   "mimetype": "text/x-python",
   "name": "python",
   "nbconvert_exporter": "python",
   "pygments_lexer": "ipython3",
   "version": "3.8.2"
  }
 },
 "nbformat": 4,
 "nbformat_minor": 2
}
