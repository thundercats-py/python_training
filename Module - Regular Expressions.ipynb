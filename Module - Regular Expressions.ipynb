{
 "cells": [
  {
   "cell_type": "markdown",
   "metadata": {},
   "source": [
    "# UNCLASSIFIED\n",
    "\n",
    "Transcribed from FOIA Doc ID: 6689695\n",
    "\n",
    "https://archive.org/details/comp3321"
   ]
  },
  {
   "cell_type": "markdown",
   "metadata": {},
   "source": [
    "# (U) Regular Expressions (Regex) "
   ]
  },
  {
   "cell_type": "markdown",
   "metadata": {},
   "source": [
    "## (U) Now You’ve Got Two Problems... \n",
    "\n",
    "> Some people, when confronted with a problem, think \"I know, I'll use regular expressions.\" Now they have two \n",
    "problems. \n",
    "- Jamie Zawinski, 1997 \n",
    "\n",
    "(U) A regular expression is a tool for finding and capturing patterns in text strings. It is very powerful and can be very complicated; the second problem referred to in the quote is a commentary on how regular expressions are essentially a separate programming language. As a rule of thumb, use the in operator or string methods like `find` or `startswith` if they are suitable for the task. When things get more complicated, use regular expressions, but try to use them sparingly, like a seasoning. At times it may be tempting to write one giant, powerful, super regular expression, but that is probably not the best thing to do. \n",
    "\n",
    "(U) The power of regular expressions is found in the special characters. Some, like `^` and `$`, are roughly equivalent to string methods `startswith` and `endswith`, while others are more flexible, especially `.` and `*`, which allow flexible matching. "
   ]
  },
  {
   "cell_type": "markdown",
   "metadata": {},
   "source": [
    "## (U) Getting Stuff Done without Regex "
   ]
  },
  {
   "cell_type": "code",
   "execution_count": null,
   "metadata": {},
   "outputs": [],
   "source": [
    "\"mike\" in \"so many mikes!\""
   ]
  },
  {
   "cell_type": "code",
   "execution_count": null,
   "metadata": {},
   "outputs": [],
   "source": [
    "\"mike\".startswith(\"mi\")"
   ]
  },
  {
   "cell_type": "code",
   "execution_count": null,
   "metadata": {},
   "outputs": [],
   "source": [
    "\"mike\".endswith(\"ke\")"
   ]
  },
  {
   "cell_type": "code",
   "execution_count": null,
   "metadata": {},
   "outputs": [],
   "source": [
    "\"mike\".find(\"k\")"
   ]
  },
  {
   "cell_type": "code",
   "execution_count": null,
   "metadata": {},
   "outputs": [],
   "source": [
    "\"mike\".isalpha()"
   ]
  },
  {
   "cell_type": "code",
   "execution_count": null,
   "metadata": {},
   "outputs": [],
   "source": [
    "\"mike\".isdigit()"
   ]
  },
  {
   "cell_type": "code",
   "execution_count": null,
   "metadata": {},
   "outputs": [],
   "source": [
    "\"mike\".replace(\"k\", \"c\")"
   ]
  },
  {
   "cell_type": "markdown",
   "metadata": {},
   "source": [
    "## (U) Regular expressions in Python \n",
    "\n",
    "There are only a few common methods for using the **re** module, but they don't always do what you would first expect. Some functionality is exposed through _flags_, which are actually constants (i.e. `int` defined for the **re** module), which means that they can be combined by addition."
   ]
  },
  {
   "cell_type": "code",
   "execution_count": null,
   "metadata": {},
   "outputs": [],
   "source": [
    "import re"
   ]
  },
  {
   "cell_type": "code",
   "execution_count": null,
   "metadata": {},
   "outputs": [],
   "source": [
    "re.match(\"c\", \"abcdef\")"
   ]
  },
  {
   "cell_type": "code",
   "execution_count": null,
   "metadata": {},
   "outputs": [],
   "source": [
    "re.match(\"a\", \"abcdef\")"
   ]
  },
  {
   "cell_type": "code",
   "execution_count": null,
   "metadata": {},
   "outputs": [],
   "source": [
    "re.search(\"c\", \"abcdef\")"
   ]
  },
  {
   "cell_type": "code",
   "execution_count": null,
   "metadata": {},
   "outputs": [],
   "source": [
    "re.search(\"C\", \"abcdef\") "
   ]
  },
  {
   "cell_type": "code",
   "execution_count": null,
   "metadata": {},
   "outputs": [],
   "source": [
    "re.search(\"C\", \"abcdef\", re.I) # re.IGNORECASE"
   ]
  },
  {
   "cell_type": "code",
   "execution_count": null,
   "metadata": {},
   "outputs": [],
   "source": [
    "re.search(\"^c\", \"ab\\ncdef\")"
   ]
  },
  {
   "cell_type": "code",
   "execution_count": null,
   "metadata": {},
   "outputs": [],
   "source": [
    "re.search(\"^c\", \"ab\\ncdef\", re.M) # re.MULTILINE"
   ]
  },
  {
   "cell_type": "code",
   "execution_count": null,
   "metadata": {},
   "outputs": [],
   "source": [
    "re.search(\"^C\", \"ab\\ncdef\", re.M + re.I)"
   ]
  },
  {
   "cell_type": "markdown",
   "metadata": {},
   "source": [
    "(U) In both `match` and `search`, the _regular expression_ precedes the string to search. The difference between the two functions is that `match` works only at the beginning of the string, while `search` examines the whole string.\n",
    "\n",
    "(U) When repeatedly using the same regular expression, _compiling_ it can speed up processing. After a compiled regular expression is created, `find`, `search`, and other methods can be called on it, and given only the search string as a single argument."
   ]
  },
  {
   "cell_type": "code",
   "execution_count": null,
   "metadata": {},
   "outputs": [],
   "source": [
    "c_re = re.compile(\"c\")\n",
    "c_re.search(\"abcde\")"
   ]
  },
  {
   "cell_type": "raw",
   "metadata": {},
   "source": []
  },
  {
   "cell_type": "markdown",
   "metadata": {},
   "source": [
    "## Regex Operators \n",
    "\n",
    "```\n",
    ". - matches any character but the newline character. Wildcard\n",
    "^ - matches beginning of a string or newline\n",
    "$ - matches end of string\n",
    "* - 0 or more of something\n",
    "+ - 1 or more of something\n",
    "? - 0 or 1 of something\n",
    "*?, +?, ?? - don’t be greedy (see example below)\n",
    "{3} - match 3 of something\n",
    "{2,4} - match 2 to 4 of something\n",
    "\\ - escape character\n",
    "[lrnLRN] - match any ONE of the letters l, r, n, L, R, N\n",
    "[a-m] - match any ONE of letters from a to m\n",
    "[a|m] - match letter a or m\n",
    "\\w - match any letter, number, or underscore. Word characters\n",
    "\\W - match any character that is NOT a letter, number, or underscore\n",
    "\\s - match a space, tab, or newline character\n",
    "\\S - match any character that is NOT a space, tab, or newline character\n",
    "\\d - match a digit 0-9\n",
    "\\D - match any character that is NOT a digit 0-9\n",
    "```"
   ]
  },
  {
   "cell_type": "code",
   "execution_count": null,
   "metadata": {},
   "outputs": [],
   "source": [
    "re.search(\"\\w*s$\", \"Mike likes cheese\\nand Mike likes bees\")"
   ]
  },
  {
   "cell_type": "code",
   "execution_count": null,
   "metadata": {},
   "outputs": [],
   "source": [
    "re.findall(\"\\(\\d{3}\\)\\d{3}-\\d{4}\", \"Hello, I am a very bad terrorist. If you wanted to know, my phone number is (303)555-2345\")"
   ]
  },
  {
   "cell_type": "code",
   "execution_count": null,
   "metadata": {},
   "outputs": [],
   "source": [
    "# greedy search will match everything between the 1st 'mi' and the last 'ke'\n",
    "re.findall(\"mi.*ke\", \"i am looking for mike and not all this stuff in between mike, but micheal and ike is okay.\")"
   ]
  },
  {
   "cell_type": "code",
   "execution_count": null,
   "metadata": {},
   "outputs": [],
   "source": [
    "# the '?' tells python we want a non-greedy search. It will only match from the first 'mi' to the first 'ke'\n",
    "re.findall(\"mi.*?ke\", \"i am looking for mike and not all this stuff in between mike, but micheal and ike is okay.\")"
   ]
  },
  {
   "cell_type": "markdown",
   "metadata": {},
   "source": [
    "### Interlude\n",
    "\n",
    "How would we have recognized the bad terrorist's phone number without a regex? We could write a function that could recognize phone numbers. What would that function look like?"
   ]
  },
  {
   "cell_type": "code",
   "execution_count": null,
   "metadata": {},
   "outputs": [],
   "source": [
    "def match_phone_numbers(text):\n",
    "    if len(text) != 13:\n",
    "        return False\n",
    "    if text[0] != '(' and text[4] != ')':\n",
    "        return False\n",
    "    if text[8] != '-':\n",
    "        return False\n",
    "    for i in range(1, 4):\n",
    "        if not text[i].isdecimal():\n",
    "            return False\n",
    "    for i in range(5, 8):\n",
    "        if not text[i].isdecimal():\n",
    "            return False\n",
    "    for i in range(9, len(text)):\n",
    "        if not text[i].isdecimal():\n",
    "            return False\n",
    "    return True\n",
    "\n",
    "terror_message = \"Hello, I am a very bad terrorist. If you wanted to know, my phone number is (303)555-2345\"\n",
    "\n",
    "for word in terror_message.split():\n",
    "    if match_phone_numbers(word):\n",
    "        print('Phone number found!')\n",
    "        print(word)"
   ]
  },
  {
   "cell_type": "markdown",
   "metadata": {},
   "source": [
    "That function took up 16 lines and it can really only match phone numbers that are in the same format as our bad terrorist's number: (303)555-2345. What if there's a space between the area code and the main number? `.split()` will treat that as two separate words and we won't be able to match it. What if someone writes the area code separated from the rest of the number by a `-` instead of by parentheses `()`? The phone number is now going to be 12 characters long instead of 13 and our length check won't work anymore.\n",
    "\n",
    "There are other ways of breaking chunks of text up besides `.split()` that might help us, but regular expressions are ideal when you're looking for patterns instead of exact text because they provide the language for setting up our matches for us.\n",
    "\n",
    "Here's an example of a regular expression that will match multiple phone number formats:"
   ]
  },
  {
   "cell_type": "code",
   "execution_count": null,
   "metadata": {},
   "outputs": [],
   "source": [
    "phone_re = re.compile(r'(\\(?\\d{3}\\)?-?\\s?)?(\\d{3}-\\d{4})')"
   ]
  },
  {
   "cell_type": "code",
   "execution_count": null,
   "metadata": {},
   "outputs": [],
   "source": [
    "phone_re.search(\"Hello, I am a very bad terrorist. If you wanted to know, my phone number is 303-555-2345\")"
   ]
  },
  {
   "cell_type": "code",
   "execution_count": null,
   "metadata": {},
   "outputs": [],
   "source": [
    "phone_re.search(\"Hello, I am a very bad terrorist. If you wanted to know, my phone number is (303) 555-2345\")"
   ]
  },
  {
   "cell_type": "code",
   "execution_count": null,
   "metadata": {},
   "outputs": [],
   "source": [
    "phone_re.search(\"Hello, I am a very bad terrorist. If you wanted to know, my phone number is 555-2345\")"
   ]
  },
  {
   "cell_type": "code",
   "execution_count": null,
   "metadata": {},
   "outputs": [],
   "source": [
    "phone_re.search(\"Hello, I am a very bad terrorist. If you wanted to know, my phone number is (303)555-2345\")"
   ]
  },
  {
   "cell_type": "markdown",
   "metadata": {},
   "source": [
    "Let's look at our regular expression and break it down:\n",
    "\n",
    "`r'(\\(?\\d{3}\\)?-?\\s?)?(\\d{3}-\\d{4})'`\n",
    "\n",
    "Notice there is an `r` in front of our regular expression. It's very common to set up our regular expression patterns as raw strings since regular expression patterns usually have lots of escape characters in them. This can sometimes make things easier, especially if we need to match a literal backslash. It's probably a good idea to get in the habit of using raw strings for patterns even though it isn't always necessary.\n",
    "\n",
    "After the raw string starts we notice we have several parentheses in our pattern. Some of them are escaped with backslashes and others aren't. The escaped parenthesis characters are literal parenthesis and the non-escaped parenthesis are setting up an optional capture group. More about that in the next section, but basically most of our regular expression pattern is for matching different types of area codes and will let our pattern match a phone number that doesn't even have an area code.\n",
    "\n",
    "`(\\(?\\d{3}\\)?-?\\s?)?` is the part of our pattern that is specific to the area code. The outermost parenthesis set up the capture group for the area code and the trailing question mark makes the whole capture group optional.\n",
    "\n",
    "- `(` Start the capture group.\n",
    "- `\\(?` Optionally match a literal opening parenthesis.\n",
    "- `\\d{3}` Match three numeric characters.\n",
    "- `\\)?` Optionally match a closing parenthesis.\n",
    "- `-?` Optionally match a hyphen.\n",
    "- `\\s?` Optionally match a space.\n",
    "- `)?` Close the capture group and make the whole thing optional\n",
    "\n",
    "That takes care of the area code, but what about the remaining bits?\n",
    "\n",
    "- `(` Start a capture group for the main part of the phone number.\n",
    "- `\\d{3}` Match three numbers.\n",
    "- `-` Match a hyphen.\n",
    "- `\\d{4}` Match four numbers.\n",
    "- `)` Close our second capture group and keep it non-optional.\n",
    "\n",
    "The options in this section are not optional so something that looks like 555-1212 will always match whether there's an area code or not.\n",
    "\n",
    "This regular expression isn't perfect. It will match some weird but unlikely strings."
   ]
  },
  {
   "cell_type": "code",
   "execution_count": null,
   "metadata": {},
   "outputs": [],
   "source": [
    "phone_re.findall('These are not phone numbers: (000)- 000-0000, 000)000-0000, (000- 000-0000')"
   ]
  },
  {
   "cell_type": "markdown",
   "metadata": {},
   "source": [
    "Even though it is catching some things we might want to exclude, it should catch all American style phone numbers. We could also improve it by adding a capture group to catch country codes. Sometimes you have to decide how much tolerance you have for false positives and whether it's worth the extra effort to craft a more precise regular expression."
   ]
  },
  {
   "cell_type": "markdown",
   "metadata": {},
   "source": [
    "### Adding some logic\n",
    "\n",
    "The previous problem with area codes matching can be solved by adding some or `|` operators to match more accurately.\n",
    "\n",
    "`(\\d{3}-|\\(\\d{3}\\)\\s?)?` This capture group will capture either three digits without parens followed by a - or three digits surrounded with parenthesis and followed by an optional space.\n",
    "\n",
    "Let's try it on our bad phone numbers and some good phone numbers and see what it finds."
   ]
  },
  {
   "cell_type": "code",
   "execution_count": null,
   "metadata": {},
   "outputs": [],
   "source": [
    "phone_re = re.compile(r'(\\d{3}-|\\(\\d{3}\\)\\s?)?(\\d{3}-\\d{4})')"
   ]
  },
  {
   "cell_type": "code",
   "execution_count": null,
   "metadata": {},
   "outputs": [],
   "source": [
    "phone_nums = '(000)- 000-0000, 000)000-0000, (000- 000-0000, 555-1212, (801)555-1212, (801) 555-1212, 801-555-1212'\n",
    "\n",
    "phone_re.findall(phone_nums)"
   ]
  },
  {
   "cell_type": "markdown",
   "metadata": {},
   "source": [
    "Success? Sort of. It still matched the main parts of our invalid phone numbers because they still match but at least it excluded our invalid area codes. These days the area code isn't really optional anymore so maybe we can just drop  the question mark from that capture group and require our matches to have valid area codes. As long as the area code portion is optional it's still going to match on the valid main number. There's more we could do to fine tune this to avoid matching invalid area codes but this seems like a good place to stop and move on. Let's learn more about capture groups."
   ]
  },
  {
   "cell_type": "markdown",
   "metadata": {},
   "source": [
    "## Capture Groups \n",
    "\n",
    "Put what you want to pull out of the strings in parentheses () "
   ]
  },
  {
   "cell_type": "code",
   "execution_count": null,
   "metadata": {},
   "outputs": [],
   "source": [
    "my_string = \"python is the best language for doing 'pro'gramming\" \n",
    "result = re.findall(\"'(\\w+)\", my_string) \n",
    "print(result) \n",
    "print(result[0]) "
   ]
  },
  {
   "cell_type": "markdown",
   "metadata": {},
   "source": [
    "## Matches and Groups \n",
    "\n",
    "(U) The return value from a successful call of `match` or `search` is a _match object_; an unsuccessful call returns `None`. First, this is suitable for use in `if` statements, such as `if c_re.search(\"abcde\"): ...`. For complicated regular expressions, the match object has all the details about the substring that was matched, as well as any captured groups, i.e. regions surrounded by parentheses in the regular expression. These are available via the `group` and `groups` methods. Group 0 is always the whole matching string, after which remaining groups (which can be nested) are ordered according to the opening parenthesis. "
   ]
  },
  {
   "cell_type": "code",
   "execution_count": null,
   "metadata": {},
   "outputs": [],
   "source": [
    "m = re.match(r\"(\\w+) (\\w+)\", \"Isaac Newton, physicist\") "
   ]
  },
  {
   "cell_type": "code",
   "execution_count": null,
   "metadata": {},
   "outputs": [],
   "source": [
    "m.group() "
   ]
  },
  {
   "cell_type": "code",
   "execution_count": null,
   "metadata": {},
   "outputs": [],
   "source": [
    "m.group(1) "
   ]
  },
  {
   "cell_type": "code",
   "execution_count": null,
   "metadata": {},
   "outputs": [],
   "source": [
    "m.group(2) "
   ]
  },
  {
   "cell_type": "code",
   "execution_count": null,
   "metadata": {},
   "outputs": [],
   "source": [
    "m.groups()"
   ]
  },
  {
   "cell_type": "markdown",
   "metadata": {},
   "source": [
    "## Other Methods \n",
    "\n",
    "(U) Other regular expression methods work through all matches in the string, although what is returned is not always straightforward, especially when captured groups are involved. We demonstrate out some basic uses without captured groups. When doing more complicated things, please remember: be careful, read the documentation, and do experiments to test! "
   ]
  },
  {
   "cell_type": "code",
   "execution_count": null,
   "metadata": {},
   "outputs": [],
   "source": [
    "re.findall(\"a.c\", \"abcadcaecafc\") # returns list of strings"
   ]
  },
  {
   "cell_type": "code",
   "execution_count": null,
   "metadata": {},
   "outputs": [],
   "source": [
    "re.finditer(\"a.c\",\"abcadcaecafc\") # returns iterator of match objects"
   ]
  },
  {
   "cell_type": "code",
   "execution_count": null,
   "metadata": {},
   "outputs": [],
   "source": [
    "re.split(\"a.\", \"abcadcaecafc\") # returns list of strings."
   ]
  },
  {
   "cell_type": "markdown",
   "metadata": {},
   "source": [
    "(U) The `sub` method returns a modified copy of the target string. The first argument is the regular expression to match, the second argument is what to replace it with -- which can be another string or a function, and the third argument is the string on which the substitutions are to be carried out. If the sub method is passed a function, the function should take a single match object as an argument and return a string. For some cases, if the substitution needs to reference captured groups from the regular expression, it can do so using the syntax `\\g<number>`, which is the same as accessing the groups method within a function. "
   ]
  },
  {
   "cell_type": "code",
   "execution_count": null,
   "metadata": {},
   "outputs": [],
   "source": [
    "re.sub(\"a.*?c\", \"a--c\", \"abracadabra\")"
   ]
  },
  {
   "cell_type": "code",
   "execution_count": null,
   "metadata": {},
   "outputs": [],
   "source": [
    "re.sub(\"a(.*?)c\", \"a\\g<1>\\g<1>c\", \"abracadabra\")"
   ]
  },
  {
   "cell_type": "code",
   "execution_count": null,
   "metadata": {},
   "outputs": [],
   "source": [
    "def reverse_first_group(matchobj): \n",
    "    match = matchobj.group()\n",
    "    rev_group = matchobj.group(1)[::-1]\n",
    "    return match[:matchobj.start(1)] + rev_group + match[matchobj.end(1):]"
   ]
  },
  {
   "cell_type": "code",
   "execution_count": null,
   "metadata": {},
   "outputs": [],
   "source": [
    "re.sub(\"a(.*?)c\", reverse_first_group, \"abracadabra\")"
   ]
  },
  {
   "cell_type": "markdown",
   "metadata": {},
   "source": [
    "(U) In the above, we used `start` and `end`, which are methods on a match object that take a single numeric argument -- the group number -- and return the starting and ending indices in the string of the captured group. \n",
    "\n",
    "(U) One final warning: if a group can be captured more than once, for instance when its definition is followed by a `+` or a `*`, then only the last occurrence of the group will be captured and stored."
   ]
  },
  {
   "cell_type": "markdown",
   "metadata": {},
   "source": [
    "## Resources:\n",
    "\n",
    "- Regular Expression Tester https://regex101.com/\n",
    "    - Paste in some text to match against and see how different patterns will match against that text.\n",
    "- Python RegEx Module Documentation https://docs.python.org/3/library/re.html\n",
    "    - Read the docs.\n",
    "- The book Automate the Boring Stuff with Python has a very good chapter about regular expressions. It's available in safari books."
   ]
  },
  {
   "cell_type": "markdown",
   "metadata": {},
   "source": [
    "# UNCLASSIFIED\n",
    "\n",
    "Transcribed from FOIA Doc ID: 6689695\n",
    "\n",
    "https://archive.org/details/comp3321"
   ]
  }
 ],
 "metadata": {
  "kernelspec": {
   "display_name": "Python 3",
   "language": "python",
   "name": "python3"
  },
  "language_info": {
   "codemirror_mode": {
    "name": "ipython",
    "version": 3
   },
   "file_extension": ".py",
   "mimetype": "text/x-python",
   "name": "python",
   "nbconvert_exporter": "python",
   "pygments_lexer": "ipython3",
   "version": "3.8.2"
  },
  "varInspector": {
   "cols": {
    "lenName": 16,
    "lenType": 16,
    "lenVar": 40
   },
   "kernels_config": {
    "python": {
     "delete_cmd_postfix": "",
     "delete_cmd_prefix": "del ",
     "library": "var_list.py",
     "varRefreshCmd": "print(var_dic_list())"
    },
    "r": {
     "delete_cmd_postfix": ") ",
     "delete_cmd_prefix": "rm(",
     "library": "var_list.r",
     "varRefreshCmd": "cat(var_dic_list()) "
    }
   },
   "types_to_exclude": [
    "module",
    "function",
    "builtin_function_or_method",
    "instance",
    "_Feature"
   ],
   "window_display": false
  }
 },
 "nbformat": 4,
 "nbformat_minor": 2
}
