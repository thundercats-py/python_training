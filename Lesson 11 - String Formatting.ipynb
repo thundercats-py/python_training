{
 "cells": [
  {
   "cell_type": "markdown",
   "metadata": {},
   "source": [
    "# UNCLASSIFIED\n",
    "\n",
    "Transcribed from FOIA Doc ID: 6689693\n",
    "\n",
    "https://archive.org/details/comp3321"
   ]
  },
  {
   "cell_type": "markdown",
   "metadata": {},
   "source": [
    "# (U) Lesson 11: String Formatting "
   ]
  },
  {
   "cell_type": "markdown",
   "metadata": {},
   "source": [
    "## (U) Intro to String Formatting "
   ]
  },
  {
   "cell_type": "markdown",
   "metadata": {},
   "source": [
    "At its simplest, string formatting is a tool that lets you plug values into strings that have placeholder characters that can be replaced with values when your code runs. By itself this is useful, but there is also an entire syntax within string formatting that lets you manipulate those values in useful ways.\n",
    "\n",
    "This lesson introduces string formatting using the `.format` method of strings and shows you several examples.\n",
    "\n",
    "Then we see the format specification which shows all of the code characters that can be used inside of your placeholders to do things like align your text to the left or right, or pad numbers with leading `0`s or to specify how many decimal place values to display.\n",
    "\n",
    "We'll also have a quick introduction to f-strings which provide a more readable string formatting and are quite a bit faster than the `.format` method but need you to have your values ready to plug in before you define the string."
   ]
  },
  {
   "cell_type": "markdown",
   "metadata": {},
   "source": [
    "(U) String formatting is a very powerful way to display information to your users and yourself. We have used it through many of our examples, such as this: "
   ]
  },
  {
   "cell_type": "code",
   "execution_count": null,
   "metadata": {},
   "outputs": [],
   "source": [
    "'This is a formatted String {}'.format(\"--->hi I'm a formatted String argument<---\") "
   ]
  },
  {
   "cell_type": "markdown",
   "metadata": {},
   "source": [
    "(U) This is probably the easiest example to demonstrate. The empty curly brackets `{}` take the argument passed into `format`. \n",
    "\n",
    "(U) Here's a more complicated example: "
   ]
  },
  {
   "cell_type": "code",
   "execution_count": null,
   "metadata": {},
   "outputs": [],
   "source": [
    "'{2} {1} and {0}'.format('Henry', 'Bill', 'Bob') "
   ]
  },
  {
   "cell_type": "markdown",
   "metadata": {},
   "source": [
    "(U) Arguments can be positional, as illustrated above, or named like the example below. Order does matter, but names can help. "
   ]
  },
  {
   "cell_type": "code",
   "execution_count": null,
   "metadata": {},
   "outputs": [],
   "source": [
    "'{who} is really {what}!'.format(who='Tony', what='awesome')"
   ]
  },
  {
   "cell_type": "markdown",
   "metadata": {},
   "source": [
    "(U) You can also format lists: "
   ]
  },
  {
   "cell_type": "code",
   "execution_count": null,
   "metadata": {},
   "outputs": [],
   "source": [
    "cities = ['Dallas', 'Baltimore', 'DC', 'Austin', 'New York'] \n",
    "\n",
    "'{0[4]} is a really big city.format(cities)"
   ]
  },
  {
   "cell_type": "markdown",
   "metadata": {},
   "source": [
    "(U) And dictionaries: "
   ]
  },
  {
   "cell_type": "code",
   "execution_count": null,
   "metadata": {},
   "outputs": [],
   "source": [
    "lower_to_upper = {'a':'A', 'b':'B', 'c':'C'} \n",
    "\n",
    "\"This is a big letter {0[a]}\".format(lower_to_upper) # notice no quotes around a "
   ]
  },
  {
   "cell_type": "code",
   "execution_count": null,
   "metadata": {},
   "outputs": [],
   "source": [
    "\"This is a big letter {lookup[a]}\".format(lookup=lower_to_upper) # can be named "
   ]
  },
  {
   "cell_type": "code",
   "execution_count": null,
   "metadata": {},
   "outputs": [],
   "source": [
    "for little, big in lower_to_upper.items():\n",
    "    print('[-->{0:>10} -- {1:<10}<--]'.format(little, big)) "
   ]
  },
  {
   "cell_type": "markdown",
   "metadata": {},
   "source": [
    "(U) If you actually want to include curly brackets in your printed statement, use double brackets like this: `{{ }}`. "
   ]
  },
  {
   "cell_type": "code",
   "execution_count": null,
   "metadata": {},
   "outputs": [],
   "source": [
    "\"{{0}} {0}\".format('Where do I get printed?')"
   ]
  },
  {
   "cell_type": "markdown",
   "metadata": {},
   "source": [
    "Or you could pass a string with curly braces to .format like this:"
   ]
  },
  {
   "cell_type": "code",
   "execution_count": null,
   "metadata": {},
   "outputs": [],
   "source": [
    "\"{1} {0}\".format('Where do I get printed?', '{0}')"
   ]
  },
  {
   "cell_type": "markdown",
   "metadata": {},
   "source": [
    "(U) You can also store the format string in a variable ahead of time and use it later: "
   ]
  },
  {
   "cell_type": "code",
   "execution_count": null,
   "metadata": {},
   "outputs": [],
   "source": [
    "the_way_i_want_it = '{0:>6} = {0:>#16b} = {0:#06x}' \n",
    "\n",
    "for i in 1, 25, 458, 7890: \n",
    "    print (the_way_i_want_it.format(i))"
   ]
  },
  {
   "cell_type": "markdown",
   "metadata": {},
   "source": [
    "### (U) `.format` Field Names \n",
    "\n",
    "(U) Here are some examples of field names you can use in curly brackets within a format string. \n",
    "\n",
    "`{<field name>)`\n",
    "\n",
    "- (U) `1`: the second positional argument \n",
    "    - `\"{1}\".format(value0, value1)`\n",
    "- (U) `name`: keyword argument \n",
    "    - `\"{name}\".format(name=value)`\n",
    "- (U) `O.var`: attribute named `var` of the first positional argument \n",
    "    - `\"{0.var}\".format(value0)`\n",
    "- (U) `3[0]`: element `0` of the fourth positional argument \n",
    "    - `\"{3[0]}\".format('0', '1', '2', [0, 1, 2, 3])`\n",
    "- (U) `me_data[key]`: element associated with the specific key string `'key'` of `me_data`\n",
    "    - `\"{me_data[key]}\".format(me_data={'key': 'value'}`"
   ]
  },
  {
   "cell_type": "markdown",
   "metadata": {},
   "source": [
    "# (U) New in Python 3.6: f-strings \n",
    "\n",
    "The ability to store a string with placeholders in a variable and later call `.format` on that variable with the values you want is the one big advantage that `.format` has over f-strings. In most other ways f-strings are superior. It's easy to see where a value will be plugged in because the expression that will be printed is directly contained within the string, and f-strings are quite a bit faster than `.format`."
   ]
  },
  {
   "cell_type": "code",
   "execution_count": null,
   "metadata": {},
   "outputs": [],
   "source": [
    "# Add 'f' before the string to create an f-string \n",
    "# Expression added directly inside the '{}' brackets rather than after the format statement \n",
    "x = 34 \n",
    "y = 2 \n",
    "f\"34 * 2 = {x*y}\""
   ]
  },
  {
   "cell_type": "code",
   "execution_count": null,
   "metadata": {},
   "outputs": [],
   "source": [
    "my_name = 'Bob'"
   ]
  },
  {
   "cell_type": "code",
   "execution_count": null,
   "metadata": {},
   "outputs": [],
   "source": [
    "f\"My name is {my_name}\""
   ]
  },
  {
   "cell_type": "markdown",
   "metadata": {},
   "source": [
    "## (U) Format Specification \n",
    "\n",
    "(U) When using a format specification, it follows the field name within the curly brackets, and its elements must be in a certain order. This is only for reference; for a full description, see the Python [documentation](https://docs.python.org/3/library/string.html?highlight=string%20formatting#formatspec) on string formatting. "
   ]
  },
  {
   "cell_type": "markdown",
   "metadata": {},
   "source": [
    "`{<field name>:<format spec>}`\n",
    "\n",
    "1. (U) Padding and Alignment \n",
    "    - `>`: align right \n",
    "    - `<`: align left \n",
    "    - `=`: only for numeric types \n",
    "    - `^`: center \n",
    "\n",
    "2. (U) Sign \n",
    "    - `-`: prefix negative numbers with a minus sign \n",
    "    - `+`: like `-` but also prefix positive numbers with a `+` \n",
    "    - `' '`: like `-` but also prefix positive numbers with a space \n",
    "\n",
    "3. (U) Base Indicator (precede with a hash `#` like above) \n",
    "    - `0b`: binary \n",
    "    - `0o`: octal \n",
    "    - `0x`: hexadecimal \n",
    "\n",
    "4. (U) Digit Separator \n",
    "    - `,`: use a comma to separate thousands \n",
    "\n",
    "5. (U) Field Width \n",
    "    - leading `0`: pad with zeroes at the front\n",
    "\n",
    "6. (U) Field Type (letter telling which type of value should be formatted) \n",
    "    - `s`: string (the default) \n",
    "    - `b`: binary \n",
    "    - `d`: decimal: base 10 \n",
    "    - `o`: octal \n",
    "    - `x`: hex uses lower case letters \n",
    "    - `X`: hex uses upper case \n",
    "    - `n`: like `d`, use locale settings to determine decimal point and thousands separator \n",
    "    - None: like `d` when paired with `int` value\n",
    "    - `e`: exponential with small `e` \n",
    "    - `E`: exponential with big `E` \n",
    "    - `f`: fixed point, `nan` for not a number and `inf` for infinity \n",
    "    - `F`: same as `f` but uppercase `nan` and `inf` \n",
    "    - `g`: general format \n",
    "    - `G`: like `g` but uppercase \n",
    "    - `n`: locale settings like `g` \n",
    "    - `%`: times 100, displays as `f` with a `%` \n",
    "    - None: like `g` when paired with `float`, precision of twelve and always one spot after decimal point \n",
    "\n",
    "7. General format form\n",
    "\n",
    "```\n",
    "format_spec     ::=  [[fill]align][sign][#][0][width][grouping_option][.precision][type]\n",
    "fill            ::=  <any character>\n",
    "align           ::=  \"<\" | \">\" | \"=\" | \"^\"\n",
    "sign            ::=  \"+\" | \"-\" | \" \"\n",
    "width           ::=  digit+\n",
    "grouping_option ::=  \"_\" | \",\"\n",
    "precision       ::=  digit+\n",
    "type            ::=  \"b\" | \"c\" | \"d\" | \"e\" | \"E\" | \"f\" | \"F\" | \"g\" | \"G\" | \"n\" | \"o\" | \"s\" | \"x\" | \"X\" | \"%\"\n",
    "```"
   ]
  },
  {
   "cell_type": "markdown",
   "metadata": {},
   "source": [
    "### (U) Examples "
   ]
  },
  {
   "cell_type": "markdown",
   "metadata": {},
   "source": [
    "Here we pass in a value of `9876.5432` at `0`, and `1` and `2` are actually part of the format spec. The value `18` plugs in at `{1}` and becomes the width portion of the spec and the value `3` is plugged in at `{2}` and becomes the decimal precision portion of the spec. Notice how `{1}` and `{2}` are inside the outermost `{}`. The `f` tells python that we want the decimal place to stay where we put it (fixed point notation). Without it python will switch to exponent notation."
   ]
  },
  {
   "cell_type": "code",
   "execution_count": null,
   "metadata": {},
   "outputs": [],
   "source": [
    "'{0:{1}.{2}f}'.format(9876.5432, 18, 3) # .format"
   ]
  },
  {
   "cell_type": "code",
   "execution_count": null,
   "metadata": {},
   "outputs": [],
   "source": [
    "f'{9876.5432:{18}.{3}f}' # f-strings"
   ]
  },
  {
   "cell_type": "markdown",
   "metadata": {},
   "source": [
    "- Value: `-123.456`\n",
    "- Width: 10 padded with `0`s\n",
    "- Precision: 4 decimal places\n",
    "- `f`: fixed point notation "
   ]
  },
  {
   "cell_type": "code",
   "execution_count": null,
   "metadata": {},
   "outputs": [],
   "source": [
    "'{0:010.4f}'.format(-123.456) # .format"
   ]
  },
  {
   "cell_type": "code",
   "execution_count": null,
   "metadata": {},
   "outputs": [],
   "source": [
    "f'{-123.456:010.4f}' # f-string"
   ]
  },
  {
   "cell_type": "markdown",
   "metadata": {},
   "source": [
    "- Value: `-123.456`\n",
    "- `+`: Show sign for positive and negative values\n",
    "- Width: 10 padded with `0`s\n",
    "- Precision: 4 decimal places\n",
    "- `f`: fixed point notation "
   ]
  },
  {
   "cell_type": "code",
   "execution_count": null,
   "metadata": {},
   "outputs": [],
   "source": [
    "'{0:+010.4f}'.format(-123.456) "
   ]
  },
  {
   "cell_type": "code",
   "execution_count": null,
   "metadata": {},
   "outputs": [],
   "source": [
    "f'{-123.456:+010.4f}'"
   ]
  },
  {
   "cell_type": "markdown",
   "metadata": {},
   "source": [
    "- Value: `123.456`\n",
    "- Width: 10 with **no** leading `0`s\n",
    "- Precision: `i for i in range(1,6)`\n",
    "- `f`: fixed point notation"
   ]
  },
  {
   "cell_type": "code",
   "execution_count": null,
   "metadata": {},
   "outputs": [],
   "source": [
    "for i in range(1, 6): \n",
    "    print('{0:10.{1}f}'.format(123.456, i)) # .format"
   ]
  },
  {
   "cell_type": "code",
   "execution_count": null,
   "metadata": {},
   "outputs": [],
   "source": [
    "for i in range(1, 6): \n",
    "    print(f'{123.456:10.{i}f}') # f-strings"
   ]
  },
  {
   "cell_type": "markdown",
   "metadata": {},
   "source": [
    "Here's an example of pulling values from a dictionary by key. Notice how in the .format version you don't use quotes `\" or '` around the key names in the square brackets. This deviates from the standard dictionary key indexing. F-strings restore the normal syntax."
   ]
  },
  {
   "cell_type": "code",
   "execution_count": null,
   "metadata": {},
   "outputs": [],
   "source": [
    "v = {'value':876.543, 'width':15, 'precision':5}"
   ]
  },
  {
   "cell_type": "code",
   "execution_count": null,
   "metadata": {},
   "outputs": [],
   "source": [
    "# .format\n",
    "\"{0[value]:{0[width]}.{0[precision]}}\".format(v)"
   ]
  },
  {
   "cell_type": "code",
   "execution_count": null,
   "metadata": {},
   "outputs": [],
   "source": [
    "# f-string\n",
    "f\"{v['value']:{v['width']}.{v['precision']}}\""
   ]
  },
  {
   "cell_type": "markdown",
   "metadata": {},
   "source": [
    "Three format specs per string in the following example.\n",
    "- `name`:\n",
    "    - `<`: Align left\n",
    "    - Width of `12`\n",
    "    - `s` string data type\n",
    "- `age`:\n",
    "    - Width of `4`\n",
    "    - `d` digit data type\n",
    "- `weight`:\n",
    "    - Width of `4`\n",
    "    - `d` digit data type"
   ]
  },
  {
   "cell_type": "code",
   "execution_count": null,
   "metadata": {},
   "outputs": [],
   "source": [
    "data = [('Steve', 59, 202), ('Samantha', 49, 156), ('Dave', 61, 135)] "
   ]
  },
  {
   "cell_type": "code",
   "execution_count": null,
   "metadata": {},
   "outputs": [],
   "source": [
    "# .format\n",
    "for name, age, weight in data: \n",
    "    print('{0:<12s} {1:4d} {2:4d}'.format(name, age, weight))"
   ]
  },
  {
   "cell_type": "code",
   "execution_count": null,
   "metadata": {},
   "outputs": [],
   "source": [
    "for name, age, weight in data: \n",
    "    print(f'{name:<12s} {age:4d} {weight:4d}')"
   ]
  },
  {
   "cell_type": "markdown",
   "metadata": {},
   "source": [
    "# UNCLASSIFIED\n",
    "\n",
    "Transcribed from FOIA Doc ID: 6689693\n",
    "\n",
    "https://archive.org/details/comp3321"
   ]
  }
 ],
 "metadata": {
  "kernelspec": {
   "display_name": "Python 3",
   "language": "python",
   "name": "python3"
  },
  "language_info": {
   "codemirror_mode": {
    "name": "ipython",
    "version": 3
   },
   "file_extension": ".py",
   "mimetype": "text/x-python",
   "name": "python",
   "nbconvert_exporter": "python",
   "pygments_lexer": "ipython3",
   "version": "3.8.2"
  },
  "varInspector": {
   "cols": {
    "lenName": 16,
    "lenType": 16,
    "lenVar": 40
   },
   "kernels_config": {
    "python": {
     "delete_cmd_postfix": "",
     "delete_cmd_prefix": "del ",
     "library": "var_list.py",
     "varRefreshCmd": "print(var_dic_list())"
    },
    "r": {
     "delete_cmd_postfix": ") ",
     "delete_cmd_prefix": "rm(",
     "library": "var_list.r",
     "varRefreshCmd": "cat(var_dic_list()) "
    }
   },
   "types_to_exclude": [
    "module",
    "function",
    "builtin_function_or_method",
    "instance",
    "_Feature"
   ],
   "window_display": false
  }
 },
 "nbformat": 4,
 "nbformat_minor": 2
}
