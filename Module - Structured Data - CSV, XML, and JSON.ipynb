{
 "cells": [
  {
   "cell_type": "markdown",
   "metadata": {},
   "source": [
    "# UNCLASSIFIED\n",
    "\n",
    "Transcribed from FOIA Doc ID: 6689695\n",
    "\n",
    "https://archive.org/details/comp3321"
   ]
  },
  {
   "cell_type": "markdown",
   "metadata": {},
   "source": [
    "# (U) Setup\n",
    "\n",
    "(U) For this notebook, you will need the following files: \n",
    "\n",
    "- user_file.csv \n",
    "\n",
    "- user_file.xml\n",
    "\n",
    "Note: I had to guess at the contents of these files since they weren't included in the source materials.\n",
    "\n",
    "(U) Right-click each to download and \"Save As,\" then, from your Jupyter home, navigate to the folder containing this notebook and click the \"Upload\" button to upload each file from your local system. \n",
    "\n",
    "Note: I'm including my homemade versions of these files in the github.\n",
    "\n",
    "# (U) Introduction: It's Sad, But True \n",
    "\n",
    "(U) Much of computing involves reading and writing structured data. Too much, probably. Often that data is contained in files--not even a database. We've already worked with opening, closing, reading from, and writing to text files. We've also frequently used string methods. At first, it might seem that that's all we need to work with CSV, XML, and other structured data formats. \n",
    "\n",
    "(U) After all, what could go wrong with the following? "
   ]
  },
  {
   "cell_type": "code",
   "execution_count": null,
   "metadata": {
    "ExecuteTime": {
     "end_time": "2020-04-17T18:36:04.749202Z",
     "start_time": "2020-04-17T18:36:04.746678Z"
    }
   },
   "outputs": [],
   "source": [
    "my_csv_file = open('user_file.csv', 'r')"
   ]
  },
  {
   "cell_type": "code",
   "execution_count": null,
   "metadata": {
    "ExecuteTime": {
     "end_time": "2020-04-17T18:36:10.877457Z",
     "start_time": "2020-04-17T18:36:10.874583Z"
    }
   },
   "outputs": [],
   "source": [
    "csv_lines = my_csv_file.read().splitlines()"
   ]
  },
  {
   "cell_type": "code",
   "execution_count": null,
   "metadata": {
    "ExecuteTime": {
     "end_time": "2020-04-17T18:36:11.516631Z",
     "start_time": "2020-04-17T18:36:11.513923Z"
    }
   },
   "outputs": [],
   "source": [
    "comma_separated_records = [line.split(',') for line in csv_lines]"
   ]
  },
  {
   "cell_type": "code",
   "execution_count": null,
   "metadata": {
    "ExecuteTime": {
     "end_time": "2020-04-17T18:36:12.668611Z",
     "start_time": "2020-04-17T18:36:12.665991Z"
    }
   },
   "outputs": [],
   "source": [
    "xml_formatter = \"\"\"\n",
    "  <person>\n",
    "    <name>{}</name>\n",
    "    <address>{}</address>\n",
    "    <city>{}</city>\n",
    "    <state>{}</state>\n",
    "    <zip>{}</zip>\n",
    "    <phone>{}</phone>\n",
    "    <primary_workstation>{}</primary_workstation>\n",
    "    <username>{}</username>\n",
    "  </person>\"\"\""
   ]
  },
  {
   "cell_type": "code",
   "execution_count": null,
   "metadata": {
    "ExecuteTime": {
     "end_time": "2020-04-17T18:36:14.173113Z",
     "start_time": "2020-04-17T18:36:14.170240Z"
    }
   },
   "outputs": [],
   "source": [
    "xml_records = \"\\n\".join([xml_formatter.format(*record) for record in comma_separated_records])"
   ]
  },
  {
   "cell_type": "code",
   "execution_count": null,
   "metadata": {
    "ExecuteTime": {
     "end_time": "2020-04-17T18:36:15.603411Z",
     "start_time": "2020-04-17T18:36:15.601227Z"
    }
   },
   "outputs": [],
   "source": [
    "xml_records = \"<people>\" + xml_records + \"</people>\""
   ]
  },
  {
   "cell_type": "code",
   "execution_count": null,
   "metadata": {
    "ExecuteTime": {
     "end_time": "2020-04-17T18:36:17.277748Z",
     "start_time": "2020-04-17T18:36:17.275231Z"
    }
   },
   "outputs": [],
   "source": [
    "with open('file.xml', 'w') as f:\n",
    "    f.write(xml_records)"
   ]
  },
  {
   "cell_type": "markdown",
   "metadata": {},
   "source": [
    "(U) In a rapidly-developed prototype with controlled input, this may not cause a problem. Given the way the real world works, though, someday this little snippet from a one-off script will become the long-forgotten key component of a huge, enterprise-wide project. Somebody will try to feed it data in just the wrong way at a crucial moment, and it will fail catastrophically. \n",
    "\n",
    "(U) When that happens, you'll wish you had used a fully-developed library that would have had a better chance against the malformed data. Thankfully, there are several-and they actually aren't any harder to get started with. "
   ]
  },
  {
   "cell_type": "markdown",
   "metadata": {},
   "source": [
    "# (U) Comma Separated Values (CSV) \n",
    "\n",
    "(U) The most exciting things about the `csv` module are the `DictReader` and `Dictwriter` classes. First, let's look at the plain vanilla options for reading and writing. "
   ]
  },
  {
   "cell_type": "code",
   "execution_count": null,
   "metadata": {
    "ExecuteTime": {
     "end_time": "2020-04-17T17:26:16.662524Z",
     "start_time": "2020-04-17T17:26:16.660033Z"
    }
   },
   "outputs": [],
   "source": [
    "import csv"
   ]
  },
  {
   "cell_type": "code",
   "execution_count": null,
   "metadata": {
    "ExecuteTime": {
     "end_time": "2020-04-17T17:26:17.134497Z",
     "start_time": "2020-04-17T17:26:17.131914Z"
    }
   },
   "outputs": [],
   "source": [
    "f = open('user_file.csv')"
   ]
  },
  {
   "cell_type": "code",
   "execution_count": null,
   "metadata": {
    "ExecuteTime": {
     "end_time": "2020-04-17T17:26:18.247198Z",
     "start_time": "2020-04-17T17:26:18.244626Z"
    }
   },
   "outputs": [],
   "source": [
    "reader = csv.reader(f)"
   ]
  },
  {
   "cell_type": "code",
   "execution_count": null,
   "metadata": {
    "ExecuteTime": {
     "end_time": "2020-04-17T17:26:18.710026Z",
     "start_time": "2020-04-17T17:26:18.707671Z"
    }
   },
   "outputs": [],
   "source": [
    "header = next(reader)"
   ]
  },
  {
   "cell_type": "code",
   "execution_count": null,
   "metadata": {
    "ExecuteTime": {
     "end_time": "2020-04-17T17:26:22.045655Z",
     "start_time": "2020-04-17T17:26:22.043665Z"
    }
   },
   "outputs": [],
   "source": [
    "all_lines = [line for line in reader]"
   ]
  },
  {
   "cell_type": "code",
   "execution_count": null,
   "metadata": {
    "ExecuteTime": {
     "end_time": "2020-04-17T17:26:22.620894Z",
     "start_time": "2020-04-17T17:26:22.618948Z"
    }
   },
   "outputs": [],
   "source": [
    "all_lines.sort()"
   ]
  },
  {
   "cell_type": "code",
   "execution_count": null,
   "metadata": {
    "ExecuteTime": {
     "end_time": "2020-04-17T17:26:23.486022Z",
     "start_time": "2020-04-17T17:26:23.483390Z"
    }
   },
   "outputs": [],
   "source": [
    "g = open('user_file_sorted.csv', 'w') "
   ]
  },
  {
   "cell_type": "code",
   "execution_count": null,
   "metadata": {
    "ExecuteTime": {
     "end_time": "2020-04-17T17:26:24.285906Z",
     "start_time": "2020-04-17T17:26:24.283419Z"
    }
   },
   "outputs": [],
   "source": [
    "writer = csv.writer(g) "
   ]
  },
  {
   "cell_type": "code",
   "execution_count": null,
   "metadata": {
    "ExecuteTime": {
     "end_time": "2020-04-17T17:26:24.863690Z",
     "start_time": "2020-04-17T17:26:24.859915Z"
    }
   },
   "outputs": [],
   "source": [
    "writer.writerow(header) "
   ]
  },
  {
   "cell_type": "code",
   "execution_count": null,
   "metadata": {
    "ExecuteTime": {
     "end_time": "2020-04-17T17:26:25.654407Z",
     "start_time": "2020-04-17T17:26:25.651765Z"
    }
   },
   "outputs": [],
   "source": [
    "writer.writerows(all_lines) "
   ]
  },
  {
   "cell_type": "code",
   "execution_count": null,
   "metadata": {
    "ExecuteTime": {
     "end_time": "2020-04-17T17:26:26.358802Z",
     "start_time": "2020-04-17T17:26:26.356169Z"
    }
   },
   "outputs": [],
   "source": [
    "g.close() "
   ]
  },
  {
   "cell_type": "markdown",
   "metadata": {},
   "source": [
    "(U) CSV readers and writers have other options involving _dialects_ and _separators_. Note that the argument to `csv. reader` must be an open file (or file-like object), and the reading starts at the current cursor position. \n",
    "\n",
    "(U) Accessing categorical data positionally is not ideal. That is why `csv` also provides the `DictReader` and `Dictwriter` classes, which can also handle records with more or less in them than you expect. When given only a file as an argument, a `DictReader` uses the first line as the keys for the remaining lines; however, it is also possible to pass in `fieldnames` as an additional parameter."
   ]
  },
  {
   "cell_type": "code",
   "execution_count": null,
   "metadata": {
    "ExecuteTime": {
     "end_time": "2020-04-17T17:26:29.456614Z",
     "start_time": "2020-04-17T17:26:29.452784Z"
    }
   },
   "outputs": [],
   "source": [
    "f.seek(0)"
   ]
  },
  {
   "cell_type": "code",
   "execution_count": null,
   "metadata": {
    "ExecuteTime": {
     "end_time": "2020-04-17T17:26:30.046999Z",
     "start_time": "2020-04-17T17:26:30.044056Z"
    }
   },
   "outputs": [],
   "source": [
    "d_reader = csv.DictReader(f) "
   ]
  },
  {
   "cell_type": "code",
   "execution_count": null,
   "metadata": {
    "ExecuteTime": {
     "end_time": "2020-04-17T17:26:30.726102Z",
     "start_time": "2020-04-17T17:26:30.722995Z"
    }
   },
   "outputs": [],
   "source": [
    "records = [line for line in d_reader] "
   ]
  },
  {
   "cell_type": "code",
   "execution_count": null,
   "metadata": {
    "ExecuteTime": {
     "end_time": "2020-04-17T17:26:31.385694Z",
     "start_time": "2020-04-17T17:26:31.380465Z"
    }
   },
   "outputs": [],
   "source": [
    "records"
   ]
  },
  {
   "cell_type": "markdown",
   "metadata": {},
   "source": [
    "(U) To see the differences between reader and DictReader, look at how we might extract cities from the records in each. "
   ]
  },
  {
   "cell_type": "code",
   "execution_count": null,
   "metadata": {
    "ExecuteTime": {
     "end_time": "2020-04-17T17:26:37.830200Z",
     "start_time": "2020-04-17T17:26:37.827728Z"
    }
   },
   "outputs": [],
   "source": [
    "# for the object from csv.reader \n",
    "cities0 = [record[2] for record in all_lines]"
   ]
  },
  {
   "cell_type": "code",
   "execution_count": null,
   "metadata": {
    "ExecuteTime": {
     "end_time": "2020-04-17T17:26:39.215021Z",
     "start_time": "2020-04-17T17:26:39.212425Z"
    }
   },
   "outputs": [],
   "source": [
    "# for the object from csv.DictReader \n",
    "cities1 = [record['city'] for record in records]"
   ]
  },
  {
   "cell_type": "code",
   "execution_count": null,
   "metadata": {
    "ExecuteTime": {
     "end_time": "2020-04-17T17:26:39.871414Z",
     "start_time": "2020-04-17T17:26:39.867977Z"
    }
   },
   "outputs": [],
   "source": [
    "cities1"
   ]
  },
  {
   "cell_type": "code",
   "execution_count": null,
   "metadata": {
    "ExecuteTime": {
     "end_time": "2020-04-17T17:26:42.088343Z",
     "start_time": "2020-04-17T17:26:42.084901Z"
    }
   },
   "outputs": [],
   "source": [
    "cities0 == cities1"
   ]
  },
  {
   "cell_type": "markdown",
   "metadata": {},
   "source": [
    "(U) In a `DictWriter`, the `fieldnames` parameter is required and headers are not written by default. If you want one, add it with the `writeheader` method. If the `fieldnames` argument does not include all the fields for every dictionary passed into the `DictWriter`, the keyword argument `extrasaction` must be specified."
   ]
  },
  {
   "cell_type": "code",
   "execution_count": null,
   "metadata": {
    "ExecuteTime": {
     "end_time": "2020-04-17T17:26:46.439565Z",
     "start_time": "2020-04-17T17:26:46.436849Z"
    }
   },
   "outputs": [],
   "source": [
    "g = open('names_only.csv', 'w')"
   ]
  },
  {
   "cell_type": "code",
   "execution_count": null,
   "metadata": {
    "ExecuteTime": {
     "end_time": "2020-04-17T17:26:47.263355Z",
     "start_time": "2020-04-17T17:26:47.260409Z"
    }
   },
   "outputs": [],
   "source": [
    "d_writer = csv.DictWriter(g, ['name', 'primary_workstation'], extrasaction='ignore')"
   ]
  },
  {
   "cell_type": "code",
   "execution_count": null,
   "metadata": {
    "ExecuteTime": {
     "end_time": "2020-04-17T17:26:48.176822Z",
     "start_time": "2020-04-17T17:26:48.173443Z"
    }
   },
   "outputs": [],
   "source": [
    "d_writer.writeheader()"
   ]
  },
  {
   "cell_type": "code",
   "execution_count": null,
   "metadata": {
    "ExecuteTime": {
     "end_time": "2020-04-17T17:26:49.119619Z",
     "start_time": "2020-04-17T17:26:49.117127Z"
    }
   },
   "outputs": [],
   "source": [
    "d_writer.writerows(records)"
   ]
  },
  {
   "cell_type": "code",
   "execution_count": null,
   "metadata": {
    "ExecuteTime": {
     "end_time": "2020-04-17T17:26:50.967404Z",
     "start_time": "2020-04-17T17:26:50.964954Z"
    }
   },
   "outputs": [],
   "source": [
    "g.close()"
   ]
  },
  {
   "cell_type": "markdown",
   "metadata": {},
   "source": [
    "# (U) JavaScript Object Notation (JSON) \n",
    "\n",
    "(U) JSON is another structured data format. In many cases it looks very similar to nested Python `dict`s and `list`s. However, there are enough notable differences from those (e.g. only single quotation marks are allowed, boolean values have a lowercase initial letter) that it's wise to use a dedicated module to parse JSON data. Still, _serializing_ and _deserializing_ JSON data structures is relatively painless.\n",
    "\n",
    "(U) For this section, our example will be a list of novels:"
   ]
  },
  {
   "cell_type": "code",
   "execution_count": null,
   "metadata": {
    "ExecuteTime": {
     "end_time": "2020-04-17T17:32:56.088075Z",
     "start_time": "2020-04-17T17:32:56.085603Z"
    }
   },
   "outputs": [],
   "source": [
    "import json "
   ]
  },
  {
   "cell_type": "code",
   "execution_count": null,
   "metadata": {
    "ExecuteTime": {
     "end_time": "2020-04-17T17:32:56.866043Z",
     "start_time": "2020-04-17T17:32:56.863472Z"
    }
   },
   "outputs": [],
   "source": [
    "novel_list = []"
   ]
  },
  {
   "cell_type": "code",
   "execution_count": null,
   "metadata": {
    "ExecuteTime": {
     "end_time": "2020-04-17T17:32:58.152285Z",
     "start_time": "2020-04-17T17:32:58.149519Z"
    }
   },
   "outputs": [],
   "source": [
    "novel_list.append({'title': 'Pride and Prejudice', 'author': 'Jane Austen'}) "
   ]
  },
  {
   "cell_type": "code",
   "execution_count": null,
   "metadata": {
    "ExecuteTime": {
     "end_time": "2020-04-17T17:32:59.577282Z",
     "start_time": "2020-04-17T17:32:59.574594Z"
    }
   },
   "outputs": [],
   "source": [
    "novel_list.append({'title': 'Crime and Punishment', 'author': 'Fyodor Dostoevsky'})"
   ]
  },
  {
   "cell_type": "code",
   "execution_count": null,
   "metadata": {
    "ExecuteTime": {
     "end_time": "2020-04-17T17:33:00.794066Z",
     "start_time": "2020-04-17T17:33:00.791392Z"
    }
   },
   "outputs": [],
   "source": [
    "novel_list.append({'title': 'The Unconsoled' , 'author': 'Kazuo Ishiguro'}) "
   ]
  },
  {
   "cell_type": "code",
   "execution_count": null,
   "metadata": {
    "ExecuteTime": {
     "end_time": "2020-04-17T17:33:02.682494Z",
     "start_time": "2020-04-17T17:33:02.678794Z"
    }
   },
   "outputs": [],
   "source": [
    "json.dumps(novel_list) # to string "
   ]
  },
  {
   "cell_type": "code",
   "execution_count": null,
   "metadata": {
    "ExecuteTime": {
     "end_time": "2020-04-17T17:33:47.578926Z",
     "start_time": "2020-04-17T17:33:47.575882Z"
    }
   },
   "outputs": [],
   "source": [
    "with open('novel_list.json', 'w') as f: \n",
    "    json.dump(novel_list, f) # to file"
   ]
  },
  {
   "cell_type": "code",
   "execution_count": null,
   "metadata": {
    "ExecuteTime": {
     "end_time": "2020-04-17T17:33:51.449312Z",
     "start_time": "2020-04-17T17:33:51.446959Z"
    }
   },
   "outputs": [],
   "source": [
    "the_hobbit = '{\"title\": \"The Hobbit\", \"author\": \"J.R.R. Tolkien\"}'"
   ]
  },
  {
   "cell_type": "code",
   "execution_count": null,
   "metadata": {
    "ExecuteTime": {
     "end_time": "2020-04-17T17:33:56.506390Z",
     "start_time": "2020-04-17T17:33:56.503449Z"
    }
   },
   "outputs": [],
   "source": [
    "novel_list.append(json.loads(the_hobbit)) # from string "
   ]
  },
  {
   "cell_type": "code",
   "execution_count": null,
   "metadata": {
    "ExecuteTime": {
     "end_time": "2020-04-17T17:34:35.106947Z",
     "start_time": "2020-04-17T17:34:35.096570Z"
    }
   },
   "outputs": [],
   "source": [
    "with open('war_and_peace.json') as f: # <-- if this file existed \n",
    "    novel_list.append(json.load(f)) # from fiie "
   ]
  },
  {
   "cell_type": "markdown",
   "metadata": {},
   "source": [
    "(U) By default, the `load` and `loads` methods return Unicode strings. It's possible to use the **json** module to define custom encoders and decoders, but this is not usually required. "
   ]
  },
  {
   "cell_type": "markdown",
   "metadata": {},
   "source": [
    "# (U) Extensible Markup Language (XML) \n",
    "\n",
    "(U) This lesson is supposed to be simple, but XML is complicated. We'll cover only the basics of reading data from and writing data to files in a very basic XML format using the **ElementTree** API, which is just the most recent of at least three approaches to dealing with XML in the Python Standard Library. We will not discuss attributes or namespaces at all, which are very common features of XML. If you need to process lots of XML quickly, it's \n",
    "probably best to look outside the standard library (probably at a package called **lxml**). \n",
    "\n",
    "(U) Although there are other ways to get started, an `ElementTree` can be created from a file by initializing with the keyword argument `file`: "
   ]
  },
  {
   "cell_type": "code",
   "execution_count": null,
   "metadata": {
    "ExecuteTime": {
     "end_time": "2020-04-17T19:04:28.854323Z",
     "start_time": "2020-04-17T19:04:28.851520Z"
    }
   },
   "outputs": [],
   "source": [
    "from xml.etree import ElementTree"
   ]
  },
  {
   "cell_type": "code",
   "execution_count": null,
   "metadata": {
    "ExecuteTime": {
     "end_time": "2020-04-17T19:04:29.366726Z",
     "start_time": "2020-04-17T19:04:29.364728Z"
    }
   },
   "outputs": [],
   "source": [
    "xml_file = open('user_file.xml')"
   ]
  },
  {
   "cell_type": "code",
   "execution_count": null,
   "metadata": {
    "ExecuteTime": {
     "end_time": "2020-04-17T19:04:30.013437Z",
     "start_time": "2020-04-17T19:04:30.010166Z"
    }
   },
   "outputs": [],
   "source": [
    "user_tree = ElementTree.ElementTree(file=xml_file)"
   ]
  },
  {
   "cell_type": "markdown",
   "metadata": {},
   "source": [
    "(U) To do much of anything, it's best to pull the root element out of the `ElementTree`. Elements are iterable, so they can be expanded in list comprehensions. To see what is inside an element, the **ElementTree** module provides two class functions: `dump` (which prints to screen and returns `None`) and `tostring`. Each node has a `text` property, although in our example these are all empty except for leaf nodes. "
   ]
  },
  {
   "cell_type": "code",
   "execution_count": null,
   "metadata": {
    "ExecuteTime": {
     "end_time": "2020-04-17T19:04:31.165786Z",
     "start_time": "2020-04-17T19:04:31.163030Z"
    }
   },
   "outputs": [],
   "source": [
    "root_elt = user_tree.getroot()"
   ]
  },
  {
   "cell_type": "code",
   "execution_count": null,
   "metadata": {
    "ExecuteTime": {
     "end_time": "2020-04-17T19:04:31.973649Z",
     "start_time": "2020-04-17T19:04:31.970972Z"
    }
   },
   "outputs": [],
   "source": [
    "users = [u for u in root_elt]"
   ]
  },
  {
   "cell_type": "code",
   "execution_count": null,
   "metadata": {
    "ExecuteTime": {
     "end_time": "2020-04-17T19:04:36.559956Z",
     "start_time": "2020-04-17T19:04:36.556523Z"
    }
   },
   "outputs": [],
   "source": [
    "print(ElementTree.tostring(users[0]))"
   ]
  },
  {
   "cell_type": "code",
   "execution_count": null,
   "metadata": {
    "ExecuteTime": {
     "end_time": "2020-04-17T19:05:05.671090Z",
     "start_time": "2020-04-17T19:05:05.668255Z"
    }
   },
   "outputs": [],
   "source": [
    "u_children = [x for x in users[1]]"
   ]
  },
  {
   "cell_type": "code",
   "execution_count": null,
   "metadata": {
    "ExecuteTime": {
     "end_time": "2020-04-17T19:05:06.439439Z",
     "start_time": "2020-04-17T19:05:06.435849Z"
    }
   },
   "outputs": [],
   "source": [
    "u_children[2].text"
   ]
  },
  {
   "cell_type": "code",
   "execution_count": null,
   "metadata": {
    "ExecuteTime": {
     "end_time": "2020-04-17T19:05:13.400705Z",
     "start_time": "2020-04-17T19:05:13.397808Z"
    }
   },
   "outputs": [],
   "source": [
    "u_children[2].text = 'north-x5-1234'"
   ]
  },
  {
   "cell_type": "code",
   "execution_count": null,
   "metadata": {
    "ExecuteTime": {
     "end_time": "2020-04-17T19:05:16.338861Z",
     "start_time": "2020-04-17T19:05:16.333206Z"
    }
   },
   "outputs": [],
   "source": [
    "ElementTree.dump(users[1])"
   ]
  },
  {
   "cell_type": "markdown",
   "metadata": {},
   "source": [
    "(U) To get nested descendant elements directly, use `findall`, which returns a list of all matches, or `find`, which returns the first matched element. Note that these are the actual elements, not copies, so changes made here are visible in the whole element tree."
   ]
  },
  {
   "cell_type": "code",
   "execution_count": null,
   "metadata": {
    "ExecuteTime": {
     "end_time": "2020-04-17T19:05:40.431211Z",
     "start_time": "2020-04-17T19:05:40.428627Z"
    }
   },
   "outputs": [],
   "source": [
    "all_usernames = root_elt.findall('user/name/username')"
   ]
  },
  {
   "cell_type": "code",
   "execution_count": null,
   "metadata": {
    "ExecuteTime": {
     "end_time": "2020-04-17T19:05:41.944839Z",
     "start_time": "2020-04-17T19:05:41.941548Z"
    }
   },
   "outputs": [],
   "source": [
    "all_usernames"
   ]
  },
  {
   "cell_type": "code",
   "execution_count": null,
   "metadata": {
    "ExecuteTime": {
     "end_time": "2020-04-17T19:05:46.369154Z",
     "start_time": "2020-04-17T19:05:46.365107Z"
    }
   },
   "outputs": [],
   "source": [
    "[n.text for n in all_usernames[1:10]]"
   ]
  },
  {
   "cell_type": "markdown",
   "metadata": {},
   "source": [
    "(U) To construct an XML document: \n",
    "\n",
    "- make an `Element`, \n",
    "- `append` other `Element`s to it (repeating as necessary), \n",
    "- wrap it all up in an `ElementTree`, and \n",
    "- use the `ElementTree.write` method (which takes a file _name_, not a `file` object)."
   ]
  },
  {
   "cell_type": "code",
   "execution_count": null,
   "metadata": {
    "ExecuteTime": {
     "end_time": "2020-04-17T17:57:01.370904Z",
     "start_time": "2020-04-17T17:57:01.368342Z"
    }
   },
   "outputs": [],
   "source": [
    "apple = ElementTree.Element('apple')"
   ]
  },
  {
   "cell_type": "code",
   "execution_count": null,
   "metadata": {
    "ExecuteTime": {
     "end_time": "2020-04-17T17:57:02.354141Z",
     "start_time": "2020-04-17T17:57:02.351596Z"
    }
   },
   "outputs": [],
   "source": [
    "apple.attrib['color'] = 'red'"
   ]
  },
  {
   "cell_type": "code",
   "execution_count": null,
   "metadata": {
    "ExecuteTime": {
     "end_time": "2020-04-17T17:57:03.057976Z",
     "start_time": "2020-04-17T17:57:03.055390Z"
    }
   },
   "outputs": [],
   "source": [
    "apple.set('variety', 'honeycrisp')"
   ]
  },
  {
   "cell_type": "code",
   "execution_count": null,
   "metadata": {
    "ExecuteTime": {
     "end_time": "2020-04-17T17:57:03.657919Z",
     "start_time": "2020-04-17T17:57:03.655573Z"
    }
   },
   "outputs": [],
   "source": [
    "apple.text = \"Tasty\""
   ]
  },
  {
   "cell_type": "code",
   "execution_count": null,
   "metadata": {
    "ExecuteTime": {
     "end_time": "2020-04-17T17:57:04.217572Z",
     "start_time": "2020-04-17T17:57:04.214468Z"
    }
   },
   "outputs": [],
   "source": [
    "ElementTree.dump(apple)"
   ]
  },
  {
   "cell_type": "code",
   "execution_count": null,
   "metadata": {
    "ExecuteTime": {
     "end_time": "2020-04-17T17:57:04.778042Z",
     "start_time": "2020-04-17T17:57:04.775515Z"
    }
   },
   "outputs": [],
   "source": [
    "fruit_basket = ElementTree.Element('basket')"
   ]
  },
  {
   "cell_type": "code",
   "execution_count": null,
   "metadata": {
    "ExecuteTime": {
     "end_time": "2020-04-17T17:57:05.930542Z",
     "start_time": "2020-04-17T17:57:05.927864Z"
    }
   },
   "outputs": [],
   "source": [
    "fruit_basket.append(apple)"
   ]
  },
  {
   "cell_type": "code",
   "execution_count": null,
   "metadata": {
    "ExecuteTime": {
     "end_time": "2020-04-17T17:57:06.715315Z",
     "start_time": "2020-04-17T17:57:06.712520Z"
    }
   },
   "outputs": [],
   "source": [
    "fruit_basket.append(ElementTree.XML('<orange color=\"orange\" variety=\"navel\"></orange>'))"
   ]
  },
  {
   "cell_type": "code",
   "execution_count": null,
   "metadata": {
    "ExecuteTime": {
     "end_time": "2020-04-17T17:57:08.019500Z",
     "start_time": "2020-04-17T17:57:08.015218Z"
    }
   },
   "outputs": [],
   "source": [
    "ElementTree.dump(fruit_basket)"
   ]
  },
  {
   "cell_type": "code",
   "execution_count": null,
   "metadata": {
    "ExecuteTime": {
     "end_time": "2020-04-17T17:57:10.826311Z",
     "start_time": "2020-04-17T17:57:10.823709Z"
    }
   },
   "outputs": [],
   "source": [
    "fruit_tree = ElementTree.ElementTree(fruit_basket)"
   ]
  },
  {
   "cell_type": "code",
   "execution_count": null,
   "metadata": {
    "ExecuteTime": {
     "end_time": "2020-04-17T17:57:12.024245Z",
     "start_time": "2020-04-17T17:57:12.007636Z"
    }
   },
   "outputs": [],
   "source": [
    "fruit_tree.write('fruit_basket.xml')"
   ]
  },
  {
   "cell_type": "markdown",
   "metadata": {},
   "source": [
    "# (U) Bonus Material: Pickles and Shelves \n",
    "\n",
    "(U) At the expense of compatibility with other languages, Python also provides built-in serialization and data storage capabilities in the form of the **pickle** and **shelve** modules.\n",
    "\n",
    "**pickle** lets you seralize objects into a byte stream that can be saved to a binary file and **shelve** expands on that by letting you assign key names to those objects in a byte steam."
   ]
  },
  {
   "cell_type": "markdown",
   "metadata": {},
   "source": [
    "## (U) Pickling"
   ]
  },
  {
   "cell_type": "code",
   "execution_count": null,
   "metadata": {
    "ExecuteTime": {
     "end_time": "2020-04-17T18:03:04.089175Z",
     "start_time": "2020-04-17T18:03:04.086766Z"
    }
   },
   "outputs": [],
   "source": [
    "import pickle"
   ]
  },
  {
   "cell_type": "code",
   "execution_count": null,
   "metadata": {
    "ExecuteTime": {
     "end_time": "2020-04-17T18:03:04.907743Z",
     "start_time": "2020-04-17T18:03:04.905185Z"
    }
   },
   "outputs": [],
   "source": [
    "pickleme = {}"
   ]
  },
  {
   "cell_type": "code",
   "execution_count": null,
   "metadata": {
    "ExecuteTime": {
     "end_time": "2020-04-17T18:03:05.651828Z",
     "start_time": "2020-04-17T18:03:05.649305Z"
    }
   },
   "outputs": [],
   "source": [
    "pickleme['Title'] = 'Python is Cool'"
   ]
  },
  {
   "cell_type": "code",
   "execution_count": null,
   "metadata": {
    "ExecuteTime": {
     "end_time": "2020-04-17T18:03:06.563262Z",
     "start_time": "2020-04-17T18:03:06.560774Z"
    }
   },
   "outputs": [],
   "source": [
    "pickleme['PageCount'] = 543"
   ]
  },
  {
   "cell_type": "code",
   "execution_count": null,
   "metadata": {
    "ExecuteTime": {
     "end_time": "2020-04-17T18:03:07.346121Z",
     "start_time": "2020-04-17T18:03:07.343657Z"
    }
   },
   "outputs": [],
   "source": [
    "pickleme['Author'] = 'PythonFanboy1994'"
   ]
  },
  {
   "cell_type": "code",
   "execution_count": null,
   "metadata": {
    "ExecuteTime": {
     "end_time": "2020-04-17T18:03:08.595524Z",
     "start_time": "2020-04-17T18:03:08.592608Z"
    }
   },
   "outputs": [],
   "source": [
    "with open('/tmp/pickledData.pick', 'wb') as p:\n",
    "    p = pickle.dump(pickleme, p) "
   ]
  },
  {
   "cell_type": "code",
   "execution_count": null,
   "metadata": {
    "ExecuteTime": {
     "end_time": "2020-04-17T18:03:12.484061Z",
     "start_time": "2020-04-17T18:03:12.481188Z"
    }
   },
   "outputs": [],
   "source": [
    "with open('/tmp/pickledData.pick', 'rb') as p:\n",
    "    p = pickle.load(p) "
   ]
  },
  {
   "cell_type": "code",
   "execution_count": null,
   "metadata": {
    "ExecuteTime": {
     "end_time": "2020-04-17T18:03:15.892959Z",
     "start_time": "2020-04-17T18:03:15.889394Z"
    }
   },
   "outputs": [],
   "source": [
    "print(p)"
   ]
  },
  {
   "cell_type": "markdown",
   "metadata": {},
   "source": [
    "## (U) Shelving \n",
    "### (U) Creating a Shelve "
   ]
  },
  {
   "cell_type": "code",
   "execution_count": null,
   "metadata": {
    "ExecuteTime": {
     "end_time": "2020-04-17T18:09:27.942162Z",
     "start_time": "2020-04-17T18:09:27.939646Z"
    }
   },
   "outputs": [],
   "source": [
    "import shelve"
   ]
  },
  {
   "cell_type": "code",
   "execution_count": null,
   "metadata": {
    "ExecuteTime": {
     "end_time": "2020-04-17T18:09:28.670649Z",
     "start_time": "2020-04-17T18:09:28.668155Z"
    }
   },
   "outputs": [],
   "source": [
    "pickleme = {}"
   ]
  },
  {
   "cell_type": "code",
   "execution_count": null,
   "metadata": {
    "ExecuteTime": {
     "end_time": "2020-04-17T18:09:29.590471Z",
     "start_time": "2020-04-17T18:09:29.587869Z"
    }
   },
   "outputs": [],
   "source": [
    "pickleme['Title'] = 'Python is Cool'"
   ]
  },
  {
   "cell_type": "code",
   "execution_count": null,
   "metadata": {
    "ExecuteTime": {
     "end_time": "2020-04-17T18:09:30.326134Z",
     "start_time": "2020-04-17T18:09:30.323618Z"
    }
   },
   "outputs": [],
   "source": [
    "pickleme['PageCount'] = 543"
   ]
  },
  {
   "cell_type": "code",
   "execution_count": null,
   "metadata": {
    "ExecuteTime": {
     "end_time": "2020-04-17T18:09:31.006233Z",
     "start_time": "2020-04-17T18:09:31.004291Z"
    }
   },
   "outputs": [],
   "source": [
    "pickleme['Author'] = 'PythonFanboy1994'"
   ]
  },
  {
   "cell_type": "code",
   "execution_count": null,
   "metadata": {
    "ExecuteTime": {
     "end_time": "2020-04-17T18:09:31.694607Z",
     "start_time": "2020-04-17T18:09:31.676488Z"
    }
   },
   "outputs": [],
   "source": [
    "db = shelve.open('/tmp/shelve.dat')"
   ]
  },
  {
   "cell_type": "code",
   "execution_count": null,
   "metadata": {
    "ExecuteTime": {
     "end_time": "2020-04-17T18:09:47.655140Z",
     "start_time": "2020-04-17T18:09:47.652238Z"
    }
   },
   "outputs": [],
   "source": [
    "db['book1'] = pickleme"
   ]
  },
  {
   "cell_type": "code",
   "execution_count": null,
   "metadata": {
    "ExecuteTime": {
     "end_time": "2020-04-17T18:10:32.168195Z",
     "start_time": "2020-04-17T18:10:32.165795Z"
    }
   },
   "outputs": [],
   "source": [
    "db.sync()"
   ]
  },
  {
   "cell_type": "code",
   "execution_count": null,
   "metadata": {
    "ExecuteTime": {
     "end_time": "2020-04-17T18:10:33.609148Z",
     "start_time": "2020-04-17T18:10:33.606680Z"
    }
   },
   "outputs": [],
   "source": [
    "pickleme['Title'] = 'Python is Cool -- The Next Phase'"
   ]
  },
  {
   "cell_type": "code",
   "execution_count": null,
   "metadata": {
    "ExecuteTime": {
     "end_time": "2020-04-17T18:10:34.496069Z",
     "start_time": "2020-04-17T18:10:34.493583Z"
    }
   },
   "outputs": [],
   "source": [
    "pickleme['PageCount'] = 123"
   ]
  },
  {
   "cell_type": "code",
   "execution_count": null,
   "metadata": {
    "ExecuteTime": {
     "end_time": "2020-04-17T18:10:35.343528Z",
     "start_time": "2020-04-17T18:10:35.341002Z"
    }
   },
   "outputs": [],
   "source": [
    "pickleme['Author'] = 'PythonFanboy1994'"
   ]
  },
  {
   "cell_type": "code",
   "execution_count": null,
   "metadata": {
    "ExecuteTime": {
     "end_time": "2020-04-17T18:10:36.127689Z",
     "start_time": "2020-04-17T18:10:36.125084Z"
    }
   },
   "outputs": [],
   "source": [
    "db['book2'] = pickleme"
   ]
  },
  {
   "cell_type": "code",
   "execution_count": null,
   "metadata": {
    "ExecuteTime": {
     "end_time": "2020-04-17T18:10:37.111203Z",
     "start_time": "2020-04-17T18:10:37.108672Z"
    }
   },
   "outputs": [],
   "source": [
    "db.sync()"
   ]
  },
  {
   "cell_type": "code",
   "execution_count": null,
   "metadata": {
    "ExecuteTime": {
     "end_time": "2020-04-17T18:10:38.145804Z",
     "start_time": "2020-04-17T18:10:38.143196Z"
    }
   },
   "outputs": [],
   "source": [
    "db.close()"
   ]
  },
  {
   "cell_type": "markdown",
   "metadata": {},
   "source": [
    "### (U) Opening a Shelve "
   ]
  },
  {
   "cell_type": "code",
   "execution_count": null,
   "metadata": {
    "ExecuteTime": {
     "end_time": "2020-04-17T18:12:48.275770Z",
     "start_time": "2020-04-17T18:12:48.272710Z"
    }
   },
   "outputs": [],
   "source": [
    "db = shelve.open('/tmp/shelve.dat')"
   ]
  },
  {
   "cell_type": "code",
   "execution_count": null,
   "metadata": {
    "ExecuteTime": {
     "end_time": "2020-04-17T18:12:49.003037Z",
     "start_time": "2020-04-17T18:12:49.000434Z"
    }
   },
   "outputs": [],
   "source": [
    "z = db.keys()"
   ]
  },
  {
   "cell_type": "code",
   "execution_count": null,
   "metadata": {
    "ExecuteTime": {
     "end_time": "2020-04-17T18:12:49.709211Z",
     "start_time": "2020-04-17T18:12:49.706526Z"
    }
   },
   "outputs": [],
   "source": [
    "a = db['book1']"
   ]
  },
  {
   "cell_type": "code",
   "execution_count": null,
   "metadata": {
    "ExecuteTime": {
     "end_time": "2020-04-17T18:12:50.427071Z",
     "start_time": "2020-04-17T18:12:50.424458Z"
    }
   },
   "outputs": [],
   "source": [
    "b = db['book2']"
   ]
  },
  {
   "cell_type": "code",
   "execution_count": null,
   "metadata": {
    "ExecuteTime": {
     "end_time": "2020-04-17T18:12:51.195464Z",
     "start_time": "2020-04-17T18:12:51.192459Z"
    }
   },
   "outputs": [],
   "source": [
    "print(a)"
   ]
  },
  {
   "cell_type": "code",
   "execution_count": null,
   "metadata": {
    "ExecuteTime": {
     "end_time": "2020-04-17T18:12:53.541785Z",
     "start_time": "2020-04-17T18:12:53.538782Z"
    }
   },
   "outputs": [],
   "source": [
    "print(b)"
   ]
  },
  {
   "cell_type": "code",
   "execution_count": null,
   "metadata": {
    "ExecuteTime": {
     "end_time": "2020-04-17T18:13:54.549928Z",
     "start_time": "2020-04-17T18:13:54.546933Z"
    }
   },
   "outputs": [],
   "source": [
    "print(z)"
   ]
  },
  {
   "cell_type": "code",
   "execution_count": null,
   "metadata": {
    "ExecuteTime": {
     "end_time": "2020-04-17T18:13:52.910392Z",
     "start_time": "2020-04-17T18:13:52.907867Z"
    }
   },
   "outputs": [],
   "source": [
    "db.close()"
   ]
  },
  {
   "cell_type": "markdown",
   "metadata": {},
   "source": [
    "### (U) Modifying a Shelve "
   ]
  },
  {
   "cell_type": "code",
   "execution_count": null,
   "metadata": {
    "ExecuteTime": {
     "end_time": "2020-04-17T18:16:40.545201Z",
     "start_time": "2020-04-17T18:16:40.542370Z"
    }
   },
   "outputs": [],
   "source": [
    "db = shelve.open('/tmp/shelve.dat')"
   ]
  },
  {
   "cell_type": "code",
   "execution_count": null,
   "metadata": {
    "ExecuteTime": {
     "end_time": "2020-04-17T18:16:41.018809Z",
     "start_time": "2020-04-17T18:16:41.016267Z"
    }
   },
   "outputs": [],
   "source": [
    "z = db.keys()"
   ]
  },
  {
   "cell_type": "code",
   "execution_count": null,
   "metadata": {
    "ExecuteTime": {
     "end_time": "2020-04-17T18:16:41.802083Z",
     "start_time": "2020-04-17T18:16:41.799500Z"
    }
   },
   "outputs": [],
   "source": [
    "a = db['book1']"
   ]
  },
  {
   "cell_type": "code",
   "execution_count": null,
   "metadata": {
    "ExecuteTime": {
     "end_time": "2020-04-17T18:16:42.235538Z",
     "start_time": "2020-04-17T18:16:42.232780Z"
    }
   },
   "outputs": [],
   "source": [
    "b = db['book2']"
   ]
  },
  {
   "cell_type": "code",
   "execution_count": null,
   "metadata": {
    "ExecuteTime": {
     "end_time": "2020-04-17T18:16:43.684531Z",
     "start_time": "2020-04-17T18:16:43.681657Z"
    }
   },
   "outputs": [],
   "source": [
    "print(a)"
   ]
  },
  {
   "cell_type": "code",
   "execution_count": null,
   "metadata": {
    "ExecuteTime": {
     "end_time": "2020-04-17T18:16:45.004367Z",
     "start_time": "2020-04-17T18:16:45.001409Z"
    }
   },
   "outputs": [],
   "source": [
    "print(b)"
   ]
  },
  {
   "cell_type": "code",
   "execution_count": null,
   "metadata": {
    "ExecuteTime": {
     "end_time": "2020-04-17T18:16:17.528269Z",
     "start_time": "2020-04-17T18:16:17.525503Z"
    }
   },
   "outputs": [],
   "source": [
    "print(z)"
   ]
  },
  {
   "cell_type": "code",
   "execution_count": null,
   "metadata": {
    "ExecuteTime": {
     "end_time": "2020-04-17T18:16:26.810180Z",
     "start_time": "2020-04-17T18:16:26.806876Z"
    }
   },
   "outputs": [],
   "source": [
    "a['PageCount'] = 544"
   ]
  },
  {
   "cell_type": "code",
   "execution_count": null,
   "metadata": {
    "ExecuteTime": {
     "end_time": "2020-04-17T18:16:28.050311Z",
     "start_time": "2020-04-17T18:16:28.046916Z"
    }
   },
   "outputs": [],
   "source": [
    "b['PageCount'] = 129"
   ]
  },
  {
   "cell_type": "code",
   "execution_count": null,
   "metadata": {
    "ExecuteTime": {
     "end_time": "2020-04-17T18:16:29.201842Z",
     "start_time": "2020-04-17T18:16:29.199300Z"
    }
   },
   "outputs": [],
   "source": [
    "db['book1'] = a"
   ]
  },
  {
   "cell_type": "code",
   "execution_count": null,
   "metadata": {
    "ExecuteTime": {
     "end_time": "2020-04-17T18:16:29.993224Z",
     "start_time": "2020-04-17T18:16:29.990738Z"
    }
   },
   "outputs": [],
   "source": [
    "db['book2'] = b"
   ]
  },
  {
   "cell_type": "code",
   "execution_count": null,
   "metadata": {
    "ExecuteTime": {
     "end_time": "2020-04-17T18:16:36.946960Z",
     "start_time": "2020-04-17T18:16:36.943758Z"
    }
   },
   "outputs": [],
   "source": [
    "db.close()"
   ]
  },
  {
   "cell_type": "markdown",
   "metadata": {},
   "source": [
    "# UNCLASSIFIED\n",
    "\n",
    "Transcribed from FOIA Doc ID: 6689695\n",
    "\n",
    "https://archive.org/details/comp3321"
   ]
  }
 ],
 "metadata": {
  "kernelspec": {
   "display_name": "Python 3",
   "language": "python",
   "name": "python3"
  },
  "language_info": {
   "codemirror_mode": {
    "name": "ipython",
    "version": 3
   },
   "file_extension": ".py",
   "mimetype": "text/x-python",
   "name": "python",
   "nbconvert_exporter": "python",
   "pygments_lexer": "ipython3",
   "version": "3.8.2"
  },
  "varInspector": {
   "cols": {
    "lenName": 16,
    "lenType": 16,
    "lenVar": 40
   },
   "kernels_config": {
    "python": {
     "delete_cmd_postfix": "",
     "delete_cmd_prefix": "del ",
     "library": "var_list.py",
     "varRefreshCmd": "print(var_dic_list())"
    },
    "r": {
     "delete_cmd_postfix": ") ",
     "delete_cmd_prefix": "rm(",
     "library": "var_list.r",
     "varRefreshCmd": "cat(var_dic_list()) "
    }
   },
   "types_to_exclude": [
    "module",
    "function",
    "builtin_function_or_method",
    "instance",
    "_Feature"
   ],
   "window_display": false
  }
 },
 "nbformat": 4,
 "nbformat_minor": 2
}
