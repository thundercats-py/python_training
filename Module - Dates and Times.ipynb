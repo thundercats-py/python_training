{
 "cells": [
  {
   "cell_type": "markdown",
   "metadata": {},
   "source": [
    "# UNCLASSIFIED\n",
    "\n",
    "Transcribed from FOIA Doc ID: 6689695\n",
    "\n",
    "https://archive.org/details/comp3321"
   ]
  },
  {
   "cell_type": "markdown",
   "metadata": {},
   "source": [
    "# (U) Introduction \n",
    "\n",
    "(U) There are many great built-in tools for date and time manipulation in Python. They are spread over a few different modules, which is a little annoying.\n",
    "\n",
    "(U) That being said, the **datetime** module is very complete and the most useful, so we will concentrate on that one that most. The other one that has some nice methods is the **time** module. "
   ]
  },
  {
   "cell_type": "markdown",
   "metadata": {},
   "source": [
    "## (U) `time` Module\n",
    "\n",
    "(U) The **time** module is handy for its time accessor functions and the `sleep` command. It is most useful when you want quick access to the time but don't need to _manipulate_ it. "
   ]
  },
  {
   "cell_type": "code",
   "execution_count": null,
   "metadata": {
    "ExecuteTime": {
     "end_time": "2020-04-19T02:32:12.871271Z",
     "start_time": "2020-04-19T02:32:12.868960Z"
    }
   },
   "outputs": [],
   "source": [
    "import time"
   ]
  },
  {
   "cell_type": "code",
   "execution_count": null,
   "metadata": {
    "ExecuteTime": {
     "end_time": "2020-04-19T02:32:14.134262Z",
     "start_time": "2020-04-19T02:32:14.124924Z"
    }
   },
   "outputs": [],
   "source": [
    "time.time() # \"epoch\" time (seconds since Jan. 1st, 1970) "
   ]
  },
  {
   "cell_type": "code",
   "execution_count": null,
   "metadata": {
    "ExecuteTime": {
     "end_time": "2020-04-19T02:32:15.673674Z",
     "start_time": "2020-04-19T02:32:15.669461Z"
    }
   },
   "outputs": [],
   "source": [
    "time.gmtime() "
   ]
  },
  {
   "cell_type": "code",
   "execution_count": null,
   "metadata": {
    "ExecuteTime": {
     "end_time": "2020-04-19T02:32:31.226254Z",
     "start_time": "2020-04-19T02:32:31.222269Z"
    }
   },
   "outputs": [],
   "source": [
    "time.localtime()"
   ]
  },
  {
   "cell_type": "code",
   "execution_count": null,
   "metadata": {
    "ExecuteTime": {
     "end_time": "2020-04-19T02:32:38.169857Z",
     "start_time": "2020-04-19T02:32:38.165742Z"
    }
   },
   "outputs": [],
   "source": [
    "time.gmtime() == time.localtime()"
   ]
  },
  {
   "cell_type": "code",
   "execution_count": null,
   "metadata": {
    "ExecuteTime": {
     "end_time": "2020-04-19T02:32:41.265411Z",
     "start_time": "2020-04-19T02:32:41.261972Z"
    }
   },
   "outputs": [],
   "source": [
    "time.asctime() # will take an optional timestamp "
   ]
  },
  {
   "cell_type": "code",
   "execution_count": null,
   "metadata": {
    "ExecuteTime": {
     "end_time": "2020-04-19T02:32:58.425354Z",
     "start_time": "2020-04-19T02:32:58.421941Z"
    }
   },
   "outputs": [],
   "source": [
    "time.strftime('%c') # many formatting options here"
   ]
  },
  {
   "cell_type": "code",
   "execution_count": null,
   "metadata": {
    "ExecuteTime": {
     "end_time": "2020-04-19T02:33:13.539316Z",
     "start_time": "2020-04-19T02:33:13.534363Z"
    }
   },
   "outputs": [],
   "source": [
    "time.strptime('Tue Nov 19 07:04:38 2013')"
   ]
  },
  {
   "cell_type": "markdown",
   "metadata": {},
   "source": [
    "(U) The last method you might use from the time module is `sleep`. (Doesn't this seem out of place?)"
   ]
  },
  {
   "cell_type": "code",
   "execution_count": null,
   "metadata": {
    "ExecuteTime": {
     "end_time": "2020-04-19T02:34:32.527411Z",
     "start_time": "2020-04-19T02:34:27.519472Z"
    }
   },
   "outputs": [],
   "source": [
    "time.sleep(5) # argument is a number of seconds\n",
    "print(\"I'm awake!\")"
   ]
  },
  {
   "cell_type": "markdown",
   "metadata": {},
   "source": [
    "## (U) `datetime` Module \n",
    "\n",
    "(U) The **datetime** module is a more robust module for dates and times that is object-oriented and has a notion of datetime arithmetic.\n",
    "\n",
    "(U) There are 5 basic types that comes with the datetime module. These are: \n",
    "\n",
    "1. `date`: a type to store the date (year, month, day) using the current Gregorian calendar, \n",
    "2. `time`: a type to store the time (hour, minute, second, microsecond, tzinfo-all idealized, with no notion of leap seconds), \n",
    "3. `datetime`: a type to store both date and time together, \n",
    "4. `timedelta`: a type to store the duration or difference between two date, time, or datetime instances, and \n",
    "5. `tzinfo`: a base class for storing and using time zone information (we will not look at this). "
   ]
  },
  {
   "cell_type": "markdown",
   "metadata": {},
   "source": [
    "### (U) `date` type"
   ]
  },
  {
   "cell_type": "code",
   "execution_count": null,
   "metadata": {
    "ExecuteTime": {
     "end_time": "2020-04-19T20:08:03.393268Z",
     "start_time": "2020-04-19T20:08:03.390619Z"
    }
   },
   "outputs": [],
   "source": [
    "import datetime"
   ]
  },
  {
   "cell_type": "code",
   "execution_count": null,
   "metadata": {
    "ExecuteTime": {
     "end_time": "2020-04-19T02:37:17.583212Z",
     "start_time": "2020-04-19T02:37:17.579639Z"
    }
   },
   "outputs": [],
   "source": [
    "datetime.date(2013, 11, 19) "
   ]
  },
  {
   "cell_type": "code",
   "execution_count": null,
   "metadata": {
    "ExecuteTime": {
     "end_time": "2020-04-19T02:37:21.815672Z",
     "start_time": "2020-04-19T02:37:21.812253Z"
    }
   },
   "outputs": [],
   "source": [
    "datetime.date.today() "
   ]
  },
  {
   "cell_type": "code",
   "execution_count": null,
   "metadata": {
    "ExecuteTime": {
     "end_time": "2020-04-19T02:37:27.560447Z",
     "start_time": "2020-04-19T02:37:27.556708Z"
    }
   },
   "outputs": [],
   "source": [
    "datetime.date.fromtimestamp(time.time()) "
   ]
  },
  {
   "cell_type": "code",
   "execution_count": null,
   "metadata": {
    "ExecuteTime": {
     "end_time": "2020-04-19T02:37:32.910820Z",
     "start_time": "2020-04-19T02:37:32.908251Z"
    }
   },
   "outputs": [],
   "source": [
    "today = datetime.date.today() "
   ]
  },
  {
   "cell_type": "code",
   "execution_count": null,
   "metadata": {
    "ExecuteTime": {
     "end_time": "2020-04-19T02:37:35.431638Z",
     "start_time": "2020-04-19T02:37:35.428043Z"
    }
   },
   "outputs": [],
   "source": [
    "today.day "
   ]
  },
  {
   "cell_type": "code",
   "execution_count": null,
   "metadata": {
    "ExecuteTime": {
     "end_time": "2020-04-19T02:38:02.664094Z",
     "start_time": "2020-04-19T02:38:02.660689Z"
    }
   },
   "outputs": [],
   "source": [
    "today.month "
   ]
  },
  {
   "cell_type": "code",
   "execution_count": null,
   "metadata": {
    "ExecuteTime": {
     "end_time": "2020-04-19T02:38:03.768046Z",
     "start_time": "2020-04-19T02:38:03.764659Z"
    }
   },
   "outputs": [],
   "source": [
    "today.timetuple() "
   ]
  },
  {
   "cell_type": "code",
   "execution_count": null,
   "metadata": {
    "ExecuteTime": {
     "end_time": "2020-04-19T02:38:10.040839Z",
     "start_time": "2020-04-19T02:38:10.037112Z"
    }
   },
   "outputs": [],
   "source": [
    "today.weekday() # 0 ordered starting from Monday "
   ]
  },
  {
   "cell_type": "code",
   "execution_count": null,
   "metadata": {
    "ExecuteTime": {
     "end_time": "2020-04-19T02:38:20.552111Z",
     "start_time": "2020-04-19T02:38:20.548583Z"
    }
   },
   "outputs": [],
   "source": [
    "today.isoweekday() # 1 ordered starting from Monday "
   ]
  },
  {
   "cell_type": "code",
   "execution_count": null,
   "metadata": {
    "ExecuteTime": {
     "end_time": "2020-04-19T02:38:34.647630Z",
     "start_time": "2020-04-19T02:38:34.644952Z"
    }
   },
   "outputs": [],
   "source": [
    "print(today)"
   ]
  },
  {
   "cell_type": "code",
   "execution_count": null,
   "metadata": {
    "ExecuteTime": {
     "end_time": "2020-04-19T02:39:48.420565Z",
     "start_time": "2020-04-19T02:39:48.416600Z"
    }
   },
   "outputs": [],
   "source": [
    "today.strftime('%m/%d/%Y')"
   ]
  },
  {
   "cell_type": "markdown",
   "metadata": {},
   "source": [
    "### (U) `time` type "
   ]
  },
  {
   "cell_type": "code",
   "execution_count": null,
   "metadata": {
    "ExecuteTime": {
     "end_time": "2020-04-19T02:40:47.235262Z",
     "start_time": "2020-04-19T02:40:47.232491Z"
    }
   },
   "outputs": [],
   "source": [
    "t = datetime.time(8, 30, 50, 0) "
   ]
  },
  {
   "cell_type": "code",
   "execution_count": null,
   "metadata": {
    "ExecuteTime": {
     "end_time": "2020-04-19T02:40:50.128260Z",
     "start_time": "2020-04-19T02:40:50.070517Z"
    }
   },
   "outputs": [],
   "source": [
    "t.hour = 9 "
   ]
  },
  {
   "cell_type": "code",
   "execution_count": null,
   "metadata": {
    "ExecuteTime": {
     "end_time": "2020-04-19T02:41:07.933179Z",
     "start_time": "2020-04-19T02:41:07.929605Z"
    }
   },
   "outputs": [],
   "source": [
    "t.hour "
   ]
  },
  {
   "cell_type": "code",
   "execution_count": null,
   "metadata": {
    "ExecuteTime": {
     "end_time": "2020-04-19T02:41:09.509096Z",
     "start_time": "2020-04-19T02:41:09.505506Z"
    }
   },
   "outputs": [],
   "source": [
    "t.minute "
   ]
  },
  {
   "cell_type": "code",
   "execution_count": null,
   "metadata": {
    "ExecuteTime": {
     "end_time": "2020-04-19T02:41:10.565228Z",
     "start_time": "2020-04-19T02:41:10.561608Z"
    }
   },
   "outputs": [],
   "source": [
    "t.second "
   ]
  },
  {
   "cell_type": "code",
   "execution_count": null,
   "metadata": {
    "ExecuteTime": {
     "end_time": "2020-04-19T02:41:53.071324Z",
     "start_time": "2020-04-19T02:41:53.068186Z"
    }
   },
   "outputs": [],
   "source": [
    "print(t)"
   ]
  },
  {
   "cell_type": "code",
   "execution_count": null,
   "metadata": {
    "ExecuteTime": {
     "end_time": "2020-04-19T02:41:54.869969Z",
     "start_time": "2020-04-19T02:41:54.866373Z"
    }
   },
   "outputs": [],
   "source": [
    "print(t.replace(hour=12))"
   ]
  },
  {
   "cell_type": "code",
   "execution_count": null,
   "metadata": {
    "ExecuteTime": {
     "end_time": "2020-04-19T02:42:02.453994Z",
     "start_time": "2020-04-19T02:42:02.450527Z"
    }
   },
   "outputs": [],
   "source": [
    "print(t)"
   ]
  },
  {
   "cell_type": "markdown",
   "metadata": {},
   "source": [
    "### (U) `datetime` type "
   ]
  },
  {
   "cell_type": "code",
   "execution_count": null,
   "metadata": {
    "ExecuteTime": {
     "end_time": "2020-04-19T02:45:58.137485Z",
     "start_time": "2020-04-19T02:45:58.134587Z"
    }
   },
   "outputs": [],
   "source": [
    "dt = datetime.datetime(2013, 11, 19, 8, 30, 50, 0)"
   ]
  },
  {
   "cell_type": "code",
   "execution_count": null,
   "metadata": {
    "ExecuteTime": {
     "end_time": "2020-04-19T02:46:01.587043Z",
     "start_time": "2020-04-19T02:46:01.584224Z"
    }
   },
   "outputs": [],
   "source": [
    "print(dt)"
   ]
  },
  {
   "cell_type": "code",
   "execution_count": null,
   "metadata": {
    "ExecuteTime": {
     "end_time": "2020-04-19T02:46:27.915639Z",
     "start_time": "2020-04-19T02:46:27.911789Z"
    }
   },
   "outputs": [],
   "source": [
    "datetime.datetime.fromtimestamp(time.time())"
   ]
  },
  {
   "cell_type": "code",
   "execution_count": null,
   "metadata": {
    "ExecuteTime": {
     "end_time": "2020-04-19T02:46:37.601735Z",
     "start_time": "2020-04-19T02:46:37.599021Z"
    }
   },
   "outputs": [],
   "source": [
    "now = datetime.datetime.now()"
   ]
  },
  {
   "cell_type": "markdown",
   "metadata": {},
   "source": [
    "(U) We can break apart the `datetime` object into `date` and `time` objects. We can also combine `date` and `time` objects into one `datetime` object."
   ]
  },
  {
   "cell_type": "code",
   "execution_count": null,
   "metadata": {
    "ExecuteTime": {
     "end_time": "2020-04-19T02:48:19.974270Z",
     "start_time": "2020-04-19T02:48:19.970741Z"
    }
   },
   "outputs": [],
   "source": [
    "now.date() "
   ]
  },
  {
   "cell_type": "code",
   "execution_count": null,
   "metadata": {
    "ExecuteTime": {
     "end_time": "2020-04-19T02:48:21.790136Z",
     "start_time": "2020-04-19T02:48:21.787074Z"
    }
   },
   "outputs": [],
   "source": [
    "print(now.date()) "
   ]
  },
  {
   "cell_type": "code",
   "execution_count": null,
   "metadata": {
    "ExecuteTime": {
     "end_time": "2020-04-19T02:48:24.184383Z",
     "start_time": "2020-04-19T02:48:24.181106Z"
    }
   },
   "outputs": [],
   "source": [
    "print(now.time()) "
   ]
  },
  {
   "cell_type": "code",
   "execution_count": null,
   "metadata": {
    "ExecuteTime": {
     "end_time": "2020-04-19T02:48:34.606044Z",
     "start_time": "2020-04-19T02:48:34.603280Z"
    }
   },
   "outputs": [],
   "source": [
    "day = datetime.date(2011, 12, 30) "
   ]
  },
  {
   "cell_type": "code",
   "execution_count": null,
   "metadata": {
    "ExecuteTime": {
     "end_time": "2020-04-19T02:48:36.503295Z",
     "start_time": "2020-04-19T02:48:36.500220Z"
    }
   },
   "outputs": [],
   "source": [
    "t = datetime.time(2, 30, 38) "
   ]
  },
  {
   "cell_type": "code",
   "execution_count": null,
   "metadata": {
    "ExecuteTime": {
     "end_time": "2020-04-19T02:48:37.614792Z",
     "start_time": "2020-04-19T02:48:37.611293Z"
    }
   },
   "outputs": [],
   "source": [
    "day "
   ]
  },
  {
   "cell_type": "code",
   "execution_count": null,
   "metadata": {
    "ExecuteTime": {
     "end_time": "2020-04-19T02:48:40.015345Z",
     "start_time": "2020-04-19T02:48:40.012054Z"
    }
   },
   "outputs": [],
   "source": [
    "t "
   ]
  },
  {
   "cell_type": "code",
   "execution_count": null,
   "metadata": {
    "ExecuteTime": {
     "end_time": "2020-04-19T02:48:46.334416Z",
     "start_time": "2020-04-19T02:48:46.331705Z"
    }
   },
   "outputs": [],
   "source": [
    "dt = datetime.datetime.combine(day,t) "
   ]
  },
  {
   "cell_type": "code",
   "execution_count": null,
   "metadata": {
    "ExecuteTime": {
     "end_time": "2020-04-19T02:48:47.758930Z",
     "start_time": "2020-04-19T02:48:47.755937Z"
    }
   },
   "outputs": [],
   "source": [
    "print(dt)"
   ]
  },
  {
   "cell_type": "markdown",
   "metadata": {},
   "source": [
    "### (U) timedelta type \n",
    "\n",
    "(U) The best part of the **datetime** module is date arithmetic. What do you get when you subtract two dates? "
   ]
  },
  {
   "cell_type": "code",
   "execution_count": null,
   "metadata": {
    "ExecuteTime": {
     "end_time": "2020-04-19T02:50:29.257614Z",
     "start_time": "2020-04-19T02:50:29.254942Z"
    }
   },
   "outputs": [],
   "source": [
    "day1 = datetime.datetime(2013, 10, 30)"
   ]
  },
  {
   "cell_type": "code",
   "execution_count": null,
   "metadata": {
    "ExecuteTime": {
     "end_time": "2020-04-19T02:50:31.559530Z",
     "start_time": "2020-04-19T02:50:31.557314Z"
    }
   },
   "outputs": [],
   "source": [
    "day2 = datetime.datetime(2013, 9, 20)"
   ]
  },
  {
   "cell_type": "code",
   "execution_count": null,
   "metadata": {
    "ExecuteTime": {
     "end_time": "2020-04-19T02:50:32.178431Z",
     "start_time": "2020-04-19T02:50:32.175729Z"
    }
   },
   "outputs": [],
   "source": [
    "day1 - day2"
   ]
  },
  {
   "cell_type": "code",
   "execution_count": null,
   "metadata": {
    "ExecuteTime": {
     "end_time": "2020-04-19T02:50:33.953090Z",
     "start_time": "2020-04-19T02:50:33.950503Z"
    }
   },
   "outputs": [],
   "source": [
    "print(day1 - day2)"
   ]
  },
  {
   "cell_type": "code",
   "execution_count": null,
   "metadata": {
    "ExecuteTime": {
     "end_time": "2020-04-19T02:50:36.633311Z",
     "start_time": "2020-04-19T02:50:36.630680Z"
    }
   },
   "outputs": [],
   "source": [
    "print(day2 - day1)"
   ]
  },
  {
   "cell_type": "code",
   "execution_count": null,
   "metadata": {
    "ExecuteTime": {
     "end_time": "2020-04-19T02:50:56.222136Z",
     "start_time": "2020-04-19T02:50:56.215427Z"
    }
   },
   "outputs": [],
   "source": [
    "print(day1 + day2) # Of course not...that doesn't make sense :)"
   ]
  },
  {
   "cell_type": "markdown",
   "metadata": {},
   "source": [
    "(U) The `timedelta` type is a measure of duration between two time events. So, if we subtract two `datetime` objects (or `date` or `time`) as we did above, we get a `timedelta` object. The properties of a `timedelta` object are (`days`, `seconds`, `microseconds`, `milliseconds`, `minutes`, `hours`, `weeks`). They are all optional and set to 0 by default. A `timedelta` object can take these values as arguments but converts and normalizes the data into days, seconds, and microseconds. "
   ]
  },
  {
   "cell_type": "code",
   "execution_count": null,
   "metadata": {
    "ExecuteTime": {
     "end_time": "2020-04-19T02:53:55.238861Z",
     "start_time": "2020-04-19T02:53:55.236364Z"
    }
   },
   "outputs": [],
   "source": [
    "from datetime import timedelta"
   ]
  },
  {
   "cell_type": "code",
   "execution_count": null,
   "metadata": {
    "ExecuteTime": {
     "end_time": "2020-04-19T02:53:57.296119Z",
     "start_time": "2020-04-19T02:53:57.293344Z"
    }
   },
   "outputs": [],
   "source": [
    "day = timedelta(days=1) "
   ]
  },
  {
   "cell_type": "code",
   "execution_count": null,
   "metadata": {
    "ExecuteTime": {
     "end_time": "2020-04-19T02:53:59.759790Z",
     "start_time": "2020-04-19T02:53:59.755907Z"
    }
   },
   "outputs": [],
   "source": [
    "day"
   ]
  },
  {
   "cell_type": "code",
   "execution_count": null,
   "metadata": {
    "ExecuteTime": {
     "end_time": "2020-04-19T02:54:04.415543Z",
     "start_time": "2020-04-19T02:54:04.412839Z"
    }
   },
   "outputs": [],
   "source": [
    "now = datetime.datetime.now() "
   ]
  },
  {
   "cell_type": "code",
   "execution_count": null,
   "metadata": {
    "ExecuteTime": {
     "end_time": "2020-04-19T02:54:06.488464Z",
     "start_time": "2020-04-19T02:54:06.484855Z"
    }
   },
   "outputs": [],
   "source": [
    "now + day "
   ]
  },
  {
   "cell_type": "code",
   "execution_count": null,
   "metadata": {
    "ExecuteTime": {
     "end_time": "2020-04-19T02:54:09.656496Z",
     "start_time": "2020-04-19T02:54:09.652788Z"
    }
   },
   "outputs": [],
   "source": [
    "now - day "
   ]
  },
  {
   "cell_type": "code",
   "execution_count": null,
   "metadata": {
    "ExecuteTime": {
     "end_time": "2020-04-19T02:54:23.160561Z",
     "start_time": "2020-04-19T02:54:23.156751Z"
    }
   },
   "outputs": [],
   "source": [
    "now + 300 * day "
   ]
  },
  {
   "cell_type": "code",
   "execution_count": null,
   "metadata": {
    "ExecuteTime": {
     "end_time": "2020-04-19T02:54:41.369120Z",
     "start_time": "2020-04-19T02:54:41.365147Z"
    }
   },
   "outputs": [],
   "source": [
    "now - 175 * day"
   ]
  },
  {
   "cell_type": "code",
   "execution_count": null,
   "metadata": {
    "ExecuteTime": {
     "end_time": "2020-04-19T02:56:07.762841Z",
     "start_time": "2020-04-19T02:56:07.760061Z"
    }
   },
   "outputs": [],
   "source": [
    "year = timedelta(days=365)"
   ]
  },
  {
   "cell_type": "code",
   "execution_count": null,
   "metadata": {
    "ExecuteTime": {
     "end_time": "2020-04-19T02:54:56.297218Z",
     "start_time": "2020-04-19T02:54:56.293748Z"
    }
   },
   "outputs": [],
   "source": [
    "another_year = timedelta(weeks=40, days=84, hours=23, minutes=50, seconds=600)"
   ]
  },
  {
   "cell_type": "code",
   "execution_count": null,
   "metadata": {
    "ExecuteTime": {
     "end_time": "2020-04-19T02:55:01.545582Z",
     "start_time": "2020-04-19T02:55:01.541910Z"
    }
   },
   "outputs": [],
   "source": [
    "year == another_year"
   ]
  },
  {
   "cell_type": "code",
   "execution_count": null,
   "metadata": {
    "ExecuteTime": {
     "end_time": "2020-04-19T02:55:05.466880Z",
     "start_time": "2020-04-19T02:55:05.463239Z"
    }
   },
   "outputs": [],
   "source": [
    "year.total_seconds()"
   ]
  },
  {
   "cell_type": "code",
   "execution_count": null,
   "metadata": {
    "ExecuteTime": {
     "end_time": "2020-04-19T02:56:09.994907Z",
     "start_time": "2020-04-19T02:56:09.991175Z"
    }
   },
   "outputs": [],
   "source": [
    "ten_years = 10 * year\n",
    "ten_years"
   ]
  },
  {
   "cell_type": "markdown",
   "metadata": {},
   "source": [
    "## (U) Conversions \n",
    "\n",
    "(U) It's easy to get confused when attempting to convert back and forth between strings, numbers, `time`s, and `datetime`s. When you need to do it, the best course of action is probably to open up an interactive session, fiddle around until you have what you need, then capture that in a well named function. Still, some pointers may be helpful. \n",
    "\n",
    "(U) Objects of types `time` and `datetime` provide `strptime` and `strftime` methods for reading times and dates from strings (a.k.a. ***p***arsing) and converting to strings (a.k.a. ***f***ormatting), respectively. These methods employ a [syntax](https://docs.python.org/3/library/datetime.html#strftime-strptime-behavior) that is shared across many programming languages."
   ]
  },
  {
   "cell_type": "markdown",
   "metadata": {},
   "source": [
    "# Missing pages!\n",
    "\n",
    "I've done my best to fill in the blanks here. The source material above this point was starting to discuss how to convert dates and times to various formats using strftime and how to read those formats back into datetime, time, and date objects using strptime.\n",
    "\n",
    "The source material picks back up after the gap with some examples of converting between timezones. I'm not sure what else might have been missing between those two subjects."
   ]
  },
  {
   "cell_type": "markdown",
   "metadata": {},
   "source": [
    "## `strftime()` and `strptime()` Format Codes\n",
    "\n",
    "The following is a list of all the format codes accepted by the `strftime()` and `strptime()` methods. This table is found in the python documentation [here](https://docs.python.org/3/library/datetime.html#strftime-and-strptime-format-codes).\n",
    "\n",
    "<table class=\"docutils align-default\">\n",
    "<colgroup>\n",
    "<col style=\"width: 15%\">\n",
    "<col style=\"width: 43%\">\n",
    "<col style=\"width: 32%\">\n",
    "<col style=\"width: 9%\">\n",
    "</colgroup>\n",
    "<thead>\n",
    "<tr class=\"row-odd\"><th class=\"head\"><p>Directive</p></th>\n",
    "<th class=\"head\"><p>Meaning</p></th>\n",
    "<th class=\"head\"><p>Example</p></th>\n",
    "<th class=\"head\"><p>Notes</p></th>\n",
    "</tr>\n",
    "</thead>\n",
    "<tbody>\n",
    "<tr class=\"row-even\"><td><p><code class=\"docutils literal notranslate\"><span class=\"pre\">%a</span></code></p></td>\n",
    "<td><p>Weekday as locale’s\n",
    "abbreviated name.</p></td>\n",
    "<td><div class=\"line-block\">\n",
    "<div class=\"line\">Sun, Mon, …, Sat\n",
    "(en_US);</div>\n",
    "<div class=\"line\">So, Mo, …, Sa\n",
    "(de_DE)</div>\n",
    "</div>\n",
    "</td>\n",
    "<td><p>(1)</p></td>\n",
    "</tr>\n",
    "<tr class=\"row-odd\"><td><p><code class=\"docutils literal notranslate\"><span class=\"pre\">%A</span></code></p></td>\n",
    "<td><p>Weekday as locale’s full name.</p></td>\n",
    "<td><div class=\"line-block\">\n",
    "<div class=\"line\">Sunday, Monday, …,\n",
    "Saturday (en_US);</div>\n",
    "<div class=\"line\">Sonntag, Montag, …,\n",
    "Samstag (de_DE)</div>\n",
    "</div>\n",
    "</td>\n",
    "<td><p>(1)</p></td>\n",
    "</tr>\n",
    "<tr class=\"row-even\"><td><p><code class=\"docutils literal notranslate\"><span class=\"pre\">%w</span></code></p></td>\n",
    "<td><p>Weekday as a decimal number,\n",
    "where 0 is Sunday and 6 is\n",
    "Saturday.</p></td>\n",
    "<td><p>0, 1, …, 6</p></td>\n",
    "<td></td>\n",
    "</tr>\n",
    "<tr class=\"row-odd\"><td><p><code class=\"docutils literal notranslate\"><span class=\"pre\">%d</span></code></p></td>\n",
    "<td><p>Day of the month as a\n",
    "zero-padded decimal number.</p></td>\n",
    "<td><p>01, 02, …, 31</p></td>\n",
    "<td><p>(9)</p></td>\n",
    "</tr>\n",
    "<tr class=\"row-even\"><td><p><code class=\"docutils literal notranslate\"><span class=\"pre\">%b</span></code></p></td>\n",
    "<td><p>Month as locale’s abbreviated\n",
    "name.</p></td>\n",
    "<td><div class=\"line-block\">\n",
    "<div class=\"line\">Jan, Feb, …, Dec\n",
    "(en_US);</div>\n",
    "<div class=\"line\">Jan, Feb, …, Dez\n",
    "(de_DE)</div>\n",
    "</div>\n",
    "</td>\n",
    "<td><p>(1)</p></td>\n",
    "</tr>\n",
    "<tr class=\"row-odd\"><td><p><code class=\"docutils literal notranslate\"><span class=\"pre\">%B</span></code></p></td>\n",
    "<td><p>Month as locale’s full name.</p></td>\n",
    "<td><div class=\"line-block\">\n",
    "<div class=\"line\">January, February,\n",
    "…, December (en_US);</div>\n",
    "<div class=\"line\">Januar, Februar, …,\n",
    "Dezember (de_DE)</div>\n",
    "</div>\n",
    "</td>\n",
    "<td><p>(1)</p></td>\n",
    "</tr>\n",
    "<tr class=\"row-even\"><td><p><code class=\"docutils literal notranslate\"><span class=\"pre\">%m</span></code></p></td>\n",
    "<td><p>Month as a zero-padded\n",
    "decimal number.</p></td>\n",
    "<td><p>01, 02, …, 12</p></td>\n",
    "<td><p>(9)</p></td>\n",
    "</tr>\n",
    "<tr class=\"row-odd\"><td><p><code class=\"docutils literal notranslate\"><span class=\"pre\">%y</span></code></p></td>\n",
    "<td><p>Year without century as a\n",
    "zero-padded decimal number.</p></td>\n",
    "<td><p>00, 01, …, 99</p></td>\n",
    "<td><p>(9)</p></td>\n",
    "</tr>\n",
    "<tr class=\"row-even\"><td><p><code class=\"docutils literal notranslate\"><span class=\"pre\">%Y</span></code></p></td>\n",
    "<td><p>Year with century as a decimal\n",
    "number.</p></td>\n",
    "<td><p>0001, 0002, …, 2013,\n",
    "2014, …, 9998, 9999</p></td>\n",
    "<td><p>(2)</p></td>\n",
    "</tr>\n",
    "<tr class=\"row-odd\"><td><p><code class=\"docutils literal notranslate\"><span class=\"pre\">%H</span></code></p></td>\n",
    "<td><p>Hour (24-hour clock) as a\n",
    "zero-padded decimal number.</p></td>\n",
    "<td><p>00, 01, …, 23</p></td>\n",
    "<td><p>(9)</p></td>\n",
    "</tr>\n",
    "<tr class=\"row-even\"><td><p><code class=\"docutils literal notranslate\"><span class=\"pre\">%I</span></code></p></td>\n",
    "<td><p>Hour (12-hour clock) as a\n",
    "zero-padded decimal number.</p></td>\n",
    "<td><p>01, 02, …, 12</p></td>\n",
    "<td><p>(9)</p></td>\n",
    "</tr>\n",
    "<tr class=\"row-odd\"><td><p><code class=\"docutils literal notranslate\"><span class=\"pre\">%p</span></code></p></td>\n",
    "<td><p>Locale’s equivalent of either\n",
    "AM or PM.</p></td>\n",
    "<td><div class=\"line-block\">\n",
    "<div class=\"line\">AM, PM (en_US);</div>\n",
    "<div class=\"line\">am, pm (de_DE)</div>\n",
    "</div>\n",
    "</td>\n",
    "<td><p>(1),\n",
    "(3)</p></td>\n",
    "</tr>\n",
    "<tr class=\"row-even\"><td><p><code class=\"docutils literal notranslate\"><span class=\"pre\">%M</span></code></p></td>\n",
    "<td><p>Minute as a zero-padded\n",
    "decimal number.</p></td>\n",
    "<td><p>00, 01, …, 59</p></td>\n",
    "<td><p>(9)</p></td>\n",
    "</tr>\n",
    "<tr class=\"row-odd\"><td><p><code class=\"docutils literal notranslate\"><span class=\"pre\">%S</span></code></p></td>\n",
    "<td><p>Second as a zero-padded\n",
    "decimal number.</p></td>\n",
    "<td><p>00, 01, …, 59</p></td>\n",
    "<td><p>(4),\n",
    "(9)</p></td>\n",
    "</tr>\n",
    "<tr class=\"row-even\"><td><p><code class=\"docutils literal notranslate\"><span class=\"pre\">%f</span></code></p></td>\n",
    "<td><p>Microsecond as a decimal\n",
    "number, zero-padded on the\n",
    "left.</p></td>\n",
    "<td><p>000000, 000001, …,\n",
    "999999</p></td>\n",
    "<td><p>(5)</p></td>\n",
    "</tr>\n",
    "<tr class=\"row-odd\"><td><p><code class=\"docutils literal notranslate\"><span class=\"pre\">%z</span></code></p></td>\n",
    "<td><p>UTC offset in the form\n",
    "<code class=\"docutils literal notranslate\"><span class=\"pre\">±HHMM[SS[.ffffff]]</span></code> (empty\n",
    "string if the object is\n",
    "naive).</p></td>\n",
    "<td><p>(empty), +0000,\n",
    "-0400, +1030,\n",
    "+063415,\n",
    "-030712.345216</p></td>\n",
    "<td><p>(6)</p></td>\n",
    "</tr>\n",
    "<tr class=\"row-even\"><td><p><code class=\"docutils literal notranslate\"><span class=\"pre\">%Z</span></code></p></td>\n",
    "<td><p>Time zone name (empty string\n",
    "if the object is naive).</p></td>\n",
    "<td><p>(empty), UTC, EST, CST</p></td>\n",
    "<td></td>\n",
    "</tr>\n",
    "<tr class=\"row-odd\"><td><p><code class=\"docutils literal notranslate\"><span class=\"pre\">%j</span></code></p></td>\n",
    "<td><p>Day of the year as a\n",
    "zero-padded decimal number.</p></td>\n",
    "<td><p>001, 002, …, 366</p></td>\n",
    "<td><p>(9)</p></td>\n",
    "</tr>\n",
    "<tr class=\"row-even\"><td><p><code class=\"docutils literal notranslate\"><span class=\"pre\">%U</span></code></p></td>\n",
    "<td><p>Week number of the year\n",
    "(Sunday as the first day of\n",
    "the week) as a zero padded\n",
    "decimal number. All days in a\n",
    "new year preceding the first\n",
    "Sunday are considered to be in\n",
    "week 0.</p></td>\n",
    "<td><p>00, 01, …, 53</p></td>\n",
    "<td><p>(7),\n",
    "(9)</p></td>\n",
    "</tr>\n",
    "<tr class=\"row-odd\"><td><p><code class=\"docutils literal notranslate\"><span class=\"pre\">%W</span></code></p></td>\n",
    "<td><p>Week number of the year\n",
    "(Monday as the first day of\n",
    "the week) as a decimal number.\n",
    "All days in a new year\n",
    "preceding the first Monday\n",
    "are considered to be in\n",
    "week 0.</p></td>\n",
    "<td><p>00, 01, …, 53</p></td>\n",
    "<td><p>(7),\n",
    "(9)</p></td>\n",
    "</tr>\n",
    "<tr class=\"row-even\"><td><p><code class=\"docutils literal notranslate\"><span class=\"pre\">%c</span></code></p></td>\n",
    "<td><p>Locale’s appropriate date and\n",
    "time representation.</p></td>\n",
    "<td><div class=\"line-block\">\n",
    "<div class=\"line\">Tue Aug 16 21:30:00\n",
    "1988 (en_US);</div>\n",
    "<div class=\"line\">Di 16 Aug 21:30:00\n",
    "1988 (de_DE)</div>\n",
    "</div>\n",
    "</td>\n",
    "<td><p>(1)</p></td>\n",
    "</tr>\n",
    "<tr class=\"row-odd\"><td><p><code class=\"docutils literal notranslate\"><span class=\"pre\">%x</span></code></p></td>\n",
    "<td><p>Locale’s appropriate date\n",
    "representation.</p></td>\n",
    "<td><div class=\"line-block\">\n",
    "<div class=\"line\">08/16/88 (None);</div>\n",
    "<div class=\"line\">08/16/1988 (en_US);</div>\n",
    "<div class=\"line\">16.08.1988 (de_DE)</div>\n",
    "</div>\n",
    "</td>\n",
    "<td><p>(1)</p></td>\n",
    "</tr>\n",
    "<tr class=\"row-even\"><td><p><code class=\"docutils literal notranslate\"><span class=\"pre\">%X</span></code></p></td>\n",
    "<td><p>Locale’s appropriate time\n",
    "representation.</p></td>\n",
    "<td><div class=\"line-block\">\n",
    "<div class=\"line\">21:30:00 (en_US);</div>\n",
    "<div class=\"line\">21:30:00 (de_DE)</div>\n",
    "</div>\n",
    "</td>\n",
    "<td><p>(1)</p></td>\n",
    "</tr>\n",
    "<tr class=\"row-odd\"><td><p><code class=\"docutils literal notranslate\"><span class=\"pre\">%%</span></code></p></td>\n",
    "<td><p>A literal <code class=\"docutils literal notranslate\"><span class=\"pre\">'%'</span></code> character.</p></td>\n",
    "<td><p>%</p></td>\n",
    "<td></td>\n",
    "</tr>\n",
    "</tbody>\n",
    "</table>"
   ]
  },
  {
   "cell_type": "code",
   "execution_count": null,
   "metadata": {
    "ExecuteTime": {
     "end_time": "2020-04-19T04:20:53.924399Z",
     "start_time": "2020-04-19T04:20:53.920916Z"
    }
   },
   "outputs": [],
   "source": [
    "# Date and time in a format fairly close to ISO8601\n",
    "now.strftime(\"%Y-%m-%d %H:%M:%S.%f\")"
   ]
  },
  {
   "cell_type": "code",
   "execution_count": null,
   "metadata": {
    "ExecuteTime": {
     "end_time": "2020-04-19T04:21:13.943369Z",
     "start_time": "2020-04-19T04:21:13.939639Z"
    }
   },
   "outputs": [],
   "source": [
    "# The same result can be obtained by converting a datetime object to a string.\n",
    "str(now)"
   ]
  },
  {
   "cell_type": "code",
   "execution_count": null,
   "metadata": {
    "ExecuteTime": {
     "end_time": "2020-04-19T04:27:56.482194Z",
     "start_time": "2020-04-19T04:27:56.478309Z"
    }
   },
   "outputs": [],
   "source": [
    "# In this example we insert a '-' between the '%' and the 'I'\n",
    "# This tells python not to display the leading '0'\n",
    "# On windows you might need a '#' there instead of a '-'\n",
    "now.strftime(\"%-I:%M %p %A %B %d, %Y\")"
   ]
  },
  {
   "cell_type": "markdown",
   "metadata": {
    "ExecuteTime": {
     "end_time": "2020-04-19T04:35:40.354643Z",
     "start_time": "2020-04-19T04:35:40.351281Z"
    }
   },
   "source": [
    "### Parsing dates and times from strings\n",
    "\n",
    "This can be hit or miss if your source data isn't formatted consistently, but this can be very helpful."
   ]
  },
  {
   "cell_type": "code",
   "execution_count": null,
   "metadata": {
    "ExecuteTime": {
     "end_time": "2020-04-19T04:39:09.560048Z",
     "start_time": "2020-04-19T04:39:09.555927Z"
    }
   },
   "outputs": [],
   "source": [
    "datetime.datetime.strptime(\"1981-12-25 22:31:07.337215\", \"%Y-%m-%d %H:%M:%S.%f\")"
   ]
  },
  {
   "cell_type": "code",
   "execution_count": null,
   "metadata": {
    "ExecuteTime": {
     "end_time": "2020-04-19T04:40:05.944263Z",
     "start_time": "2020-04-19T04:40:05.938615Z"
    }
   },
   "outputs": [],
   "source": [
    "datetime.datetime.strptime('8:54 PM Saturday April 18, 2020', \"%I:%M %p %A %B %d, %Y\")"
   ]
  },
  {
   "cell_type": "markdown",
   "metadata": {},
   "source": [
    "# Timezones\n",
    "\n",
    "So far we've been using `datetime` and `time` objects as naive times, meaning they are not timezone aware. Without timezone information attached it can be difficult to tell whether the time you're working with is local to you or if it's the time in some other part of the world. You also have no way of knowing if 3:00 AM in London is the same as your current local time of 9:00 PM.\n",
    "\n",
    "We can use the **pytz** module to localize times and add timezone information to `datetime` and `time` objects. With timezone information attached python can tell that the current UTC time is equal to the current MDT time."
   ]
  },
  {
   "cell_type": "code",
   "execution_count": null,
   "metadata": {
    "ExecuteTime": {
     "end_time": "2020-04-19T20:21:45.688481Z",
     "start_time": "2020-04-19T20:21:45.686275Z"
    }
   },
   "outputs": [],
   "source": [
    "import pytz # Import the pytz module"
   ]
  },
  {
   "cell_type": "markdown",
   "metadata": {},
   "source": [
    "First let's get the current UTC time."
   ]
  },
  {
   "cell_type": "code",
   "execution_count": null,
   "metadata": {
    "ExecuteTime": {
     "end_time": "2020-04-19T20:44:55.160683Z",
     "start_time": "2020-04-19T20:44:55.155819Z"
    }
   },
   "outputs": [],
   "source": [
    "utc_now = datetime.datetime.utcnow()\n",
    "print(utc_now.tzinfo)\n",
    "print(utc_now)"
   ]
  },
  {
   "cell_type": "markdown",
   "metadata": {},
   "source": [
    "This datetime object is **naive** which means it doesn't have timezone information attached. Let's fix that."
   ]
  },
  {
   "cell_type": "code",
   "execution_count": null,
   "metadata": {
    "ExecuteTime": {
     "end_time": "2020-04-19T20:44:57.233102Z",
     "start_time": "2020-04-19T20:44:57.228149Z"
    }
   },
   "outputs": [],
   "source": [
    "utc_now = pytz.utc.localize(utc_now)\n",
    "print(utc_now.tzinfo)\n",
    "print(utc_now)"
   ]
  },
  {
   "cell_type": "markdown",
   "metadata": {},
   "source": [
    "Now there's an offset of +00:00 attached to the datetime stored in utc_now so it's time zone aware.\n",
    "\n",
    "It's a good idea to always work with times using utc and convert to other timezones as needed.\n",
    "\n",
    "Let's create a timezone object that can calculate Mountain Daylight Time or Mountain Standard Time depending on the time of year."
   ]
  },
  {
   "cell_type": "code",
   "execution_count": null,
   "metadata": {
    "ExecuteTime": {
     "end_time": "2020-04-19T21:08:49.396011Z",
     "start_time": "2020-04-19T21:08:49.393353Z"
    }
   },
   "outputs": [],
   "source": [
    "utah_tz = pytz.timezone('MST7MDT')"
   ]
  },
  {
   "cell_type": "markdown",
   "metadata": {
    "ExecuteTime": {
     "end_time": "2020-04-19T20:27:14.870241Z",
     "start_time": "2020-04-19T20:27:14.867215Z"
    }
   },
   "source": [
    "Now let's localize the current UTC time to get the current Salt Lake City time."
   ]
  },
  {
   "cell_type": "code",
   "execution_count": null,
   "metadata": {
    "ExecuteTime": {
     "end_time": "2020-04-19T20:49:16.613580Z",
     "start_time": "2020-04-19T20:49:16.608669Z"
    }
   },
   "outputs": [],
   "source": [
    "utah_now = utc_now.astimezone(utah_tz)\n",
    "print(utah_now.tzinfo)\n",
    "print(utah_now)"
   ]
  },
  {
   "cell_type": "markdown",
   "metadata": {},
   "source": [
    "We can compare the UTC time and the Utah time and see that they're equal even though they have different times because they are both timezone aware."
   ]
  },
  {
   "cell_type": "code",
   "execution_count": null,
   "metadata": {
    "ExecuteTime": {
     "end_time": "2020-04-19T20:49:01.123615Z",
     "start_time": "2020-04-19T20:49:01.119842Z"
    }
   },
   "outputs": [],
   "source": [
    "utah_now == utc_now"
   ]
  },
  {
   "cell_type": "markdown",
   "metadata": {},
   "source": [
    "We can also automatically get the correct offset for dates that do and do not fall within Daylight Savings Time"
   ]
  },
  {
   "cell_type": "code",
   "execution_count": null,
   "metadata": {
    "ExecuteTime": {
     "end_time": "2020-04-19T20:52:51.225867Z",
     "start_time": "2020-04-19T20:52:51.220726Z"
    }
   },
   "outputs": [],
   "source": [
    "jan1 = datetime.datetime(2020, 1, 1, 12, 0).astimezone(utah_tz)\n",
    "print(jan1.tzinfo)\n",
    "print(jan1)\n",
    "\n",
    "jun1 = datetime.datetime(2020, 6, 1, 12, 0).astimezone(utah_tz)\n",
    "print(jun1.tzinfo)\n",
    "print(jun1)"
   ]
  },
  {
   "cell_type": "markdown",
   "metadata": {},
   "source": [
    "Now that we have a Utah timezone object we can use that to localize the current Utah time to other timezones, but it's probably a better idea to localize UTC time to whatever timezone you need."
   ]
  },
  {
   "cell_type": "markdown",
   "metadata": {},
   "source": [
    "# end missing material"
   ]
  },
  {
   "cell_type": "code",
   "execution_count": null,
   "metadata": {
    "ExecuteTime": {
     "end_time": "2020-04-19T21:10:48.945515Z",
     "start_time": "2020-04-19T21:10:48.941171Z"
    }
   },
   "outputs": [],
   "source": [
    "kabul_tz = pytz.timezone('Asia/Kabul') # Kabul is an interesting timezone because it's 30 minutes out of sync\n",
    "kabul_dt = utah_tz.localize(datetime.datetime.now()).astimezone(kabul_tz) # Probably unnecessary\n",
    "print(kabul_dt) # We can now print this time \n",
    "print(utah_tz.normalize(kabul_dt)) # and we can convert it directly to other timezones by normalizing it"
   ]
  },
  {
   "cell_type": "markdown",
   "metadata": {},
   "source": [
    "(U) To get a list of all timezones: "
   ]
  },
  {
   "cell_type": "code",
   "execution_count": null,
   "metadata": {},
   "outputs": [],
   "source": [
    "pytz.all_timezones "
   ]
  },
  {
   "cell_type": "markdown",
   "metadata": {},
   "source": [
    "## (U) The arrow package \n",
    "\n",
    "(U) The arrow package is a third party package useful for manipulating dates and times in a non-naive way (in this case, meaning that it deals with multiple timezones very seamlessly). Examples below are based on examples from \"20 Python Libraries You Aren't Using (But Should)\" on Safari."
   ]
  },
  {
   "cell_type": "code",
   "execution_count": null,
   "metadata": {
    "ExecuteTime": {
     "end_time": "2020-04-19T03:34:43.509224Z",
     "start_time": "2020-04-19T03:34:38.412803Z"
    }
   },
   "outputs": [],
   "source": [
    "import ipydeps\n",
    "ipydeps.pip('arrow')\n",
    "import arrow"
   ]
  },
  {
   "cell_type": "code",
   "execution_count": null,
   "metadata": {
    "ExecuteTime": {
     "end_time": "2020-04-19T03:34:54.847098Z",
     "start_time": "2020-04-19T03:34:54.842849Z"
    }
   },
   "outputs": [],
   "source": [
    "t0 = arrow.now()\n",
    "print (t0)\n",
    "\n",
    "t1 = arrow.utcnow()\n",
    "print(t1)\n",
    "\n",
    "difference = (t0 - t1).total_seconds()\n",
    "\n",
    "print('Total difference: %.2f seconds' % difference)"
   ]
  },
  {
   "cell_type": "code",
   "execution_count": null,
   "metadata": {
    "ExecuteTime": {
     "end_time": "2020-04-19T03:36:04.914268Z",
     "start_time": "2020-04-19T03:36:04.910830Z"
    }
   },
   "outputs": [],
   "source": [
    "t0 = arrow.now()\n",
    "t0"
   ]
  },
  {
   "cell_type": "code",
   "execution_count": null,
   "metadata": {
    "ExecuteTime": {
     "end_time": "2020-04-19T03:36:09.530883Z",
     "start_time": "2020-04-19T03:36:09.527636Z"
    }
   },
   "outputs": [],
   "source": [
    "t0.date()"
   ]
  },
  {
   "cell_type": "code",
   "execution_count": null,
   "metadata": {
    "ExecuteTime": {
     "end_time": "2020-04-19T03:36:17.753457Z",
     "start_time": "2020-04-19T03:36:17.750451Z"
    }
   },
   "outputs": [],
   "source": [
    "t0.time()"
   ]
  },
  {
   "cell_type": "code",
   "execution_count": null,
   "metadata": {
    "ExecuteTime": {
     "end_time": "2020-04-19T03:36:23.706740Z",
     "start_time": "2020-04-19T03:36:23.703091Z"
    }
   },
   "outputs": [],
   "source": [
    "t0.timestamp"
   ]
  },
  {
   "cell_type": "code",
   "execution_count": null,
   "metadata": {
    "ExecuteTime": {
     "end_time": "2020-04-19T03:37:15.076061Z",
     "start_time": "2020-04-19T03:37:15.072531Z"
    }
   },
   "outputs": [],
   "source": [
    "t0.year"
   ]
  },
  {
   "cell_type": "code",
   "execution_count": null,
   "metadata": {
    "ExecuteTime": {
     "end_time": "2020-04-19T03:37:16.628843Z",
     "start_time": "2020-04-19T03:37:16.625235Z"
    }
   },
   "outputs": [],
   "source": [
    "t0.month"
   ]
  },
  {
   "cell_type": "code",
   "execution_count": null,
   "metadata": {
    "ExecuteTime": {
     "end_time": "2020-04-19T03:37:17.524360Z",
     "start_time": "2020-04-19T03:37:17.520688Z"
    }
   },
   "outputs": [],
   "source": [
    "t0.day"
   ]
  },
  {
   "cell_type": "code",
   "execution_count": null,
   "metadata": {
    "ExecuteTime": {
     "end_time": "2020-04-19T03:37:22.868193Z",
     "start_time": "2020-04-19T03:37:22.864759Z"
    }
   },
   "outputs": [],
   "source": [
    "t0.datetime"
   ]
  },
  {
   "cell_type": "code",
   "execution_count": null,
   "metadata": {
    "ExecuteTime": {
     "end_time": "2020-04-19T03:37:25.604213Z",
     "start_time": "2020-04-19T03:37:25.600796Z"
    }
   },
   "outputs": [],
   "source": [
    "t1.datetime"
   ]
  },
  {
   "cell_type": "code",
   "execution_count": null,
   "metadata": {
    "ExecuteTime": {
     "end_time": "2020-04-19T03:37:28.444808Z",
     "start_time": "2020-04-19T03:37:28.440958Z"
    }
   },
   "outputs": [],
   "source": [
    "t0 = arrow.now()\n",
    "t0.humanize()"
   ]
  },
  {
   "cell_type": "code",
   "execution_count": null,
   "metadata": {
    "ExecuteTime": {
     "end_time": "2020-04-19T03:38:24.042626Z",
     "start_time": "2020-04-19T03:38:24.038861Z"
    }
   },
   "outputs": [],
   "source": [
    "t0.humanize()"
   ]
  },
  {
   "cell_type": "code",
   "execution_count": null,
   "metadata": {
    "ExecuteTime": {
     "end_time": "2020-04-19T03:39:32.502100Z",
     "start_time": "2020-04-19T03:39:32.497911Z"
    }
   },
   "outputs": [],
   "source": [
    "t0 = t0.replace(hour=3,minute=10)\n",
    "t0.humanize()"
   ]
  },
  {
   "cell_type": "markdown",
   "metadata": {},
   "source": [
    "## (U) The parsedate module \n",
    "\n",
    "(U) The parsedate package is a third party package that does a very good job of parsing dates and times from \"messy\" input formats. It also does a good job of calculating relative times from human-style input. Examples below are from \"20 Python Libraries You Aren't Using (But Should)\" on Safari. "
   ]
  },
  {
   "cell_type": "code",
   "execution_count": null,
   "metadata": {
    "ExecuteTime": {
     "end_time": "2020-04-19T03:40:49.530110Z",
     "start_time": "2020-04-19T03:40:44.186525Z"
    }
   },
   "outputs": [],
   "source": [
    "ipydeps.pip('parsedatetime') \n",
    "import parsedatetime as pdt"
   ]
  },
  {
   "cell_type": "code",
   "execution_count": null,
   "metadata": {
    "ExecuteTime": {
     "end_time": "2020-04-19T03:55:55.648641Z",
     "start_time": "2020-04-19T03:55:55.640560Z"
    }
   },
   "outputs": [],
   "source": [
    "cal = pdt.Calendar() \n",
    "\n",
    "examples = [\n",
    "    \"2016-07-16\",\n",
    "    \"2016/07/16\",\n",
    "    \"2016-7-16\",\n",
    "    \"2016/7/16\",\n",
    "    \"07-16-2016\",\n",
    "    \"7-16-2016\",\n",
    "    \"7-16-16\",\n",
    "    \"7/16/16\",\n",
    "]\n",
    "\n",
    "# print the header\n",
    "print('{:30s}{:>30s}'.format('Input', 'Result'))\n",
    "print('=' * 60)\n",
    "\n",
    "# Loop through the examples list and show that parseDT successfully \n",
    "# parses out the date/time based on the messy values \n",
    "\n",
    "for e in examples:\n",
    "    dt, result = cal.parseDT(e)\n",
    "    print('{:<30s}{:>30}'.format('\"' + e + '\"', str(dt.date())))"
   ]
  },
  {
   "cell_type": "code",
   "execution_count": null,
   "metadata": {
    "ExecuteTime": {
     "end_time": "2020-04-19T03:56:33.755735Z",
     "start_time": "2020-04-19T03:56:33.752317Z"
    }
   },
   "outputs": [],
   "source": [
    "help(datetime.datetime.ctime)"
   ]
  },
  {
   "cell_type": "code",
   "execution_count": null,
   "metadata": {
    "ExecuteTime": {
     "end_time": "2020-04-19T04:03:46.584666Z",
     "start_time": "2020-04-19T04:03:46.574605Z"
    }
   },
   "outputs": [],
   "source": [
    "examples = [\n",
    "    \"19 November 1975\",\n",
    "    \"19 November 75\",\n",
    "    \"19 Nov 75\",\n",
    "    \"tomorrow\",\n",
    "    \"yesterday\",\n",
    "    \"10 minutes from now\",\n",
    "    \"the first of January, 2001\",\n",
    "    \"3 days ago\",\n",
    "    \"in four days' time\",\n",
    "    \"two weeks from now\",\n",
    "    \"three months ago\",\n",
    "    \"2 weeks and 3 days in the future\",\n",
    "]\n",
    "\n",
    "# print the time right now for reference\n",
    "print('Now: {}'.format(datetime.datetime.now().ctime()), end='\\n\\n')\n",
    "\n",
    "# print the header\n",
    "print('{:40s}{:>30s}'.format('Input', 'Result'))\n",
    "print('=' * 70)\n",
    "\n",
    "# Loop through the examples list to show how parseDT can \n",
    "# successfully determine the date/time based on both messy \n",
    "# input and messy relative time offset inputs\n",
    "\n",
    "for e in examples:\n",
    "    dt, result = cal.parseDT(e)\n",
    "    print('{:<40s}{:>30}'.format('\"' + e + '\"', str(dt)))"
   ]
  },
  {
   "cell_type": "markdown",
   "metadata": {},
   "source": [
    "# Added material\n",
    "\n",
    "## `dateutil` module\n",
    "\n",
    "Given the exercise below regarding calculating the number of days between Easter and Christmas in a given year, I thought I would throw in a mention of the **dateutil** module which happens to include a helpful function for calculating the date that Easter falls on. This module may have been mentioned in the missing material since they included an exercise that it would be relevant for. Of all of the holidays which don't fall on regular dates, Easter is probably the hardest to calculate because it follows some very complex rules.\n",
    "\n",
    "`dateutil` also provides several other useful tools. You can read the documentation for the module [here](https://dateutil.readthedocs.io/en/stable/)."
   ]
  },
  {
   "cell_type": "markdown",
   "metadata": {},
   "source": [
    "### Easter"
   ]
  },
  {
   "cell_type": "code",
   "execution_count": null,
   "metadata": {
    "ExecuteTime": {
     "end_time": "2020-04-19T21:19:39.161009Z",
     "start_time": "2020-04-19T21:19:39.157801Z"
    }
   },
   "outputs": [],
   "source": [
    "from dateutil.easter import easter"
   ]
  },
  {
   "cell_type": "code",
   "execution_count": null,
   "metadata": {
    "ExecuteTime": {
     "end_time": "2020-04-19T05:02:13.862881Z",
     "start_time": "2020-04-19T05:02:13.858879Z"
    }
   },
   "outputs": [],
   "source": [
    "easter(1999)"
   ]
  },
  {
   "cell_type": "code",
   "execution_count": null,
   "metadata": {
    "ExecuteTime": {
     "end_time": "2020-04-19T21:19:41.128018Z",
     "start_time": "2020-04-19T21:19:41.118284Z"
    }
   },
   "outputs": [],
   "source": [
    "easter(2020, method=2)"
   ]
  },
  {
   "cell_type": "markdown",
   "metadata": {},
   "source": [
    "There's an optional `method` parameter that lets you see the dates for easter by different calculation methods. The default is option `3` EASTER_WESTERN but you can also choose `2` for EASTER_ORTHODOX (Russia), or `1` for EASTER_JULIAN (Pre-Gregorian Calendar).\n",
    "\n",
    "If you're curious about how the date for Easter in a given year is calculated, [here](https://www.tondering.dk/claus/cal/easter.php) is a page that discusses it. _Warning: Crucifixion imagery prominently displayed there._ Long story short, calculating Easter is a pain in the butt and someone already did it for us."
   ]
  },
  {
   "cell_type": "markdown",
   "metadata": {},
   "source": [
    "### Parser"
   ]
  },
  {
   "cell_type": "code",
   "execution_count": null,
   "metadata": {
    "ExecuteTime": {
     "end_time": "2020-04-19T21:22:48.966606Z",
     "start_time": "2020-04-19T21:22:48.963517Z"
    }
   },
   "outputs": [],
   "source": [
    "from dateutil.parser import parse"
   ]
  },
  {
   "cell_type": "markdown",
   "metadata": {},
   "source": [
    "`parse` will attempt to figure out a valid date from an input string. It generally does a very good job at applying some basic rules to determine the input format. For example, the American date format of %m/%d/%Y is obvious in a date like 05/30/2020. Other dates are more ambiguous. 12/05/2020 Might be December 5th 2020 or it might be May 12th if the date is in the European format. 31/12/2020 must be a European date because there can't be more than 12 months so `parse` can automatically figure that out. Generally though `parse` will default to preferring the American format for ambiguous dates unless you tell it otherwise using the optional kword arguments `dayfirst` or `yearfirst` to override that behavior for ambiguous dates.\n",
    "\n",
    "There is also a `fuzzy` kwarg that will allow `parse` to accept some plain English strings and attempt to parse them for dates."
   ]
  },
  {
   "cell_type": "code",
   "execution_count": null,
   "metadata": {
    "ExecuteTime": {
     "end_time": "2020-04-19T05:23:49.662162Z",
     "start_time": "2020-04-19T05:23:49.658206Z"
    }
   },
   "outputs": [],
   "source": [
    "parse(\"12/11/10\") # Ambiguous date so American Month/Day/Year is preferred."
   ]
  },
  {
   "cell_type": "code",
   "execution_count": null,
   "metadata": {
    "ExecuteTime": {
     "end_time": "2020-04-19T05:24:47.413701Z",
     "start_time": "2020-04-19T05:24:47.409786Z"
    }
   },
   "outputs": [],
   "source": [
    "parse(\"12/11/10\", yearfirst=True) # Specify that year comes first. Remaining columns default to month then day"
   ]
  },
  {
   "cell_type": "code",
   "execution_count": null,
   "metadata": {
    "ExecuteTime": {
     "end_time": "2020-04-19T05:25:30.413680Z",
     "start_time": "2020-04-19T05:25:30.409560Z"
    }
   },
   "outputs": [],
   "source": [
    "parse(\"12/11/10\", dayfirst=True) # Changes default to European style dates"
   ]
  },
  {
   "cell_type": "code",
   "execution_count": null,
   "metadata": {
    "ExecuteTime": {
     "end_time": "2020-04-19T05:26:26.687524Z",
     "start_time": "2020-04-19T05:26:26.683402Z"
    }
   },
   "outputs": [],
   "source": [
    "parse(\"12/11/10\", yearfirst=True, dayfirst=True) # Force Year/Day/Month... No one uses this format."
   ]
  },
  {
   "cell_type": "code",
   "execution_count": null,
   "metadata": {
    "ExecuteTime": {
     "end_time": "2020-04-19T21:24:22.444315Z",
     "start_time": "2020-04-19T21:24:22.440808Z"
    }
   },
   "outputs": [],
   "source": [
    "# If dayfirst isn't specified and the first column exceeds 12 it will \n",
    "# automatically switch to European format.\n",
    "\n",
    "parse(\"31/12/69\")\n",
    "\n",
    "# This is also the highest 2 digit year that will be interpretted as 2000s. \n",
    "# 70-99 will be interpretted as 1900s. It's a good idea to use 4 digit years, \n",
    "# but we wouldn't be using this function if we had control of the format."
   ]
  },
  {
   "cell_type": "code",
   "execution_count": null,
   "metadata": {
    "ExecuteTime": {
     "end_time": "2020-04-19T05:37:17.822330Z",
     "start_time": "2020-04-19T05:37:17.818128Z"
    }
   },
   "outputs": [],
   "source": [
    "# the fuzzy kwarg will look through longer strings for things that look like dates.\n",
    "parse(\"Frank was born at 5:54PM on the 17th of February in 1992\", fuzzy=True)"
   ]
  },
  {
   "cell_type": "markdown",
   "metadata": {},
   "source": [
    "# Optional Datetime Exercises \n",
    "\n",
    "Use the functions and methods you learned about in the Dates and Times Lesson to answer the following questions:"
   ]
  },
  {
   "cell_type": "markdown",
   "metadata": {},
   "source": [
    "(U) How long before Christmas?"
   ]
  },
  {
   "cell_type": "code",
   "execution_count": null,
   "metadata": {},
   "outputs": [],
   "source": []
  },
  {
   "cell_type": "markdown",
   "metadata": {},
   "source": [
    "(U) How many seconds since you were born? "
   ]
  },
  {
   "cell_type": "code",
   "execution_count": null,
   "metadata": {},
   "outputs": [],
   "source": []
  },
  {
   "cell_type": "markdown",
   "metadata": {},
   "source": [
    "(U) What is the average number of days between Easter and Christmas for the years 2000 - 2999? "
   ]
  },
  {
   "cell_type": "code",
   "execution_count": null,
   "metadata": {},
   "outputs": [],
   "source": []
  },
  {
   "cell_type": "markdown",
   "metadata": {},
   "source": [
    "(U) What day of the week does Christmas fall on this year? "
   ]
  },
  {
   "cell_type": "code",
   "execution_count": null,
   "metadata": {},
   "outputs": [],
   "source": []
  },
  {
   "cell_type": "markdown",
   "metadata": {},
   "source": [
    "(U) You get an email with a POSIX timestamp of 1435074325. The email is from the leader of a Zendian extremist group and says that there will be an attack on the Zendian capitol in 14 hours. In Zendian local time, when will the attack occur? (Assume Zendia is in the same time zone as Kabul)"
   ]
  },
  {
   "cell_type": "code",
   "execution_count": null,
   "metadata": {},
   "outputs": [],
   "source": []
  },
  {
   "cell_type": "markdown",
   "metadata": {},
   "source": [
    "# UNCLASSIFIED\n",
    "\n",
    "Transcribed from FOIA Doc ID: 6689695\n",
    "\n",
    "https://archive.org/details/comp3321"
   ]
  }
 ],
 "metadata": {
  "kernelspec": {
   "display_name": "Python 3",
   "language": "python",
   "name": "python3"
  },
  "language_info": {
   "codemirror_mode": {
    "name": "ipython",
    "version": 3
   },
   "file_extension": ".py",
   "mimetype": "text/x-python",
   "name": "python",
   "nbconvert_exporter": "python",
   "pygments_lexer": "ipython3",
   "version": "3.8.2"
  },
  "varInspector": {
   "cols": {
    "lenName": 16,
    "lenType": 16,
    "lenVar": 40
   },
   "kernels_config": {
    "python": {
     "delete_cmd_postfix": "",
     "delete_cmd_prefix": "del ",
     "library": "var_list.py",
     "varRefreshCmd": "print(var_dic_list())"
    },
    "r": {
     "delete_cmd_postfix": ") ",
     "delete_cmd_prefix": "rm(",
     "library": "var_list.r",
     "varRefreshCmd": "cat(var_dic_list()) "
    }
   },
   "types_to_exclude": [
    "module",
    "function",
    "builtin_function_or_method",
    "instance",
    "_Feature"
   ],
   "window_display": false
  }
 },
 "nbformat": 4,
 "nbformat_minor": 2
}
