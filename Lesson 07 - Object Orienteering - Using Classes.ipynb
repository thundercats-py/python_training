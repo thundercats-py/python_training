{
 "cells": [
  {
   "cell_type": "markdown",
   "metadata": {},
   "source": [
    "# UNCLASSIFIED\n",
    "\n",
    "Transcribed from FOIA Doc ID: 6689693\n",
    "\n",
    "https://archive.org/details/comp3321"
   ]
  },
  {
   "cell_type": "markdown",
   "metadata": {},
   "source": [
    "# (U) Introduction \n",
    "\n",
    "(U) From the name of it you can see that **object-oriented programming** is oozing with abstraction and complication. Take heart: there's no need to fear or avoid object-oriented programming in Python! It's just another easy-to-use, flexible, and dynamic tool in the deep toolbox that Python makes available. In fact, we've been using objects and object oriented concepts ever since the first line of Python code that we wrote, so it's already familiar. In this lesson, we'll think more deeply about what it is that we've been doing all along, and how we can take advantage of these ideas. \n",
    "\n",
    "(U) Consider, for example, the difference between a **function** and a method: "
   ]
  },
  {
   "cell_type": "code",
   "execution_count": null,
   "metadata": {},
   "outputs": [],
   "source": [
    "name = \"Mark\""
   ]
  },
  {
   "cell_type": "code",
   "execution_count": null,
   "metadata": {},
   "outputs": [],
   "source": [
    "len(name) # function"
   ]
  },
  {
   "cell_type": "code",
   "execution_count": null,
   "metadata": {},
   "outputs": [],
   "source": [
    "name.upper() # method"
   ]
  },
  {
   "cell_type": "markdown",
   "metadata": {},
   "source": [
    "(U) In this example, `name` is an **instance** of the `str` **type**. In other words, `name` is an **object** of that type. An **object** is just a convenient wrapper around a combination of some _data_ and _functionality_ related to that data, embodied in **methods**. Until now, you've probably thought of every `str` just in terms of its data, i.e. the literal string `\"Mark\"` that was used to assign the variable. The **methods** that work with `name` were defined just once, in a **class definition**, and apply to every string that is ever created. **Methods** are actually the same thing as functions that live _inside_ a class instead of _outside_ it. (This paragraph probably still seems really confusing. Try re-reading it at the end of the lesson!) "
   ]
  },
  {
   "cell_type": "markdown",
   "metadata": {},
   "source": [
    "## (U) Your First `class`\n",
    "\n",
    "(U) Just as the keyword `def` is used to define functions, the keyword `class` is used to define a `type` object that will generate a new kind of object, which you get to name! As an ongoing example, we'll work with a class that we'll choose to name `Person`.\n",
    "\n",
    "Since we've chosen a name now is a good time to mention naming conventions in python. \n",
    "- Variable and function names in Python generally are `all_lower_case` with underscores `_` instead of spaces. \n",
    "- Constants are generally `ALL_CAPS` with `_`s. Constants are variables that have hard values defined in a module.\n",
    "- Classes are generally named in `CapWords` case with no underscores. Capitalize the first letter of each word in the name.\n",
    "\n",
    "We've seen some deviation from this naming scheme in earlier lessons. I didn't write those. This is just a naming convention and you aren't obligated to follow it, but if you don't then other programmers that look at your code might be confused."
   ]
  },
  {
   "cell_type": "code",
   "execution_count": null,
   "metadata": {},
   "outputs": [],
   "source": [
    "class Person(object): \n",
    "    pass"
   ]
  },
  {
   "cell_type": "code",
   "execution_count": null,
   "metadata": {},
   "outputs": [],
   "source": [
    "type(Person) "
   ]
  },
  {
   "cell_type": "code",
   "execution_count": null,
   "metadata": {},
   "outputs": [],
   "source": [
    "type(Person) == type(int)"
   ]
  },
  {
   "cell_type": "code",
   "execution_count": null,
   "metadata": {},
   "outputs": [],
   "source": [
    "nobody = Person() "
   ]
  },
  {
   "cell_type": "code",
   "execution_count": null,
   "metadata": {},
   "outputs": [],
   "source": [
    "type(nobody)"
   ]
  },
  {
   "cell_type": "markdown",
   "metadata": {},
   "source": [
    "(U) At first, the `Person` class doesn't do much, because it's totally empty! This isn't as useless as it seems, because, just like everything else in Python, classes and their objects are _dynamic_. The `(object)` after `Person` is not a function call; here it names the parent class. Even though the `Person` class looks boring, the fundamentals are there: \n",
    "\n",
    "- the `Person` class is just as much of a class as `int` or any other built-in, \n",
    "\n",
    "- we can make an _instance_ by using the class name as a constructor function, and \n",
    "\n",
    "- the `type` of the instance `nobody` is `Person`, just like `type(1)` is `int`. \n",
    "\n",
    "(U) Since that's about all we can do with our `Person`, let's start over, and wrap some data and functionality into the `Person`:"
   ]
  },
  {
   "cell_type": "code",
   "execution_count": null,
   "metadata": {},
   "outputs": [],
   "source": [
    "class Person(object):\n",
    "    \n",
    "    species = \"Homo sapiens\"\n",
    "    \n",
    "    def talk(self): \n",
    "        return \"Hello there, how are you?\" "
   ]
  },
  {
   "cell_type": "code",
   "execution_count": null,
   "metadata": {},
   "outputs": [],
   "source": [
    "nobody = Person() "
   ]
  },
  {
   "cell_type": "code",
   "execution_count": null,
   "metadata": {},
   "outputs": [],
   "source": [
    "nobody.species"
   ]
  },
  {
   "cell_type": "code",
   "execution_count": null,
   "metadata": {},
   "outputs": [],
   "source": [
    "nobody.talk()"
   ]
  },
  {
   "cell_type": "markdown",
   "metadata": {},
   "source": [
    "(U) It's **very important** to give any method (i.e. function defined in the class) at least one argument, which is almost always called `self`. This is because internally Python translates `nobody.talk()` into something like `Person.talk(nobody)`. \n",
    "\n",
    "(U) Let's experiment with the Person class and its objects and do things like re-assigning other data attributes."
   ]
  },
  {
   "cell_type": "code",
   "execution_count": null,
   "metadata": {},
   "outputs": [],
   "source": [
    "somebody = Person()"
   ]
  },
  {
   "cell_type": "code",
   "execution_count": null,
   "metadata": {},
   "outputs": [],
   "source": [
    "somebody.species = 'Homo internetus'"
   ]
  },
  {
   "cell_type": "code",
   "execution_count": null,
   "metadata": {},
   "outputs": [],
   "source": [
    "somebody.name = \"Mark\""
   ]
  },
  {
   "cell_type": "code",
   "execution_count": null,
   "metadata": {},
   "outputs": [],
   "source": [
    "nobody.species"
   ]
  },
  {
   "cell_type": "code",
   "execution_count": null,
   "metadata": {},
   "outputs": [],
   "source": [
    "Person.species = \"Unknown\""
   ]
  },
  {
   "cell_type": "code",
   "execution_count": null,
   "metadata": {},
   "outputs": [],
   "source": [
    "nobody.species"
   ]
  },
  {
   "cell_type": "code",
   "execution_count": null,
   "metadata": {},
   "outputs": [],
   "source": [
    "somebody.species"
   ]
  },
  {
   "cell_type": "code",
   "execution_count": null,
   "metadata": {},
   "outputs": [],
   "source": [
    "Person.name = \"Unknown\""
   ]
  },
  {
   "cell_type": "code",
   "execution_count": null,
   "metadata": {},
   "outputs": [],
   "source": [
    "nobody.name"
   ]
  },
  {
   "cell_type": "code",
   "execution_count": null,
   "metadata": {},
   "outputs": [],
   "source": [
    "somebody.name"
   ]
  },
  {
   "cell_type": "code",
   "execution_count": null,
   "metadata": {},
   "outputs": [],
   "source": [
    "del somebody.name"
   ]
  },
  {
   "cell_type": "code",
   "execution_count": null,
   "metadata": {},
   "outputs": [],
   "source": [
    "somebody.name "
   ]
  },
  {
   "cell_type": "markdown",
   "metadata": {},
   "source": [
    "(U) Although we could add a `name` to each instance just after creating it, one at a time, wouldn't it be nice to assign instance-specific attributes like that when the object is first constructed? The `__init__` method lets us do that. Except for the funny underscores in the name, it's just an ordinary method; we can even give it default arguments. "
   ]
  },
  {
   "cell_type": "code",
   "execution_count": null,
   "metadata": {},
   "outputs": [],
   "source": [
    "class Person (object): \n",
    "    \n",
    "    species = \"Homo sapiens\" \n",
    "\n",
    "    def __init__(self, name=\"Unknown\", age=18): \n",
    "        self.name = name.title()\n",
    "        self.age = age\n",
    "    \n",
    "    def talk(self): \n",
    "        return \"Hello, my name is {}.\".format(self.name)"
   ]
  },
  {
   "cell_type": "code",
   "execution_count": null,
   "metadata": {},
   "outputs": [],
   "source": [
    "mark = Person(\"MARK\", 33)"
   ]
  },
  {
   "cell_type": "code",
   "execution_count": null,
   "metadata": {},
   "outputs": [],
   "source": [
    "mark.name"
   ]
  },
  {
   "cell_type": "code",
   "execution_count": null,
   "metadata": {},
   "outputs": [],
   "source": [
    "mark.talk()"
   ]
  },
  {
   "cell_type": "code",
   "execution_count": null,
   "metadata": {},
   "outputs": [],
   "source": [
    "generic_voter = Person()"
   ]
  },
  {
   "cell_type": "code",
   "execution_count": null,
   "metadata": {},
   "outputs": [],
   "source": [
    "generic_worker = Person(age=41)"
   ]
  },
  {
   "cell_type": "code",
   "execution_count": null,
   "metadata": {},
   "outputs": [],
   "source": [
    "generic_worker.age"
   ]
  },
  {
   "cell_type": "code",
   "execution_count": null,
   "metadata": {},
   "outputs": [],
   "source": [
    "generic_worker.name"
   ]
  },
  {
   "cell_type": "markdown",
   "metadata": {},
   "source": [
    "(U) In Python, it isn't unusual to access attributes of an object directly, unlike some languages (e.g. Java), where that is considered poor form and everything is done through getter and setter methods. This is because in Python, attributes can be added and removed at any time, so the getters and setters might be useless by the time that you want to use them. "
   ]
  },
  {
   "cell_type": "code",
   "execution_count": null,
   "metadata": {},
   "outputs": [],
   "source": [
    "mark.favorite_color = \"green\""
   ]
  },
  {
   "cell_type": "code",
   "execution_count": null,
   "metadata": {},
   "outputs": [],
   "source": [
    "del generic_worker.name"
   ]
  },
  {
   "cell_type": "code",
   "execution_count": null,
   "metadata": {},
   "outputs": [],
   "source": [
    "generic_worker.name"
   ]
  },
  {
   "cell_type": "markdown",
   "metadata": {},
   "source": [
    "(U) One potential downside is that Python has no real equivalent of _private_ data and methods; everyone can see everything. There is a polite _convention_: other developers are _supposed_ to treat an attribute as private if its name starts with a single underscore ( `_` ). And there is also a _trick_: names that start with two underscores ( `__` ) are mangled to make them harder to access. \n",
    "\n",
    "(U) The `__init__` method is just one of many class _dunder_ (double underscore) methods that can help your `class` behave like a full-fledged built-in Python object. To control how your object is printed, implement `__str__`, and to control how it looks as an output from the interactive interpreter, implement `__repr__`. This time, we won't start from scratch; we'll add these dynamically. "
   ]
  },
  {
   "cell_type": "code",
   "execution_count": null,
   "metadata": {},
   "outputs": [],
   "source": [
    "def person_str(self): \n",
    "    return \"Name: {0}, Age: {1}\".format(self.name, self.age)"
   ]
  },
  {
   "cell_type": "code",
   "execution_count": null,
   "metadata": {},
   "outputs": [],
   "source": [
    "Person.__str__ = person_str"
   ]
  },
  {
   "cell_type": "code",
   "execution_count": null,
   "metadata": {},
   "outputs": [],
   "source": [
    "def person_repr(self):\n",
    "    return \"Person('{0}',{1})\".format(self.name, self.age)"
   ]
  },
  {
   "cell_type": "code",
   "execution_count": null,
   "metadata": {},
   "outputs": [],
   "source": [
    "Person.__repr__ = person_repr"
   ]
  },
  {
   "cell_type": "code",
   "execution_count": null,
   "metadata": {},
   "outputs": [],
   "source": [
    "print(mark) # which special method does print use? "
   ]
  },
  {
   "cell_type": "code",
   "execution_count": null,
   "metadata": {},
   "outputs": [],
   "source": [
    "mark # which special method does Jupyter use to auto-print?"
   ]
  },
  {
   "cell_type": "markdown",
   "metadata": {},
   "source": [
    "(U) Take a minute to think about what just happened: \n",
    "\n",
    "- We added methods to a class after making a bunch of objects, but _every object_ in that class was immediately able to use that method. \n",
    "\n",
    "- Because they were _special methods_, we could immediately use built-in Python functions (like `str`) on those objects. \n",
    "\n",
    "(U) Be careful when implementing special methods. For instance, you might want the default sort of the `Person` class to be based on age. The special method `__lt__(self,other)` will be used by Python in place of the built-in `lt` function, even for sorting. Even though it's easy, this is problematic because it makes objects appear to be equal when they are just of the same age! "
   ]
  },
  {
   "cell_type": "code",
   "execution_count": null,
   "metadata": {},
   "outputs": [],
   "source": [
    "def person_eq(self, other): \n",
    "    return self.age == other.age"
   ]
  },
  {
   "cell_type": "code",
   "execution_count": null,
   "metadata": {},
   "outputs": [],
   "source": [
    "Person.__eq__ = person_eq"
   ]
  },
  {
   "cell_type": "code",
   "execution_count": null,
   "metadata": {},
   "outputs": [],
   "source": [
    "bob = Person(\"Bob\", 33)"
   ]
  },
  {
   "cell_type": "code",
   "execution_count": null,
   "metadata": {},
   "outputs": [],
   "source": [
    "bob == mark"
   ]
  },
  {
   "cell_type": "code",
   "execution_count": null,
   "metadata": {},
   "outputs": [],
   "source": [
    "Person('Bob',33)"
   ]
  },
  {
   "cell_type": "markdown",
   "metadata": {},
   "source": [
    "(U) In a situation like this, it might be better to implement a subset of the **rich comparison** methods, maybe just `__lt__` and `__gt__`, or use a more complicated `__eq__` method that is capable of uniquely identifying all the objects you will ever create. \n",
    "\n",
    "(U) While we've shown examples of adding methods to a class after the fact, note that it is rarely actually done that way in practice. Here we did that just for convenience of not having to re-define the class every time we wanted to create a new method. Normally you would just define all class methods under the class itself. If we were to do so with the `__str__`, `__repr__`, and `__eq__` methods for the `Person` class above, the class would look like the below: "
   ]
  },
  {
   "cell_type": "code",
   "execution_count": null,
   "metadata": {},
   "outputs": [],
   "source": [
    "class Person(object):\n",
    "\n",
    "    species = \"Homo sapiens\"\n",
    "\n",
    "    def __init__(self, name=\"Unknown\", age=18):\n",
    "        self.name = name.title()\n",
    "        self.age = age\n",
    "\n",
    "    def __str__(self):\n",
    "        return \"Name: {0}, Age: {1}\".format(self.name, self.age)\n",
    "\n",
    "    def __repr__(self):\n",
    "        return \"Person('{0}',{1})\".format(self.name, self.age)\n",
    "\n",
    "    def __eq__(self, other):\n",
    "        return self.age == other.age\n",
    "\n",
    "    def talk(self):\n",
    "        return \"Hello, my name is {}.\".format(self.name)"
   ]
  },
  {
   "cell_type": "markdown",
   "metadata": {},
   "source": [
    "## (U) Inheritance \n",
    "\n",
    "(U) There are many types of people, and each type could be represented by its own class. It would be a pain if we had to reimplement the fundamental `Person` traits in each new class. Thankfully, **inheritance** gives us a way to avoid that. We've already seen how it works: `Person` inherits from (or is a **subclass** of) the `object` class. However, any class can be inherited from (i.e. have _descendants_). "
   ]
  },
  {
   "cell_type": "code",
   "execution_count": null,
   "metadata": {},
   "outputs": [],
   "source": [
    "class Student(Person):\n",
    "    \n",
    "    bedtime = 'Midnight'\n",
    "    \n",
    "    def do_homework(self): \n",
    "        import time\n",
    "        print(\"I need to work.\") \n",
    "        time.sleep(5) \n",
    "        print(\"Did I just fall asleep?\")"
   ]
  },
  {
   "cell_type": "code",
   "execution_count": null,
   "metadata": {},
   "outputs": [],
   "source": [
    "tyler = Student(\"Tyler\", 19)"
   ]
  },
  {
   "cell_type": "code",
   "execution_count": null,
   "metadata": {},
   "outputs": [],
   "source": [
    "tyler.species"
   ]
  },
  {
   "cell_type": "code",
   "execution_count": null,
   "metadata": {},
   "outputs": [],
   "source": [
    "tyler.talk()"
   ]
  },
  {
   "cell_type": "code",
   "execution_count": null,
   "metadata": {},
   "outputs": [],
   "source": [
    "tyler.do_homework()"
   ]
  },
  {
   "cell_type": "markdown",
   "metadata": {},
   "source": [
    "(U) An object from the subclass has all the properties of the parent class, along with any additions from its own class definition. It is still easy to override behavior from the parent class - just create a method with the same name in the subclass. Using the parent class's behavior in the child class is tricky, but fun, because you have to use the `super` function."
   ]
  },
  {
   "cell_type": "code",
   "execution_count": null,
   "metadata": {},
   "outputs": [],
   "source": [
    "class Employee(Person): \n",
    "    def talk(self): \n",
    "        talk_str = super(Employee, self).talk() \n",
    "        return talk_str + \" I work for {}\".format(self.employer)"
   ]
  },
  {
   "cell_type": "code",
   "execution_count": null,
   "metadata": {},
   "outputs": [],
   "source": [
    "fred = Employee(\"Fred Flintstone\", 55)"
   ]
  },
  {
   "cell_type": "code",
   "execution_count": null,
   "metadata": {},
   "outputs": [],
   "source": [
    "fred.employer = \"Slate Rock and Gravel Company\""
   ]
  },
  {
   "cell_type": "code",
   "execution_count": null,
   "metadata": {},
   "outputs": [],
   "source": [
    "fred.talk()"
   ]
  },
  {
   "cell_type": "markdown",
   "metadata": {},
   "source": [
    "(U) The syntax here is strange at first. The `super` function takes a `class` (i.e. a `type`) as its first argument, and an object descended from that class as its second argument. The object has a chain of ancestor classes. For `fred`, that chain is `[Employee, Person, object]`. The `super` function goes through that chain and returns the class that is _after_ the one passed as the function's first argument. Therefore, `super` can be used to skip up the chain, passing modifications made in intermediate classes.\n",
    "\n",
    "(U) As a second, more common (but more complicated) example, it's often useful to add additional properties to subclass objects in the constructor. "
   ]
  },
  {
   "cell_type": "code",
   "execution_count": null,
   "metadata": {},
   "outputs": [],
   "source": [
    "class Employee(Person): \n",
    "    def __init__(self, name, age, employer): \n",
    "        super(Employee, self).__init__(name, age)\n",
    "        self.employer = employer \n",
    "    def talk(self): \n",
    "        talk_str = super(Employee, self).talk()\n",
    "        return talk_str + \" I work for {}\".format(self.employer)"
   ]
  },
  {
   "cell_type": "code",
   "execution_count": null,
   "metadata": {},
   "outputs": [],
   "source": [
    "fred = Employee(\"Fred Flintstone\", 55, \"Slate Rock and Gravel Company\")"
   ]
  },
  {
   "cell_type": "code",
   "execution_count": null,
   "metadata": {},
   "outputs": [],
   "source": [
    "fred.talk()"
   ]
  },
  {
   "cell_type": "markdown",
   "metadata": {},
   "source": [
    "(U) A `class` in Python can have more than one listed ancestor (which is sometimes called _polymorphism_). We won't go into great detail here, aside from pointing out that it exists and is powerful but complicated. "
   ]
  },
  {
   "cell_type": "code",
   "execution_count": null,
   "metadata": {},
   "outputs": [],
   "source": [
    "class StudentEmployee(Student, Employee):\n",
    "    pass"
   ]
  },
  {
   "cell_type": "code",
   "execution_count": null,
   "metadata": {},
   "outputs": [],
   "source": [
    "ann = StudentEmployee(\"ann\", 58, \"Family Services\")"
   ]
  },
  {
   "cell_type": "code",
   "execution_count": null,
   "metadata": {},
   "outputs": [],
   "source": [
    "ann.talk()"
   ]
  },
  {
   "cell_type": "code",
   "execution_count": null,
   "metadata": {},
   "outputs": [],
   "source": [
    "bill = StudentEmployee(\"bill\", 20) # what happens here? why? "
   ]
  },
  {
   "cell_type": "markdown",
   "metadata": {},
   "source": [
    "## (U) Lesson Exercises \n",
    "\n",
    "### (U) Exercise 1 \n",
    "\n",
    "(U) Write a Query class that has the following attributes: \n",
    "\n",
    "- description - A description of what our search term is relevant to\n",
    "- search_term - An identifier that might be searched for in a database, like a phone number, email address, or IP address.\n",
    "\n",
    "(U) Provide default values for each attribute (consider using `None`). Make it so that when you print it, you can display all of the attributes and their values nicely. \n",
    "\n",
    "Define your code here:"
   ]
  },
  {
   "cell_type": "code",
   "execution_count": null,
   "metadata": {},
   "outputs": [],
   "source": [
    "# Your class definition goes here"
   ]
  },
  {
   "cell_type": "markdown",
   "metadata": {},
   "source": [
    "(U) Afterwards, the code in these cells should work: "
   ]
  },
  {
   "cell_type": "code",
   "execution_count": null,
   "metadata": {},
   "outputs": [],
   "source": [
    "queryl = Query(\"My friend Bob's email address\", \"bob@friendly_email_provider.com\")\n",
    "# This might find emails that were sent by or to Bob."
   ]
  },
  {
   "cell_type": "code",
   "execution_count": null,
   "metadata": {},
   "outputs": [],
   "source": [
    "print(queryl)"
   ]
  },
  {
   "cell_type": "markdown",
   "metadata": {},
   "source": [
    "### (U) Exercise 2 \n",
    "\n",
    "(U) Make a RangedQuery class that inherits from Query and has the additional attributes: \n",
    "\n",
    "- begin_date \n",
    "- end_date \n",
    "\n",
    "(U) For now, just make the dates of the form YYYY-MM-DD. Don't worry about date formatting or error checking for now. We'll talk about the `datetime` module and exception handling later.\n",
    "\n",
    "(U) Provide defaults for these attributes. Make sure you incorporate the Query class's `__init__` into the RangedQuery `__init__` method. Ensure the new class can also be printed nicely. "
   ]
  },
  {
   "cell_type": "code",
   "execution_count": null,
   "metadata": {},
   "outputs": [],
   "source": [
    "# Your class definition goes here"
   ]
  },
  {
   "cell_type": "markdown",
   "metadata": {},
   "source": [
    "(U) Afterwards this code should work: "
   ]
  },
  {
   "cell_type": "code",
   "execution_count": null,
   "metadata": {},
   "outputs": [],
   "source": [
    "query2 = RangedQuery(\"IP address of Bob's email server\", \"10.254.18.162\", \"2016-12-01\", \"2017-01-01\")\n",
    "# This might find emails received from Bob's email server in December of 2016."
   ]
  },
  {
   "cell_type": "code",
   "execution_count": null,
   "metadata": {},
   "outputs": [],
   "source": [
    "print(query2) "
   ]
  },
  {
   "cell_type": "markdown",
   "metadata": {},
   "source": [
    "### (U) Exercise 3 \n",
    "\n",
    "(U) Change the Query class to accept a list of search_terms rather than a single search_term. Make sure you can still print everything OK. "
   ]
  },
  {
   "cell_type": "markdown",
   "metadata": {},
   "source": [
    "# Lesson 07: Supplement\n",
    "\n",
    "(U) Supplement to lesson 07 based on exercises from previous lectures. \n",
    "\n",
    "(U) You may have written a function like this to check if an item is in your grocery list and print something snarky if it's not: "
   ]
  },
  {
   "cell_type": "code",
   "execution_count": null,
   "metadata": {},
   "outputs": [],
   "source": [
    "def in_my_list(item) : \n",
    "    mylist = ['apples', 'milk', 'butter', 'orange juice'] \n",
    "    if item in my_list: \n",
    "        return 'Got it!' \n",
    "    else: \n",
    "        return 'Nope!'"
   ]
  },
  {
   "cell_type": "code",
   "execution_count": null,
   "metadata": {},
   "outputs": [],
   "source": [
    "in_my_list('apples') "
   ]
  },
  {
   "cell_type": "code",
   "execution_count": null,
   "metadata": {},
   "outputs": [],
   "source": [
    "in_my_list('chocolate') "
   ]
  },
  {
   "cell_type": "markdown",
   "metadata": {},
   "source": [
    "(U) But what if I really wanted chocolate to be on my list? I would have to rewrite my function. If I had written a class instead of a function, I would be able to change my list. "
   ]
  },
  {
   "cell_type": "code",
   "execution_count": null,
   "metadata": {},
   "outputs": [],
   "source": [
    "class MyList(object) : \n",
    "    mylist = ['apples', 'milk', 'butter', 'orange juice']\n",
    "    def in_my_list(self, item):\n",
    "        if item in self.my_list:\n",
    "            return 'Got it!' \n",
    "        else: \n",
    "            return 'Nope!' "
   ]
  },
  {
   "cell_type": "code",
   "execution_count": null,
   "metadata": {},
   "outputs": [],
   "source": [
    "december = MyList() "
   ]
  },
  {
   "cell_type": "code",
   "execution_count": null,
   "metadata": {},
   "outputs": [],
   "source": [
    "december.in_my_list('chocolate') "
   ]
  },
  {
   "cell_type": "code",
   "execution_count": null,
   "metadata": {},
   "outputs": [],
   "source": [
    "december.my_list = december.my_list + ['chocolate'] "
   ]
  },
  {
   "cell_type": "code",
   "execution_count": null,
   "metadata": {},
   "outputs": [],
   "source": [
    "december.in_my_list('chocolate')"
   ]
  },
  {
   "cell_type": "markdown",
   "metadata": {},
   "source": [
    "(U) Now I have a nice template for grocery lists and grocery list behavior "
   ]
  },
  {
   "cell_type": "code",
   "execution_count": null,
   "metadata": {},
   "outputs": [],
   "source": [
    "jan = MyList() "
   ]
  },
  {
   "cell_type": "code",
   "execution_count": null,
   "metadata": {},
   "outputs": [],
   "source": [
    "december.my_list "
   ]
  },
  {
   "cell_type": "code",
   "execution_count": null,
   "metadata": {},
   "outputs": [],
   "source": [
    "jan.my_list "
   ]
  },
  {
   "cell_type": "markdown",
   "metadata": {},
   "source": [
    "(U) This isn't helpful: "
   ]
  },
  {
   "cell_type": "code",
   "execution_count": null,
   "metadata": {},
   "outputs": [],
   "source": [
    "print(december) "
   ]
  },
  {
   "cell_type": "markdown",
   "metadata": {},
   "source": [
    "So we overwrite the `__str__` method we inherited from object:"
   ]
  },
  {
   "cell_type": "code",
   "execution_count": null,
   "metadata": {},
   "outputs": [],
   "source": [
    "class MyList(object) : \n",
    "    mylist = ['apples', 'milk', 'butter', 'orange juice']\n",
    "    \n",
    "    def __str__(self):\n",
    "        return \"My list: {}\".format(', '.join(self.my_list))\n",
    "    \n",
    "    def __repr__(self):\n",
    "        return self.__str__()\n",
    "    \n",
    "    def in_my_list(self, item):\n",
    "        if item in self.my_list:\n",
    "            return 'Got it!' \n",
    "        else: \n",
    "            return 'Nope!' "
   ]
  },
  {
   "cell_type": "code",
   "execution_count": null,
   "metadata": {},
   "outputs": [],
   "source": [
    "december = MyList() \n",
    "print(december) "
   ]
  },
  {
   "cell_type": "code",
   "execution_count": null,
   "metadata": {},
   "outputs": [],
   "source": [
    "december "
   ]
  },
  {
   "cell_type": "markdown",
   "metadata": {},
   "source": [
    "(U) Maybe I also want to be more easily test if my favorite snack is on the list... "
   ]
  },
  {
   "cell_type": "code",
   "execution_count": null,
   "metadata": {},
   "outputs": [],
   "source": [
    "class MyList(object) : \n",
    "    mylist = ['apples', 'milk', 'butter', 'orange juice']\n",
    "    \n",
    "    def __init__(self, snack=\"chocolate\"):\n",
    "        self.snack = snack\n",
    "    \n",
    "    def __str__(self):\n",
    "        return \"My list: {}\".format(', '.join(self.my_list))\n",
    "    \n",
    "    def __repr__(self):\n",
    "        return self.__str__()\n",
    "    \n",
    "    def in_my_list(self, item):\n",
    "        if item in self.my_list:\n",
    "            return 'Got it!' \n",
    "        else: \n",
    "            return 'Nope!'\n",
    "    \n",
    "    def snack_check(self):\n",
    "        return self.snack in self.my_list"
   ]
  },
  {
   "cell_type": "code",
   "execution_count": null,
   "metadata": {},
   "outputs": [],
   "source": [
    "#My favorite snack is chocolate ... But in January I'm going to pretend it's apples \n",
    "\n",
    "jan = MyList('apples') \n",
    "jan.snack_check() "
   ]
  },
  {
   "cell_type": "code",
   "execution_count": null,
   "metadata": {},
   "outputs": [],
   "source": [
    "#But in February , I'm back to the default \n",
    "\n",
    "feb = MyList() \n",
    "feb.snack_check() "
   ]
  },
  {
   "cell_type": "markdown",
   "metadata": {},
   "source": [
    "(U) About that `object` parent class... "
   ]
  },
  {
   "cell_type": "code",
   "execution_count": null,
   "metadata": {},
   "outputs": [],
   "source": [
    "dir(object) \n",
    "# These are all the things you inherit by subclassing object. "
   ]
  },
  {
   "cell_type": "markdown",
   "metadata": {},
   "source": [
    "(U) Let's try subclassing MyList."
   ]
  },
  {
   "cell_type": "code",
   "execution_count": null,
   "metadata": {},
   "outputs": [],
   "source": [
    "class CapsList(MyList): \n",
    "    def in_my_list(self, item): \n",
    "        response = super(CapsList,self).in_my_list(item) \n",
    "        return response.upper() "
   ]
  },
  {
   "cell_type": "code",
   "execution_count": null,
   "metadata": {},
   "outputs": [],
   "source": [
    "shouty = CapsList()"
   ]
  },
  {
   "cell_type": "code",
   "execution_count": null,
   "metadata": {},
   "outputs": [],
   "source": [
    "shouty.in_my_list('chocolate') "
   ]
  },
  {
   "cell_type": "code",
   "execution_count": null,
   "metadata": {},
   "outputs": [],
   "source": [
    "dir(CapsList) "
   ]
  },
  {
   "cell_type": "markdown",
   "metadata": {},
   "source": [
    "(U) You can also call the super class directly, like so: "
   ]
  },
  {
   "cell_type": "code",
   "execution_count": null,
   "metadata": {},
   "outputs": [],
   "source": [
    "class CapsList(MyList) : \n",
    "    def in_my_list(self,item): \n",
    "        # But you still have to pass self \n",
    "        response = MyList.in_my_list(self, item) \n",
    "        return response.upper() "
   ]
  },
  {
   "cell_type": "code",
   "execution_count": null,
   "metadata": {},
   "outputs": [],
   "source": [
    "shouty = CapsList()\n",
    "shouty.in_my_list('chocolate')"
   ]
  },
  {
   "cell_type": "markdown",
   "metadata": {},
   "source": [
    "(U) Super actually assumes the correct things... Most of the time. "
   ]
  },
  {
   "cell_type": "code",
   "execution_count": null,
   "metadata": {},
   "outputs": [],
   "source": [
    "class CapsList(MyList) : \n",
    "    def in_my_list(self, item): \n",
    "        response = super().in_my_list(item) \n",
    "        return response.upper() "
   ]
  },
  {
   "cell_type": "code",
   "execution_count": null,
   "metadata": {},
   "outputs": [],
   "source": [
    "shouty = CapsList() \n",
    "shouty.in_my_list('chocolate') "
   ]
  },
  {
   "cell_type": "code",
   "execution_count": null,
   "metadata": {},
   "outputs": [],
   "source": [
    "help(super) "
   ]
  },
  {
   "cell_type": "markdown",
   "metadata": {},
   "source": [
    "# UNCLASSIFIED\n",
    "\n",
    "Transcribed from FOIA Doc ID: 6689693\n",
    "\n",
    "https://archive.org/details/comp3321"
   ]
  }
 ],
 "metadata": {
  "kernelspec": {
   "display_name": "Python 3",
   "language": "python",
   "name": "python3"
  },
  "language_info": {
   "codemirror_mode": {
    "name": "ipython",
    "version": 3
   },
   "file_extension": ".py",
   "mimetype": "text/x-python",
   "name": "python",
   "nbconvert_exporter": "python",
   "pygments_lexer": "ipython3",
   "version": "3.8.2"
  }
 },
 "nbformat": 4,
 "nbformat_minor": 2
}
