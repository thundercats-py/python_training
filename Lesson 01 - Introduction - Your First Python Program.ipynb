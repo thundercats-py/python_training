{
 "cells": [
  {
   "cell_type": "markdown",
   "metadata": {},
   "source": [
    "# UNCLASSIFIED\n",
    "\n",
    "Transcribed from FOIA Doc ID: 6689693\n",
    "\n",
    "https://archive.org/details/comp3321"
   ]
  },
  {
   "cell_type": "markdown",
   "metadata": {},
   "source": [
    "# Basic Basics: Data and Operations\n",
    "\n",
    "The most basic data types in Python are:\n",
    "\n",
    "- Numbers\n",
    "    - Integer `<type 'int'>` (these are \"arbitrary precision\"; no need to worry about whether it's 32 bits or 64 bits, etc.)\n",
    "    - Float `<type 'float'>` (think of floats as fast decimals; they're actually decimal representations of binary floating point numbers so there are some accuracy issues when a decimal number doesn't have an exact binary representation)\n",
    "    - Complex `<type 'complex'>` (Imaginary numbers)\n",
    "- Strings `<type 'str'>`\n",
    "    - No difference between single and double quotes\n",
    "    - Escape special characters with `\\`, (e.g. quotation marks)\n",
    "    - Raw string `r'raw string'` prevents need for some escapes.\n",
    "    - Triple-quotes allow multi-line strings\n",
    "    - Unicode `u'Bert \\x26 Ernie' <type 'unicode'>`\n",
    "- Booleans: `True` and `False`, `<type 'bool'>`\n",
    "\n",
    "We operate on data using\n",
    "\n",
    "- **operators**, e.g. mathematical operators `+`, `-`; the keyword `in`, and others\n",
    "- **functions**, which are operations that take one or more pieces of data as arguments, e.g. `type('hello')`, `len('world')`, and \n",
    "- **methods**, which are attached to a piece of data and called from it using a `.` to separate the data from the method, e.g. `'Hello World'.split()`, or `'abc'.upper()`.\n",
    "\n",
    "Deep in the guts of Python, these are all essentially the same thing, but syntactically and pedagogically it makes sense to separate them.\n",
    "\n",
    "Pieces of basic data can be stored inside containers, including\n",
    "\n",
    "- Lists\n",
    "- Dictionaries\n",
    "- Sets\n",
    "\n",
    "but we'll introduce those later.\n",
    "\n",
    "# The Interactive Interpreter\n",
    "\n",
    "With that basic background, let's try some things in your Windows command window...\n",
    "\n",
    "```\n",
    "C:\\>python\n",
    "Python 3.8.2 (default, Feb 26 2020, 22:21:03)\n",
    "Type \"help\", \"copyright\", \"credits\" or \"license\" for more information.\n",
    "```\n",
    "```python\n",
    ">>> 5 + 7\n",
    "12\n",
    ">>> type(5+7)\n",
    "<class 'int'>\n",
    ">>> 4.5 - 5.5\n",
    "-1.0\n",
    ">>> type(7.1 - 2.1)\n",
    "<class 'float'>\n",
    ">>> 13/5\n",
    "2.6\n",
    ">>> 13//5\n",
    "2\n",
    ">>> 1j * 4j\n",
    "(-4+0j)\n",
    ">>> \"hello\" + \" world\"\n",
    "'hello world'\n",
    ">>> \"hello \" * 10\n",
    "'hello hello hello hello hello hello hello hello hello hello '\n",
    "```\n",
    "\n",
    "# Executing code in a file\n",
    "\n",
    "You can use any text editor to create a python program. Just give the text file a `.py` file extension.\n",
    "\n",
    "Type some Python statements into a .py file:\n",
    "\n",
    "first-program.py:\n",
    "```python\n",
    "5+7\n",
    "9*43\n",
    "8**12\n",
    "```\n",
    "Don't forget to save it.\n",
    "\n",
    "To run it, give the file name as an argument to Python:\n",
    "\n",
    "Make sure your command prompt's working directory is the same as the location where you saved the file.\n",
    "\n",
    "```\n",
    "C:\\>python first-program.py\n",
    "```\n",
    "\n",
    "Nothing happened! This is because auto-printing of the output of a function _only happens in the interpreter._ Fix it up:\n",
    "\n",
    "first-program.py:\n",
    "```python\n",
    "print(5+7)\n",
    "print(9*43)\n",
    "print(8**12)\n",
    "```\n",
    "\n",
    "# Built-in functions and methods\n",
    "\n",
    "Some functions work on almost any arguments that you supply:\n",
    "\n",
    "- `help(x)`: shows interactive help.\n",
    "- `dir(x)`: gives the **directory** of the object, i.e. all the methods available\n",
    "- `type(x)`: tells you the type of `x` --a type is almost the same as any other object\n",
    "- `isinstance(a,b)`: tells if object `a` is an instance of type `b`; something like `type(a) == b`\n",
    "- `print(x)`: prints the string representation of `x` to the console\n",
    "- `hasattr(a,b)`: tells whether `a` has an attribute with name `b`; something like `b in dir(a)`\n",
    "- `getattr(obj, 'name')`: Get a named attribute from an object; something like `obj.name`\n",
    "- `id(obj)`: Get the unique identity of an instance of an object. Memory address.\n",
    "- `input(prompt)`: Read a string from standard input. The string supplied in prompt is printed before reading the input.\n",
    "\n",
    "Constructor functions usually try to do their best with the arguments you give, and return the appropriate data of the requested type:\n",
    "\n",
    "- `str`: turns numbers (and other things) into their string representations.\n",
    "- `int`: truncates `float`, parses `str`ings containing a single integer\n",
    "- `float`: parses `str`ings, gives float representation of `int`s\n",
    "- `complex`: takes `(real,imag)` numeric arguments, or parses a `str` for a single number\n",
    "\n",
    "Other functions only work with one or two types of data\n",
    "\n",
    "- Numbers: \n",
    "    - Functions: `abs`, `round`, `float`, `max`, `min`, `pow` (modular), `chr`, `divmod`, etc. \n",
    "    - Operators: Standard math, bitwise: `<<`,`>>`,`&`, `|`, `^`, `~`\n",
    "    - Methods: Numeric classes don't have methods\n",
    "- Strings:\n",
    "    - Functions: `len`, `min`, `max`, `ord`\n",
    "    - Operators: `+`, `*` (with a number), `in`\n",
    "    - Methods: `strip`, `split`, `startswith`, `upper`, `find`, `index`, many more; use `dir('any string')` to find more\n",
    "\n",
    "# Exercises:\n",
    "\n",
    "1. Make a shopping list of five things you need at the grocery store. Put each item on it's own line in a cell. Remember to use quotes! Use `print()` so that each of your items displays (try it first without). "
   ]
  },
  {
   "cell_type": "code",
   "execution_count": null,
   "metadata": {},
   "outputs": [],
   "source": []
  },
  {
   "cell_type": "markdown",
   "metadata": {},
   "source": [
    "2. Your groceries ring up as 9.42, 5.67, 3.25, 13.40, and 7.50 respectively. Use python as a handy calculator to add up these amounts. "
   ]
  },
  {
   "cell_type": "code",
   "execution_count": null,
   "metadata": {},
   "outputs": [],
   "source": []
  },
  {
   "cell_type": "markdown",
   "metadata": {},
   "source": [
    "3. But wait! You decide you to buy five of the last item. Re-calculate your total. "
   ]
  },
  {
   "cell_type": "code",
   "execution_count": null,
   "metadata": {},
   "outputs": [],
   "source": []
  },
  {
   "cell_type": "markdown",
   "metadata": {},
   "source": [
    "4. Using the `len()` function, determine the number of characters in the string `\"blood-oxygenation level dependent functional magnetic resonance imaging\"`"
   ]
  },
  {
   "cell_type": "code",
   "execution_count": null,
   "metadata": {},
   "outputs": [],
   "source": []
  },
  {
   "cell_type": "markdown",
   "metadata": {},
   "source": [
    "5. Pick your favorite snack. Use the `*` operator to print 100 copies of it. Modify your code to have them print with spaces between them. "
   ]
  },
  {
   "cell_type": "code",
   "execution_count": null,
   "metadata": {},
   "outputs": [],
   "source": []
  },
  {
   "cell_type": "markdown",
   "metadata": {},
   "source": [
    "6. Challenge: Run `dir('any string')`. Pick two methods that sound interesting and run `help('any string'.interesting_method)` for both of them. Can you figure out how to use these methods? "
   ]
  },
  {
   "cell_type": "code",
   "execution_count": null,
   "metadata": {},
   "outputs": [],
   "source": []
  },
  {
   "cell_type": "markdown",
   "metadata": {},
   "source": [
    "7. Bonus challenge: Can you figure out how to get the same output as Exercise 1 using only one print statement? If so, can you also do it in one line of code? "
   ]
  },
  {
   "cell_type": "code",
   "execution_count": null,
   "metadata": {},
   "outputs": [],
   "source": []
  },
  {
   "cell_type": "markdown",
   "metadata": {},
   "source": [
    "# UNCLASSIFIED\n",
    "\n",
    "Transcribed from FOIA Doc ID: 6689693\n",
    "\n",
    "https://archive.org/details/comp3321"
   ]
  }
 ],
 "metadata": {
  "kernelspec": {
   "display_name": "Python 3",
   "language": "python",
   "name": "python3"
  },
  "language_info": {
   "codemirror_mode": {
    "name": "ipython",
    "version": 3
   },
   "file_extension": ".py",
   "mimetype": "text/x-python",
   "name": "python",
   "nbconvert_exporter": "python",
   "pygments_lexer": "ipython3",
   "version": "3.8.2"
  }
 },
 "nbformat": 4,
 "nbformat_minor": 4
}
