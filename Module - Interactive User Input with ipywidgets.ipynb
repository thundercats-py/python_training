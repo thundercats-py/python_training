{
 "cells": [
  {
   "cell_type": "markdown",
   "metadata": {},
   "source": [
    "# UNCLASSIFIED~~//FOR OFFICIAL USE ONLY~~\n",
    "\n",
    "Transcribed from FOIA Doc ID: 6689695\n",
    "\n",
    "https://archive.org/details/comp3321"
   ]
  },
  {
   "cell_type": "markdown",
   "metadata": {},
   "source": [
    "**Note:** The overall classification of this lesson is marked as indicated above, however the material doesn't have portion markings after the second paragraph below. Also, looking through the material it's clear there isn't anything about it that warants an FOUO categorization so it appears this lesson was overprotected."
   ]
  },
  {
   "cell_type": "markdown",
   "metadata": {},
   "source": [
    "# (U) ipywidgets \n",
    "\n",
    "(U) ipywidgets is used for making interactive widgets inside your jupyter notebook \n",
    "\n",
    "(U) The most basic way to get user input is to use the python built in `input` function. For more complicated types of interaction, you can use ipywidgets "
   ]
  },
  {
   "cell_type": "code",
   "execution_count": null,
   "metadata": {},
   "outputs": [],
   "source": [
    "# input example (not using ipywidgets) \n",
    "a = input(\"Give me your input: \")\n",
    "print(\"Your input was: \" + a)"
   ]
  },
  {
   "cell_type": "code",
   "execution_count": null,
   "metadata": {},
   "outputs": [],
   "source": [
    "import ipywidgets\n",
    "from ipywidgets import *"
   ]
  },
  {
   "cell_type": "markdown",
   "metadata": {},
   "source": [
    "`interact` is the easiest way to get started with ipywidgets by creating a user interface and automatically calling the specified function."
   ]
  },
  {
   "cell_type": "code",
   "execution_count": null,
   "metadata": {},
   "outputs": [],
   "source": [
    "def f(x):\n",
    "    return x*2\n",
    "\n",
    "interact(f,x=10)"
   ]
  },
  {
   "cell_type": "code",
   "execution_count": null,
   "metadata": {},
   "outputs": [],
   "source": [
    "def g(check,y): \n",
    "    print (\"{} {}\".format(check,y))\n",
    "interact(g,check=True,y=\"Hi there! \")"
   ]
  },
  {
   "cell_type": "markdown",
   "metadata": {},
   "source": [
    "But, if you need more flexibility, you can start from scratch by picking a widget and then calling the functionality you want. Hint: you get more widget choices this way. "
   ]
  },
  {
   "cell_type": "code",
   "execution_count": null,
   "metadata": {},
   "outputs": [],
   "source": [
    "IntSlider()"
   ]
  },
  {
   "cell_type": "code",
   "execution_count": null,
   "metadata": {},
   "outputs": [],
   "source": [
    "w = IntSlider()"
   ]
  },
  {
   "cell_type": "code",
   "execution_count": null,
   "metadata": {},
   "outputs": [],
   "source": [
    "w"
   ]
  },
  {
   "cell_type": "markdown",
   "metadata": {},
   "source": [
    "You can explicitly display using IPython's display module. Note what happens when you display the same widget more than once! "
   ]
  },
  {
   "cell_type": "code",
   "execution_count": null,
   "metadata": {},
   "outputs": [],
   "source": [
    "from IPython.display import display \n",
    "display(w)"
   ]
  },
  {
   "cell_type": "code",
   "execution_count": null,
   "metadata": {},
   "outputs": [],
   "source": [
    "w.value"
   ]
  },
  {
   "cell_type": "markdown",
   "metadata": {},
   "source": [
    "Now we have a value from our slider we can use in code. But what other attributes or \"keys\" does our slider widget have? "
   ]
  },
  {
   "cell_type": "code",
   "execution_count": null,
   "metadata": {},
   "outputs": [],
   "source": [
    "w.max"
   ]
  },
  {
   "cell_type": "code",
   "execution_count": null,
   "metadata": {},
   "outputs": [],
   "source": [
    "new_w = IntSlider(max=200)\n",
    "display(new_w)"
   ]
  },
  {
   "cell_type": "markdown",
   "metadata": {},
   "source": [
    "You can also close your widget "
   ]
  },
  {
   "cell_type": "code",
   "execution_count": null,
   "metadata": {},
   "outputs": [],
   "source": [
    "w.close()\n",
    "new_w.close()"
   ]
  },
  {
   "cell_type": "markdown",
   "metadata": {},
   "source": [
    "Here are all the available widgets: "
   ]
  },
  {
   "cell_type": "code",
   "execution_count": null,
   "metadata": {},
   "outputs": [],
   "source": [
    "list(Widget.widget_types.items())"
   ]
  },
  {
   "cell_type": "markdown",
   "metadata": {},
   "source": [
    "## Categories of widgets\n",
    "\n",
    "**Numeric:** IntSlider, FloatSlider, IntRangeSlider, FloatRangeSlider, IntProgress, FloatProgress, BoundedlntText, BoundedFloatText, IntText, FloatText \n",
    "\n",
    "**Boolean:** ToggleButton, Checkbox, Valid \n",
    "\n",
    "**Selection:** Dropdown, RadioButtons, Select, ToggleButtons, SelectMultiple \n",
    "\n",
    "**String Widgets:** Text, Textarea \n",
    "\n",
    "**Other common:** Button, ColorPicker, HTML, Image "
   ]
  },
  {
   "cell_type": "code",
   "execution_count": null,
   "metadata": {},
   "outputs": [],
   "source": [
    "Dropdown(options=[\"1\", \"2\", \"3\", \"cat\"])"
   ]
  },
  {
   "cell_type": "code",
   "execution_count": null,
   "metadata": {},
   "outputs": [],
   "source": [
    "bt = Button(description=\"Click me!\") \n",
    "display(bt)"
   ]
  },
  {
   "cell_type": "markdown",
   "metadata": {},
   "source": [
    "Buttons don't do much on their own, so we have to use some event handling. We can define a function with the desired behavior and call it with the button's `on_click` method. "
   ]
  },
  {
   "cell_type": "code",
   "execution_count": null,
   "metadata": {},
   "outputs": [],
   "source": [
    "def clicker(b):\n",
    "    print(\"Hello World!!!!\")\n",
    "\n",
    "bt.on_click(clicker)"
   ]
  },
  {
   "cell_type": "code",
   "execution_count": null,
   "metadata": {},
   "outputs": [],
   "source": [
    "def f(change):\n",
    "    print(change['new'])\n",
    "\n",
    "w = IntSlider()\n",
    "display(w)\n",
    "w.observe(f, names='value')"
   ]
  },
  {
   "cell_type": "markdown",
   "metadata": {},
   "source": [
    "## Wrapping Multiple Widgets in Boxes \n",
    "\n",
    "When working with multiple input widgets, it's often nice to wrap it all in a nice little box. ipywidgets provides a few options for this -- we'll cover HBox (horizontal box) and VBox (vertical box)."
   ]
  },
  {
   "cell_type": "markdown",
   "metadata": {},
   "source": [
    "### HBox \n",
    "\n",
    "This will display the widgets horizontally "
   ]
  },
  {
   "cell_type": "code",
   "execution_count": null,
   "metadata": {},
   "outputs": [],
   "source": [
    "fruit_list = Dropdown(\n",
    "    options = ['apple', 'cherry', 'orange', 'plum', 'pear']\n",
    ")\n",
    "fruit_label = HTML(\n",
    "    value = 'Select a fruit from the list:&nbsp;&nbsp;'\n",
    ")\n",
    "fruit_box = HBox(children=[fruit_label, fruit_list])\n",
    "fruit_box"
   ]
  },
  {
   "cell_type": "markdown",
   "metadata": {},
   "source": [
    "### VBox \n",
    "\n",
    "This will display the widgets (or boxes) vertically "
   ]
  },
  {
   "cell_type": "code",
   "execution_count": null,
   "metadata": {},
   "outputs": [],
   "source": [
    "num_label = HTML(\n",
    "    value = 'Choose the number of fruits:&nbsp;&nbsp;'\n",
    ")\n",
    "\n",
    "num_options = IntSlider(min=1, max=20) \n",
    "\n",
    "num_box = HBox(children=(num_label, num_options))\n",
    "\n",
    "type_label = HTML(\n",
    "    value = 'Select the type of fruit:&nbsp;&nbsp;'\n",
    ")\n",
    "\n",
    "type_options = RadioButtons(\n",
    "    options=('Under-ripe', 'Ripe', 'Rotten')\n",
    ")\n",
    "\n",
    "type_box = HBox(children=(type_label, type_options))\n",
    "\n",
    "fruit_vbox = VBox(children=(fruit_box, num_box, type_box))\n",
    "fruit_vbox"
   ]
  },
  {
   "cell_type": "markdown",
   "metadata": {},
   "source": [
    "### Retrieving Values from a Box "
   ]
  },
  {
   "cell_type": "code",
   "execution_count": null,
   "metadata": {},
   "outputs": [],
   "source": [
    "box_values = {}\n",
    "# the elements in a box can be accessed using the children attribute\n",
    "for index, box in enumerate(fruit_vbox.children):\n",
    "    for child in box.children:\n",
    "        if type(child) != ipywidgets.widgets.widget_string.HTML:\n",
    "            if index == 0:\n",
    "                print(\"The selected fruit is:\", child.value)\n",
    "                box_values['fruit'] = child.value\n",
    "            elif index == 1:\n",
    "                print(\"The select number of fruits is: \", str (child.value))\n",
    "                box_values['count'] = child.value\n",
    "            elif index == 2:\n",
    "                print(\"The selected type of fruit is: \", str(child.value))\n",
    "                box_values['type'] = child.value\n",
    "box_values"
   ]
  },
  {
   "cell_type": "markdown",
   "metadata": {},
   "source": [
    "### Specify Layout of the Widgets/Boxes "
   ]
  },
  {
   "cell_type": "code",
   "execution_count": null,
   "metadata": {},
   "outputs": [],
   "source": [
    "form_item_layout = Layout(\n",
    "    display = 'flex',\n",
    "    flex_flow = 'row',\n",
    "    justify_content = 'space-between',\n",
    "    width = '70%',\n",
    "    align_items = 'initial',\n",
    ")\n",
    "\n",
    "veggie_label = HTML(\n",
    "    value='Select a vegetable from the list:&nbsp;&nbsp;',\n",
    "    layout=Layout(width='20%', height='65px', border='solid 1px')\n",
    ") \n",
    "\n",
    "veggie_options = Dropdown(\n",
    "    options=['corn', 'lettuce', 'tomato', 'potato', 'spinach'], \n",
    "    layout=Layout(width='30%', height='65px')\n",
    ") \n",
    "\n",
    "veggie_box = HBox(\n",
    "    children=(veggie_label, veggie_options),\n",
    "    layout=Layout(width='100%', border='solid 2px', height='100px'))\n",
    "\n",
    "veggie_box"
   ]
  },
  {
   "cell_type": "markdown",
   "metadata": {},
   "source": [
    "# UNCLASSIFIED~~//FOR OFFICIAL USE ONLY~~\n",
    "\n",
    "Transcribed from FOIA Doc ID: 6689695\n",
    "\n",
    "https://archive.org/details/comp3321"
   ]
  }
 ],
 "metadata": {
  "kernelspec": {
   "display_name": "Python 3",
   "language": "python",
   "name": "python3"
  },
  "language_info": {
   "codemirror_mode": {
    "name": "ipython",
    "version": 3
   },
   "file_extension": ".py",
   "mimetype": "text/x-python",
   "name": "python",
   "nbconvert_exporter": "python",
   "pygments_lexer": "ipython3",
   "version": "3.8.2"
  },
  "varInspector": {
   "cols": {
    "lenName": 16,
    "lenType": 16,
    "lenVar": 40
   },
   "kernels_config": {
    "python": {
     "delete_cmd_postfix": "",
     "delete_cmd_prefix": "del ",
     "library": "var_list.py",
     "varRefreshCmd": "print(var_dic_list())"
    },
    "r": {
     "delete_cmd_postfix": ") ",
     "delete_cmd_prefix": "rm(",
     "library": "var_list.r",
     "varRefreshCmd": "cat(var_dic_list()) "
    }
   },
   "types_to_exclude": [
    "module",
    "function",
    "builtin_function_or_method",
    "instance",
    "_Feature"
   ],
   "window_display": false
  }
 },
 "nbformat": 4,
 "nbformat_minor": 2
}
