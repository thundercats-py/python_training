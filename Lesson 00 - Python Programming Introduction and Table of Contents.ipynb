{
 "cells": [
  {
   "cell_type": "markdown",
   "metadata": {},
   "source": [
    "# UNCLASSIFIED~~//FOR OFFICIAL USE ONLY~~\n",
    "\n",
    "Transcribed from FOIA Doc ID: 6689692\n",
    "\n",
    "https://archive.org/details/comp3321"
   ]
  },
  {
   "cell_type": "markdown",
   "metadata": {},
   "source": [
    "## Source Material\n",
    "\n",
    "The material in these Jupyter Notebooks was transcribed from a PDF copy of the NSA COMP3321 Python course that was released under a Freedom of Information Act Request (FOIA) and later published by Chris Swenson on twitter on 2020-02-07.\n",
    "\n",
    "https://twitter.com/chris_swenson/status/1225836060938125313?s=09\n",
    "\n",
    "The PDF appears to be a scanned print out of the original Jupyter Notebook format and has some redacted For Official Use Only markings but is largely intact and presented here restored to Jupyter Notebook format. I've made some minor edits to make redacted sections make sense and attempted to rewrite sections that are referring to internal systems to make sense in the context of an internet course.\n",
    "\n",
    "I have carried forward the UNCLASSIFIED headers, footers, and portion markings. Where redactions have changed the classification markings the source material has the higher classification struck through so you'll see that here as well.\n",
    "\n",
    "In the event that I make an edit that changes preexisting content I am not changing the portion marking, but if I insert any entirely new content or completely replace existing content, those paragraphs will not have a portion marking. For example this section that you are reading now.\n",
    "\n",
    "There are some paragraphs in the source material that are lacking portion markings. I am assuming that that material is UNCLASSIFIED since it would have been reviewed prior to release. I decided to add (U) portion markings to those sections to make it clear that I am not the author of those portions and that they are from the original material.\n",
    "\n",
    "As a work of the U.S. Government released under the Freedom of Information Act the source material is believed to be in the public domain.\n",
    "\n",
    "[Copyright status of works by the federal government of the United States](https://en.wikipedia.org/wiki/Copyright_status_of_works_by_the_federal_government_of_the_United_States)"
   ]
  },
  {
   "cell_type": "markdown",
   "metadata": {},
   "source": [
    "## (U) History\n",
    "\n",
    ">...in December, 1989, I was looking for a \"hobby\" programming project that would keep me occupied during the week around Christmas. My office ... would be closed, but I had a home computer, and not much else on my hands. I decided to write an interpreter for the new scripting language I had been thinking about lately: a descendant of ABC that would appeal to Unix/C hackers. I chose Python as a working title for the project, being in a slightly irreverent mood (and a big fan of Monty Python's Flying Circus) \n",
    "\n",
    "Guido van Rossum, _Foreword for Programming Python, 1st Edition._"
   ]
  },
  {
   "cell_type": "markdown",
   "metadata": {},
   "source": [
    "## (U) Motivation\n",
    "\n",
    "(U) Python was designed to be easy and intuitive without sacrificing power, open source, and suitable for everyday tasks, with quick development times. It makes the layers between programming and problem solvingseem as thin as possible. It's suitable for: \n",
    "\n",
    "- (U) Opening an interactive session to solve the Daily Puzz. \n",
    "- (U) Writing a script that automates a tedious and time-consuming task,\n",
    "- (U) Creating a quick web service or an extensive web application, and \n",
    "- (U) Doing advanced mathematical research. \n",
    "\n",
    "(U) If you don't know any programming languages yet, Python is a good place to start. If you already know a different language, it's easy to pick Python up on the side. Python isn't entirely free of frustration and confusion, but hopefully you can avoid those parts until long after you get some good use out of Python. \n",
    "\n",
    "(U) Programming is not a spectator sport! The more you practice programming, the more you will learn in this class, both in breadth and depth. Python practically teaches itself--the goal of your instructors is to guide you to the good parts and help you move just a little bit more quickly than you would otherwise. _Happy Programming!_\n",
    "\n",
    "[XKCD Python](https://xkcd.com/353/)"
   ]
  },
  {
   "cell_type": "markdown",
   "metadata": {},
   "source": [
    "## (U) Objective \n",
    "\n",
    "(U) The goal of this class is to help students accomplish work tasks more easily and robustly by programming in Python. To pass the course, each student must write at least one Python program that has substantial personal utility or is of significant personal interest. When choosing a project, students are encouraged to first think of work-related tasks. For students who need help getting started, several suggestions for possible projects are found at the bottom of this page. On the first day, instructors will lead a discussion where project ideas are discussed. \n",
    "\n",
    "(U) This class is designed for students of varying backgrounds and levels of experience, from complete novice to competent programmer. Asking each student to design and implement their own project allows everyone to learn and progress at an individual pace. "
   ]
  },
  {
   "cell_type": "markdown",
   "metadata": {},
   "source": [
    "## (U) Logistics \n",
    "\n",
    "(U~~//FOUO~~) This course is designed to be suitable for self-learning. Even if no formal offerings are available for your schedule, you may access and work on the modules of this course at any time. Even if you don't have access to a recent version of Python on a workstation or virtual machine, you can access a personalized Jupyter notebook available on LABBENCH . For an individual pursuing this self-study option, it is recommended to first cover the **Python Basics** roughly in order, then select as many of the **Useful Modules** as seem appropriate. You can also use this Jupyter notebook to experiment and write solutions to exercises. \n",
    "\n",
    "(U~~//FOUO~~) One possibility for a group of potential students who start out with a different amounts of programming experience is to use Jupyter as a self-study tool until everyone has a basic understanding of programming, then follow up with an abbreviated instructor-led course (anywhere from two days to a week or more, depending on needs). "
   ]
  },
  {
   "cell_type": "markdown",
   "metadata": {},
   "source": [
    "## (U) In the Classroom \n",
    "\n",
    "(U) For a two week course: there will be a morning lecture and an afternoon lecture every day. The morning lecture will last between an hour and ninety minutes; the afternoon lecture will be somewhat shorter. **If a lecture is going too fast, please ask questions to slow us down!** If it's going too slow, feel free to work ahead on your own. \n",
    "\n",
    "(U~~//FOUO~~) You will use Python within your own environment. See [setup](setup.ipynb) for instructions on getting software installed. While we will point out some differences between the Python 3.x and 2.x lines, this course will focus on Python 3. If you need or want to run Python on Linux, we'll work with you. To the extent possible, we will write code in a platform-agnostic manner and point out features that are unique to specific versions of Python. _(Note: Paragraph rewritten to make sense without redactions)_\n",
    "\n",
    "(U) Although lectures will only take up two or three hours each day, we encourage you to spend the remainder of your day programming in Python, either on your own or in groups, but in the classroom if possible. At least one instructor will be available in the classroom during normal business hours.\n",
    "\n",
    "(U) This course is a work in progress; we welcome all suggestions. There are more **Useful Modules** than we can hope to cover in a two-week class; instructors will take a vote to determine which modules to cover. If there is another topic that you would like to have covered, especially along the lines of \"How would I do `x`, `y`, or `z` in Python?\", please ask--if there's enough interest we'll cover it in a lecture. We'd even be happy to have you contribute to the course documentation! Talk to an instructor to find out how."
   ]
  },
  {
   "cell_type": "markdown",
   "metadata": {},
   "source": [
    "## (U) Table of Contents \n",
    "\n",
    "### (U) Part I: Python Basics (Week 1) \n",
    "\n",
    "- (U) [Lesson 01: Introduction: Your First Python Program](Lesson%2001%20-%20Introduction%20-%20Your%20First%20Python%20Program.ipynb)\n",
    "- (U) [Lesson 02: Variables and Functions](Lesson%2002%20-%20Variables%20and%20Functions.ipynb)\n",
    "- (U) [Lesson 03: Flow Control](Lesson%2003%20-%20Flow%20Control.ipynb)\n",
    "- (U) [Lesson 04: Container Data Types](Lesson%2004%20-%20Container%20Data%20Types.ipynb)\n",
    "- (U) [Lesson 05: File Input and Output](Lesson%2005%20-%20File%20Input%20and%20Output.ipynb)\n",
    "- (U) [Lesson 06: Development Environment and Tooling](Lesson%2006%20-%20Development%20Environment%20and%20Tooling.ipynb) (We won't teach this block)\n",
    "- (U) [Lesson 07: Object Orienteering: Using Classes](Lesson%2007%20-%20Object%20Orienteering%20-%20Using%20Classes.ipynb)\n",
    "- (U) [Lesson 08: Modules, Namespaces, and Packages](Lesson%2008%20-%20Modules,%20Namespaces,%20and%20Packages.ipynb)\n",
    "- (U) [Lesson 09: Exceptions, Profiling, and Testing](Lesson%2009%20-%20Exceptions,%20Profiling,%20and%20Testing.ipynb)\n",
    "- (U) [Lesson 10: Iterators, Generators and Duck Typing](Lesson%2010%20-%20Iterators,%20Generators%20and%20Duck%20Typing.ipynb)\n",
    "- (U) [Lesson 11: String Formatting](Lesson%2011%20-%20String%20Formatting.ipynb)"
   ]
  },
  {
   "cell_type": "markdown",
   "metadata": {},
   "source": [
    "### (U) Part II: Useful Modules (Week 2)\n",
    "\n",
    "#### Schedule:\n",
    "- Monday 2020-04-20:\n",
    "  [Module: Structured Data: CSV, XML, and JSON](Module%20-%20Structured%20Data%20-%20CSV,%20XML,%20and%20JSON.ipynb)\n",
    "- Tuesday 2020-04-21:\n",
    "  [Module: Pandas](Module%20-%20Pandas.ipynb)\n",
    "- Wednesday 2020-04-22:\n",
    "  [Module: Dates and Times](Module%20-%20Dates%20and%20Times.ipynb)\n",
    "- Thursday 2020-04-23:\n",
    "  [Module: Interactive User Input with ipywidgets](Module%20-%20Interactive%20User%20Input%20with%20ipywidgets.ipynb)\n",
    "- Monday 2020-04-27:\n",
    "  [Module: Regular Expressions](Module%20-%20Regular%20Expressions.ipynb)\n",
    "- Tuesday 2020-04-28:\n",
    "  Module: Network Communication Over HTTPS and Sockets\n",
    "- Wednesday 2020-04-29:\n",
    "  Command Line Arguments\n",
    "- Thursday 2020-04-30:\n",
    "  ?\n",
    "  \n",
    "\n",
    "{\"pandas\": 5, \"structured data\": 5, \"ipywidgets\": 5, \"dates and times\": 4, \"regex\": 3, \"net com over http and sockets\": 2, \"command line arguments\": 2, \"threading and subprocesses\": 1, \"machine learning\": 1, \"beautiful soup\": 1, \"collections and itertools\": 1, \"webapps\": 1, \"sql\": 1}\n",
    "    \n",
    "    \n",
    "- #### (U) Module: Collections and Itertools # page 134\n",
    "```diff\n",
    "-(Under Construction)\n",
    "+(Useful)\n",
    "```\n",
    "    - Covers some useful specialized collection types from the `collections` module and how to use `itertools` to manipulate various collection types.\n",
    "    - (U) Supplement: Functional Programming # page 140\n",
    "        - Background on the functional programming methodology\n",
    "        - Discussion of `map`, `lambda` and `reduce`\n",
    "    - (U) Supplement: Recursion Examples # page 145\n",
    "    ```diff\n",
    "    -(Brain Breaker)\n",
    "    ```\n",
    "        - Recursion is a programming technique where you can define a function that calls itself. This can lead to some clever solutions to nested problems. Finding the nth value in the Fibonacci sequence or finding the square root of a number are examples of problems that can be solved with recursion.\n",
    "    \n",
    "- #### (U) Module: Command Line Arguments # page 151\n",
    "```diff\n",
    "-(Under Construction)\n",
    "```\n",
    "    - Shows you how you can write scripts that can be called from the command line with arguments. Helpful if you're writing command line utilities but might not be very useful if you're going to keep your work in jupyter.\n",
    "- #### (U) [Module: Dates and Times](Module%20-%20Dates%20and%20Times.ipynb) # page 157\n",
    "```diff\n",
    "+(Recommended)\n",
    "```\n",
    "    - Very useful module that teaches you how to create datetime objects and find out how much time has passed between two dates. It also introduces you to modules that will output dates in friendly ways and that can parse strings that make sense to people and create datetime objects from those strings that are easy for the computer to use.\n",
    "    - (U) Datetime Exercises \n",
    "- #### (U) [Module: Interactive User Input with ipywidgets](Module%20-%20Interactive%20User%20Input%20with%20ipywidgets.ipynb) # page 167\n",
    "```diff\n",
    "+(Recommended)\n",
    "```\n",
    "    - Shows you how to create interactive GUI elements in your python notebooks\n",
    "- #### (U) Module: GUI Basics with Tkinter # page 173 - 201\n",
    "    - Shows you how to make general purpose graphical programs on your computer (not jupyter based). This is a very long module and fairly advanced\n",
    "    - (U) Supplement: Python GUI Programming Cookbook (Code excerpts from the book by Burkhard A. Meier) # page 202\n",
    "- #### (U) Module: Logging # page 210\n",
    "```diff\n",
    "-(Under Construction)\n",
    "```\n",
    "    - Shows you how to use the `logging` module to provide more useful debugging information than what you may have been doing: _inserting `print('Got this far')` in your code..._\n",
    "- #### (U) Module: Math and More # page 214\n",
    "```diff\n",
    "-(Under Construction)\n",
    "-(Complex Subject)\n",
    "```\n",
    "    - If you like math, you'll like this module. It will teach you how to use functions defined in the `math` module to write programs that can solve complicated math problems. It also introduces the `NumPy` library which lets you manipulate large arrays of numbers and `matplotlib` which lets you plot those numbers on graphs. Your classmates might not thank you for voting for this module, but since when do people that love math care about popularity?\n",
    "    - (U) Supplement: COMP3321; Math , Visualisation, and More! \n",
    "- #### (U) Module: Visualization # page 236\n",
    "    - Shows you how to create visualizations based on large data sets. More general purpose than the visualization supplement of the Math lesson above.\n",
    "- #### (U) [Module: Pandas](Module%20-%20Pandas.ipynb) # page 251\n",
    "```diff\n",
    "+(Recommended)\n",
    "+(Very Useful)\n",
    "-(Long)\n",
    "```\n",
    "    - Pandas is a data science library that lets you work with `dataframe` objects. `dataframes` are like excel on steroids. Besides letting you manipulate large sets of data very quickly, they also provide structure to your data and allow you to quickly read and save your data from and to various file formats on your hard drive. This lesson is long but very useful.\n",
    "- #### (U) Module: A Bit About Geos # page 270\n",
    "```diff\n",
    "-(Under Construction)\n",
    "```\n",
    "    - If you need to work with data containing geographical coordinates or plot locations on a map this module will give you the background you need\n",
    "- #### (U) Module: My First Web Application # page 274\n",
    "    - Shows you how to create web pages with Python and the `flask` library.\n",
    "- #### (U) Module: Network Communication Over HTTPS and Sockets # page 281\n",
    "```diff\n",
    "+(Recommended)\n",
    "```\n",
    "    - This module has a lot of internal examples from the source material but the concepts are general and I can adjust the content as needed to work in the context of the internet.\n",
    "    - (U) Supplement: HTTPS and PKI Concepts # page 286\n",
    "    - (U) Supplement: Python, HTTPS, and Jupyter # page 290\n",
    "        - Very specific to the source material\n",
    "- #### (U) Module: HTML Processing with BeautifulSoup # page 296\n",
    "```diff\n",
    "+(Recommended)\n",
    "```\n",
    "    - Shows you how to use the `BeautifulSoup` library to help you parse web pages and extract useful data for your programs. Very useful module if you need to get data from the internet.\n",
    "- #### (U) Module: Operations with Compression and Archives # page 302\n",
    "```diff\n",
    "-(Under Construction)\n",
    "```\n",
    "    - Shows you how to create and read from zip and tar files with Python\n",
    "- #### (U) Module: Regular Expressions # page 307\n",
    "```diff\n",
    "+(Recommended)\n",
    "-(Under Construction)\n",
    "```\n",
    "    - Regular Expressions or **regex** let you create patterns that you can match against text. This lets you do things like create patterns that match strings that look like phone numbers or e-mail addresses. RegEx is a very general purpose programming concept and this library will show you how to use some of the python libraries for using regular expressions, but the concepts and syntax for patterns is applicable in more places than you realize.\n",
    "- #### (U) Module: Hashes # page 312\n",
    "```diff\n",
    "-(Under Construction)\n",
    "```\n",
    "    - Shows you how to generate fixed length hashes of arbitrary length data using `hashlib`. This can be very useful if you need to be able to verify the integrity of your data so you can be sure that it hasn't been changed.\n",
    "- #### (U) Module: SQL and Python # page 314\n",
    "```diff\n",
    "-(Under Construction)\n",
    "```\n",
    "    - Lets you store and retrieve data from databases with python\n",
    "    - (U) Supplement: Easy Databases with sqlite3 # page 320\n",
    "- #### (U) [Module: Structured Data: CSV, XML, and JSON](Module%20-%20Structured%20Data%20-%20CSV,%20XML,%20and%20JSON.ipynb) # page 323\n",
    "```diff\n",
    "+(Recommended)\n",
    "```\n",
    "    - Read, write, and manipulate `CSV`, `XML`, `JSON` data and learn how to use the Python `pickle` and `shelve` formats\n",
    "- #### (U) Module: System Interaction # page 332\n",
    "    - Covers the `os`, `shutil`, and `sys` libraries. Shows you how to interact with the your computer in your python programs\n",
    "    - (U) Supplement: Manipulating Microsoft Office Documents with win32com # page 336\n",
    "- #### (U) Module: Threading and Subprocesses # page 343\n",
    "    - Covers the techniques used in Python to allow your programs to have multiple asynchronous threads. Sort of. \n",
    "- #### (U) Distributing a Python Package # page 350\n",
    "```diff\n",
    "+(Useful)\n",
    "```\n",
    "    - Shows you how to package your Python programs into a format that can be easily shared with your users and installed using pip. Material in the pdf is source specific but it's a general purpose concept and I can adapt this lesson for us.\n",
    "- #### (U) Module: Machine Learning Introduction # page 359- 386\n",
    "```diff\n",
    "-(Advanced)\n",
    "-(Long)\n",
    "```\n",
    "    - Machine learning is a very broad field but this lesson will introduce the concepts and show you how you can use machine learning to help you organize a large dataset. Even though this is just an introduction and is fairly limited this is a long lesson and fairly advanced"
   ]
  },
  {
   "cell_type": "markdown",
   "metadata": {},
   "source": [
    "### (U) Exercise Solutions\n",
    "\n",
    "You can find the solutions for the exercises in the following modules in the FOIA released PDF [here](https://archive.org/details/comp3321/) starting on page 119.\n",
    "\n",
    "- (U) Dictionary and File Exercises \n",
    "- (U) structured Data and Dates \n",
    "- (U) Datetime Excercises \n",
    "- (U) Object-Oriented Programming and Exceptions "
   ]
  },
  {
   "cell_type": "markdown",
   "metadata": {},
   "source": [
    "## (U) Class Projects \n",
    "\n",
    "(U) Two examples containing instructions for password checker and password generator projects can be found in the source PDF after Page 387.\n",
    "\n",
    "### (U) Project Ideas \n",
    "\n",
    "- (U) Write a currency conversion script \n",
    "- (U) Write a web application \n",
    "- (U) Do [Project Euler](https://projecteuler.net/) problems \n",
    "- (U) Pick a project from one of the Safari books below"
   ]
  },
  {
   "cell_type": "markdown",
   "metadata": {},
   "source": [
    "## (U) General Resources \n",
    "\n",
    "### (U) Python Language Documentation \n",
    "\n",
    "- (U) [Python 2.x](https://docs.python.org/2/)\n",
    "- (U) [Python 3.x](https://docs.python.org/3/)"
   ]
  },
  {
   "cell_type": "markdown",
   "metadata": {},
   "source": [
    "### (U) Books \n",
    "\n",
    "- (U) Automate the Boring Stuff with Python *\n",
    "- (U) Black Hat Python: Python Programming for Hackers and Pentesters *\n",
    "- (U) Dive into Python \n",
    "- (U) Expert Python Programming *\n",
    "- (U) Head First Python *\n",
    "- (U) High Performance Python (advanced)\n",
    "- (U) The Hitchiker's Guide to Python *\n",
    "- (U) Learning Python \n",
    "- (U) Learning Python Programming (videos) \n",
    "- (U) Programming Python \n",
    "- (U) Python Crash Course (includes 3 sample projects) *\n",
    "- (U) Python Playground (more sample projects) *\n",
    "- (U) Python Pocket Reference (consider getting a print copy) \n",
    "- (U) Python Programming for the Absolute Beginner (even more sample projects, games & quizzes) \n",
    "    - (U) and More Python Programming for the Absolute Beginner \n",
    "- (U) Think Python *\n",
    "- (U) Safari Books (General Query) "
   ]
  },
  {
   "cell_type": "markdown",
   "metadata": {},
   "source": [
    "### (U) Other \n",
    "\n",
    "- (U) [The Hitchhiker's Guide to Python!](https://docs.python-guide.org/)\n",
    "- (U) [Python on StackOverflow](https://stackoverflow.com/questions/tagged/python)\n",
    "\n",
    "(U) Additional targeted resources (often excerpts from the above) are linked in each lesson and module. "
   ]
  },
  {
   "cell_type": "markdown",
   "metadata": {},
   "source": [
    "# UNCLASSIFIED~~//FOR OFFICIAL USE ONLY~~\n",
    "\n",
    "Transcribed from FOIA Doc ID: 6689692\n",
    "\n",
    "https://archive.org/details/comp3321"
   ]
  }
 ],
 "metadata": {
  "kernelspec": {
   "display_name": "Python 3",
   "language": "python",
   "name": "python3"
  },
  "language_info": {
   "codemirror_mode": {
    "name": "ipython",
    "version": 3
   },
   "file_extension": ".py",
   "mimetype": "text/x-python",
   "name": "python",
   "nbconvert_exporter": "python",
   "pygments_lexer": "ipython3",
   "version": "3.8.2"
  },
  "varInspector": {
   "cols": {
    "lenName": 16,
    "lenType": 16,
    "lenVar": 40
   },
   "kernels_config": {
    "python": {
     "delete_cmd_postfix": "",
     "delete_cmd_prefix": "del ",
     "library": "var_list.py",
     "varRefreshCmd": "print(var_dic_list())"
    },
    "r": {
     "delete_cmd_postfix": ") ",
     "delete_cmd_prefix": "rm(",
     "library": "var_list.r",
     "varRefreshCmd": "cat(var_dic_list()) "
    }
   },
   "types_to_exclude": [
    "module",
    "function",
    "builtin_function_or_method",
    "instance",
    "_Feature"
   ],
   "window_display": false
  }
 },
 "nbformat": 4,
 "nbformat_minor": 2
}
