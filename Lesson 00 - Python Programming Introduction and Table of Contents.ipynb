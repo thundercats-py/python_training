{
 "cells": [
  {
   "cell_type": "markdown",
   "metadata": {},
   "source": [
    "# UNCLASSIFIED~~//FOR OFFICIAL USE ONLY~~\n",
    "\n",
    "Transcribed from FOIA Doc ID: 6689692\n",
    "\n",
    "https://archive.org/details/comp3321"
   ]
  },
  {
   "cell_type": "markdown",
   "metadata": {},
   "source": [
    "## Source Material\n",
    "\n",
    "The material in these Jupyter Notebooks was transcribed from a PDF copy of the NSA COMP3321 Python course that was released under a Freedom of Information Act Request (FOIA) and later published by Chris Swenson on twitter on 2020-02-07.\n",
    "\n",
    "https://twitter.com/chris_swenson/status/1225836060938125313?s=09\n",
    "\n",
    "The PDF appears to be a scanned print out of the original Jupyter Notebook format and has some redacted For Official Use Only markings but is largely intact and presented here restored to Jupyter Notebook format. I've made some minor edits to make redacted sections make sense and attempted to rewrite sections that are referring to internal systems to make sense in the context of an internet course.\n",
    "\n",
    "I have carried forward the UNCLASSIFIED headers, footers, and portion markings. Where redactions have changed the classification markings the source material has the higher classification struck through so you'll see that here as well.\n",
    "\n",
    "In the event that I make an edit that changes preexisting content I am not changing the portion marking, but if I insert any entirely new content or completely replace existing content, those paragraphs will not have a portion marking. For example this section that you are reading now.\n",
    "\n",
    "There are some paragraphs in the source material that are lacking portion markings. I am assuming that that material is UNCLASSIFIED since it would have been reviewed prior to release. I decided to add (U) portion markings to those sections to make it clear that I am not the author of those portions and that they are from the original material.\n",
    "\n",
    "As a work of the U.S. Government released under the Freedom of Information Act the source material is believed to be in the public domain.\n",
    "\n",
    "[Copyright status of works by the federal government of the United States](https://en.wikipedia.org/wiki/Copyright_status_of_works_by_the_federal_government_of_the_United_States)"
   ]
  },
  {
   "cell_type": "markdown",
   "metadata": {},
   "source": [
    "## (U) History\n",
    "\n",
    ">...in December, 1989, I was looking for a \"hobby\" programming project that would keep me occupied during the week around Christmas. My office ... would be closed, but I had a home computer, and not much else on my hands. I decided to write an interpreter for the new scripting language I had been thinking about lately: a descendant of ABC that would appeal to Unix/C hackers. I chose Python as a working title for the project, being in a slightly irreverent mood (and a big fan of Monty Python's Flying Circus) \n",
    "\n",
    "Guido van Rossum, _Foreword for Programming Python, 1st Edition._"
   ]
  },
  {
   "cell_type": "markdown",
   "metadata": {},
   "source": [
    "## (U) Motivation\n",
    "\n",
    "(U) Python was designed to be easy and intuitive without sacrificing power, open source, and suitable for everyday tasks, with quick development times. It makes the layers between programming and problem solvingseem as thin as possible. It's suitable for: \n",
    "\n",
    "- (U) Opening an interactive session to solve the Daily Puzz. \n",
    "- (U) Writing a script that automates a tedious and time-consuming task,\n",
    "- (U) Creating a quick web service or an extensive web application, and \n",
    "- (U) Doing advanced mathematical research. \n",
    "\n",
    "(U) If you don't know any programming languages yet, Python is a good place to start. If you already know a different language, it's easy to pick Python up on the side. Python isn't entirely free of frustration and confusion, but hopefully you can avoid those parts until long after you get some good use out of Python. \n",
    "\n",
    "(U) Programming is not a spectator sport! The more you practice programming, the more you will learn in this class, both in breadth and depth. Python practically teaches itself--the goal of your instructors is to guide you to the good parts and help you move just a little bit more quickly than you would otherwise. _Happy Programming!_\n",
    "\n",
    "[XKCD Python](https://xkcd.com/353/)"
   ]
  },
  {
   "cell_type": "markdown",
   "metadata": {},
   "source": [
    "## (U) Objective \n",
    "\n",
    "(U) The goal of this class is to help students accomplish work tasks more easily and robustly by programming in Python. To pass the course, each student must write at least one Python program that has substantial personal utility or is of significant personal interest. When choosing a project, students are encouraged to first think of work-related tasks. For students who need help getting started, several suggestions for possible projects are found at the bottom of this page. On the first day, instructors will lead a discussion where project ideas are discussed. \n",
    "\n",
    "(U) This class is designed for students of varying backgrounds and levels of experience, from complete novice to competent programmer. Asking each student to design and implement their own project allows everyone to learn and progress at an individual pace. "
   ]
  },
  {
   "cell_type": "markdown",
   "metadata": {},
   "source": [
    "## (U) Logistics \n",
    "\n",
    "(U~~//FOUO~~) This course is designed to be suitable for self-learning. Even if no formal offerings are available for your schedule, you may access and work on the modules of this course at any time. Even if you don't have access to a recent version of Python on a workstation or virtual machine, you can access a personalized Jupyter notebook available on LABBENCH . For an individual pursuing this self-study option, it is recommended to first cover the **Python Basics** roughly in order, then select as many of the **Useful Modules** as seem appropriate. You can also use this Jupyter notebook to experiment and write solutions to exercises. \n",
    "\n",
    "(U~~//FOUO~~) One possibility for a group of potential students who start out with a different amounts of programming experience is to use Jupyter as a self-study tool until everyone has a basic understanding of programming, then follow up with an abbreviated instructor-led course (anywhere from two days to a week or more, depending on needs). "
   ]
  },
  {
   "cell_type": "markdown",
   "metadata": {},
   "source": [
    "## (U) In the Classroom \n",
    "\n",
    "(U) For a two week course: there will be a morning lecture and an afternoon lecture every day. The morning lecture will last between an hour and ninety minutes; the afternoon lecture will be somewhat shorter. **If a lecture is going too fast, please ask questions to slow us down!** If it's going too slow, feel free to work ahead on your own. \n",
    "\n",
    "(U~~//FOUO~~) You will use Python within your own environment. See [setup](setup.ipynb) for instructions on getting software installed. While we will point out some differences between the Python 3.x and 2.x lines, this course will focus on Python 3. If you need or want to run Python on Linux, we'll work with you. To the extent possible, we will write code in a platform-agnostic manner and point out features that are unique to specific versions of Python. _(Note: Paragraph rewritten to make sense without redactions)_\n",
    "\n",
    "(U) Although lectures will only take up two or three hours each day, we encourage you to spend the remainder of your day programming in Python, either on your own or in groups, but in the classroom if possible. At least one instructor will be available in the classroom during normal business hours.\n",
    "\n",
    "(U) This course is a work in progress; we welcome all suggestions. There are more **Useful Modules** than we can hope to cover in a two-week class; instructors will take a vote to determine which modules to cover. If there is another topic that you would like to have covered, especially along the lines of \"How would I do `x`, `y`, or `z` in Python?\", please ask--if there's enough interest we'll cover it in a lecture. We'd even be happy to have you contribute to the course documentation! Talk to an instructor to find out how."
   ]
  },
  {
   "cell_type": "markdown",
   "metadata": {},
   "source": [
    "## (U) Table of Contents \n",
    "\n",
    "### (U) Part I: Python Basics (Week 1) \n",
    "\n",
    "- (U) [Lesson 01: Introduction: Your First Python Program](Lesson%2001%20-%20Introduction%20-%20Your%20First%20Python%20Program.ipynb)\n",
    "- (U) [Lesson 02: Variables and Functions](Lesson%2002%20-%20Variables%20and%20Functions.ipynb)\n",
    "- (U) [Lesson 03: Flow Control](Lesson%2003%20-%20Flow%20Control.ipynb)\n",
    "- (U) [Lesson 04: Container Data Types](Lesson%2004%20-%20Container%20Data%20Types.ipynb)\n",
    "- (U) [Lesson 05: File Input and Output](Lesson%2005%20-%20File%20Input%20and%20Output.ipynb)\n",
    "- (U) [Lesson 06: Development Environment and Tooling](Lesson%2006%20-%20Development%20Environment%20and%20Tooling.ipynb) (We won't teach this block)\n",
    "- (U) [Lesson 07: Object Orienteering: Using Classes](Lesson%2007%20-%20Object%20Orienteering%20-%20Using%20Classes.ipynb)\n",
    "- (U) [Lesson 08: Modules, Namespaces, and Packages](Lesson%2008%20-%20Modules,%20Namespaces,%20and%20Packages.ipynb)\n",
    "- (U) [Lesson 09: Exceptions, Profiling, and Testing](Lesson%2009%20-%20Exceptions,%20Profiling,%20and%20Testing.ipynb)\n",
    "- (U) [Lesson 10: Iterators, Generators and Duck Typing](Lesson%2010%20-%20Iterators,%20Generators%20and%20Duck%20Typing.ipynb)\n",
    "    - (U) [Supplement: Pipelining with Generators](Lesson%2010%20-%20Supplement%20-%20Pipelining%20with%20Generators.ipynb)\n",
    "- (U) [Lesson 11: String Formatting](Lesson%2011%20-%20String%20Formatting.ipynb)"
   ]
  },
  {
   "cell_type": "markdown",
   "metadata": {},
   "source": [
    "### (U) Part II: Useful Modules (Week 2) \n",
    "- (U) Module: Collections and Itertools \n",
    "    - (U) Supplement: Functional Programming \n",
    "    - (U) Supplement: Recursion Examples \n",
    "- (U) Module: Command Line Arguments \n",
    "- (U) Module: Dates and Times \n",
    "    - (U) Datetime Exercises \n",
    "- (U) Module: Interactive User Input with ipywidgets \n",
    "- (U) Module: GUI Basics with Tkinter \n",
    "    - (U) Supplement : Python GUI Programming Cookbook \n",
    "- (U) Module: Logging\n",
    "- (U) Module: Math and More \n",
    "    - (U) Supplement: COMP3321; Math , Visualisation, and More! \n",
    "- (U) Module: Visualization \n",
    "- (U) Module: Pandas \n",
    "- (U) Module: A Bit About Geos \n",
    "- (U) Module: My First Web Application \n",
    "- (U) Module: Network Communication Over HTTPS and Sockets \n",
    "- (U) Supplement: HTTPS and PKI Concepts \n",
    "    - (U) Supplement: Python, HTTPS, and Jupyter \n",
    "- (U) Module: HTML Processing with BeautifulSoup \n",
    "- (U) Module: Operations with Compression and Archives \n",
    "- (U) Module: Regular Expressions \n",
    "- (U) Module: Hashes \n",
    "- (U) Module: SQL and Python \n",
    "    - (U) Supplement: Easy Databases with sqlite3 \n",
    "- (U) Module: Structured Data: CSV, XML, and JSON \n",
    "- (U) Module: System Interaction \n",
    "    - (U) Supplement: Manipulating Microsoft Office Documents with win32com \n",
    "- (U) Module: Threading and Subprocesses \n",
    "- (U) Distributing a Python Package\n",
    "- (U) Module: Machine Learning Introduction"
   ]
  },
  {
   "cell_type": "markdown",
   "metadata": {},
   "source": [
    "### (U) Exercises (with Solutions) \n",
    "\n",
    "- (U) Dictionary and File Exercises \n",
    "- (U) structured Data and Dates \n",
    "- (U) Datetime Excercises \n",
    "- (U) Object-Oriented Programming and Exceptions "
   ]
  },
  {
   "cell_type": "markdown",
   "metadata": {},
   "source": [
    "## (U) Class Projects \n",
    "\n",
    "(U) Click here to get to a notebook containing instructions for password checker and password generator projects. \n",
    "\n",
    "### (U) Project Ideas \n",
    "\n",
    "- (U) Write a currency conversion script \n",
    "- (U) Write a web application \n",
    "- (U) Do [Project Euler](https://projecteuler.net/) problems \n",
    "- (U) Pick a project from one of the Safari books below"
   ]
  },
  {
   "cell_type": "markdown",
   "metadata": {},
   "source": [
    "## (U) General Resources \n",
    "\n",
    "### (U) Python Language Documentation \n",
    "\n",
    "- (U) [Python 2.x](https://docs.python.org/2/)\n",
    "- (U) [Python 3.x](https://docs.python.org/3/)"
   ]
  },
  {
   "cell_type": "markdown",
   "metadata": {},
   "source": [
    "### (U) Books \n",
    "\n",
    "- (U) Automate the Boring a Stuff with Python \n",
    "- (U) Black Hat Python: Python Programming for Hackers and Pentesters \n",
    "- (U) Dive into Python \n",
    "- (U) Expert Python Programming \n",
    "- (U) Head First Python \n",
    "- (U) High Performance Python (advanced)\n",
    "- (U) Learning Python \n",
    "- (U) Learning Python Programming (videos) \n",
    "- (U) Programming Python \n",
    "- (U) Python Crash Course (includes 3 sample projects) \n",
    "- (U) Python Playground (more sample projects) \n",
    "- (U) Python Pocket Reference (consider getting a print copy) \n",
    "- (U) Python Programming for the Absolute Beginner (even more sample projects, games & quizzes) \n",
    "    - (U) and More Python Programming for the Absolute Beginner \n",
    "- (U) Think Python \n",
    "- (U) Safari Books (General Query) "
   ]
  },
  {
   "cell_type": "markdown",
   "metadata": {},
   "source": [
    "### (U) Other \n",
    "\n",
    "- (U) [The Hitchhiker's Guide to Python!](https://docs.python-guide.org/)\n",
    "- (U) [Python on StackOverflow](https://stackoverflow.com/questions/tagged/python)\n",
    "\n",
    "(U) Additional targeted resources (often excerpts from the above) are linked in each lesson and module. "
   ]
  },
  {
   "cell_type": "markdown",
   "metadata": {},
   "source": [
    "# UNCLASSIFIED~~//FOR OFFICIAL USE ONLY~~\n",
    "\n",
    "Transcribed from FOIA Doc ID: 6689692\n",
    "\n",
    "https://archive.org/details/comp3321"
   ]
  }
 ],
 "metadata": {
  "kernelspec": {
   "display_name": "Python 3",
   "language": "python",
   "name": "python3"
  },
  "language_info": {
   "codemirror_mode": {
    "name": "ipython",
    "version": 3
   },
   "file_extension": ".py",
   "mimetype": "text/x-python",
   "name": "python",
   "nbconvert_exporter": "python",
   "pygments_lexer": "ipython3",
   "version": "3.8.2"
  }
 },
 "nbformat": 4,
 "nbformat_minor": 2
}
