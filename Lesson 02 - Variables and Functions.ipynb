{
 "cells": [
  {
   "cell_type": "markdown",
   "metadata": {},
   "source": [
    "# UNCLASSIFIED\n",
    "\n",
    "Transcribed from FOIA Doc ID: 6689693\n",
    "\n",
    "https://archive.org/details/comp3321"
   ]
  },
  {
   "cell_type": "markdown",
   "metadata": {},
   "source": [
    "(U) All core lesson exercises are copied after the review section"
   ]
  },
  {
   "cell_type": "markdown",
   "metadata": {},
   "source": [
    "# (U) My Kingdom for a Variable \n",
    "\n",
    "(U) All the numbers and strings in the world won't do you any good if you can't keep track of them. A **variable** in Python is a name that's attached to something--a number, a string, or something more complicated, like a list, an object, or even a type. \n",
    "\n",
    "(U) Python is dynamically typed, which means that a variable, once declared, can hold different types of data over its lifetime. A variable is declared with the `=` operator. Go ahead, give that value a name!"
   ]
  },
  {
   "cell_type": "code",
   "execution_count": null,
   "metadata": {},
   "outputs": [],
   "source": [
    "x = 2"
   ]
  },
  {
   "cell_type": "code",
   "execution_count": null,
   "metadata": {},
   "outputs": [],
   "source": [
    "x"
   ]
  },
  {
   "cell_type": "code",
   "execution_count": null,
   "metadata": {},
   "outputs": [],
   "source": [
    "x + 5"
   ]
  },
  {
   "cell_type": "markdown",
   "metadata": {},
   "source": [
    "(U) In interactive mode, a `_` is a reference to the last cell output."
   ]
  },
  {
   "cell_type": "code",
   "execution_count": null,
   "metadata": {},
   "outputs": [],
   "source": [
    "9*8"
   ]
  },
  {
   "cell_type": "code",
   "execution_count": null,
   "metadata": {},
   "outputs": [],
   "source": [
    "_"
   ]
  },
  {
   "cell_type": "markdown",
   "metadata": {},
   "source": [
    "(U) This can be especially helpful when you forget to save the output of a long computation by giving it a name. "
   ]
  },
  {
   "cell_type": "code",
   "execution_count": null,
   "metadata": {},
   "outputs": [],
   "source": [
    "y = x + 5"
   ]
  },
  {
   "cell_type": "code",
   "execution_count": null,
   "metadata": {},
   "outputs": [],
   "source": [
    "_"
   ]
  },
  {
   "cell_type": "markdown",
   "metadata": {},
   "source": [
    "(U) Notice the line `y = x + 5` produced no output, so was ignored when `_` was called."
   ]
  },
  {
   "cell_type": "code",
   "execution_count": null,
   "metadata": {},
   "outputs": [],
   "source": [
    "isinstance(x, int)"
   ]
  },
  {
   "cell_type": "code",
   "execution_count": null,
   "metadata": {},
   "outputs": [],
   "source": [
    "isinstance(x, str)"
   ]
  },
  {
   "cell_type": "markdown",
   "metadata": {},
   "source": [
    "(U) So, let's change what `x` is equal to (and even change its type!) by just reassigning the variable name."
   ]
  },
  {
   "cell_type": "code",
   "execution_count": null,
   "metadata": {},
   "outputs": [],
   "source": [
    "x = \"Hello\""
   ]
  },
  {
   "cell_type": "code",
   "execution_count": null,
   "metadata": {},
   "outputs": [],
   "source": [
    "isinstance(x, int) "
   ]
  },
  {
   "cell_type": "code",
   "execution_count": null,
   "metadata": {},
   "outputs": [],
   "source": [
    "isinstance(x, type(8)) "
   ]
  },
  {
   "cell_type": "code",
   "execution_count": null,
   "metadata": {},
   "outputs": [],
   "source": [
    "isinstance(x, type('a'))"
   ]
  },
  {
   "cell_type": "code",
   "execution_count": null,
   "metadata": {},
   "outputs": [],
   "source": [
    "y = x + 5 "
   ]
  },
  {
   "cell_type": "markdown",
   "metadata": {},
   "source": [
    "(U) So what about converting from one type to another? "
   ]
  },
  {
   "cell_type": "code",
   "execution_count": null,
   "metadata": {},
   "outputs": [],
   "source": [
    "a = \"3.1234\""
   ]
  },
  {
   "cell_type": "code",
   "execution_count": null,
   "metadata": {},
   "outputs": [],
   "source": [
    "type(a) "
   ]
  },
  {
   "cell_type": "code",
   "execution_count": null,
   "metadata": {},
   "outputs": [],
   "source": [
    "b = float(a)"
   ]
  },
  {
   "cell_type": "code",
   "execution_count": null,
   "metadata": {},
   "outputs": [],
   "source": [
    "type(b) "
   ]
  },
  {
   "cell_type": "code",
   "execution_count": null,
   "metadata": {},
   "outputs": [],
   "source": [
    "b"
   ]
  },
  {
   "cell_type": "code",
   "execution_count": null,
   "metadata": {},
   "outputs": [],
   "source": [
    "float(x) # This should fail. Why?"
   ]
  },
  {
   "cell_type": "code",
   "execution_count": null,
   "metadata": {},
   "outputs": [],
   "source": [
    "c = str(b)"
   ]
  },
  {
   "cell_type": "code",
   "execution_count": null,
   "metadata": {},
   "outputs": [],
   "source": [
    "c"
   ]
  },
  {
   "cell_type": "code",
   "execution_count": null,
   "metadata": {},
   "outputs": [],
   "source": [
    "i = int(b) "
   ]
  },
  {
   "cell_type": "code",
   "execution_count": null,
   "metadata": {},
   "outputs": [],
   "source": [
    "i "
   ]
  },
  {
   "cell_type": "markdown",
   "metadata": {},
   "source": [
    "(U) Go ahead and use the `dir()` function to see what variables you have defined. This commands shows all the objects that are defined in your current scope (we will talk about scope later). "
   ]
  },
  {
   "cell_type": "code",
   "execution_count": null,
   "metadata": {},
   "outputs": [],
   "source": [
    "dir() "
   ]
  },
  {
   "cell_type": "code",
   "execution_count": null,
   "metadata": {},
   "outputs": [],
   "source": [
    "del x"
   ]
  },
  {
   "cell_type": "code",
   "execution_count": null,
   "metadata": {},
   "outputs": [],
   "source": [
    "dir() "
   ]
  },
  {
   "cell_type": "code",
   "execution_count": null,
   "metadata": {},
   "outputs": [],
   "source": [
    "x + 5 # Why does this crash? "
   ]
  },
  {
   "cell_type": "markdown",
   "metadata": {},
   "source": [
    "(U) We can also assign variables with some fancy shortcuts: "
   ]
  },
  {
   "cell_type": "code",
   "execution_count": null,
   "metadata": {},
   "outputs": [],
   "source": [
    "a = b = c = 0"
   ]
  },
  {
   "cell_type": "code",
   "execution_count": null,
   "metadata": {},
   "outputs": [],
   "source": [
    "print (a) \n",
    "print (b) \n",
    "print (c) "
   ]
  },
  {
   "cell_type": "code",
   "execution_count": null,
   "metadata": {},
   "outputs": [],
   "source": [
    "x, y = 1, 2 "
   ]
  },
  {
   "cell_type": "code",
   "execution_count": null,
   "metadata": {},
   "outputs": [],
   "source": [
    "print (x) \n",
    "print (y) "
   ]
  },
  {
   "cell_type": "code",
   "execution_count": null,
   "metadata": {},
   "outputs": [],
   "source": [
    "z = 1, 2 # What does this do?? \n",
    "z"
   ]
  },
  {
   "cell_type": "code",
   "execution_count": null,
   "metadata": {},
   "outputs": [],
   "source": [
    "x, y, z = 1, 2 # How about this? "
   ]
  },
  {
   "cell_type": "markdown",
   "metadata": {},
   "source": [
    "Note that since the last command failed, the values of x, y, and z were unchanged. "
   ]
  },
  {
   "cell_type": "code",
   "execution_count": null,
   "metadata": {},
   "outputs": [],
   "source": [
    "print (x) \n",
    "print (y) "
   ]
  },
  {
   "cell_type": "code",
   "execution_count": null,
   "metadata": {},
   "outputs": [],
   "source": [
    "x, y = y, x # Fast Swapping! "
   ]
  },
  {
   "cell_type": "code",
   "execution_count": null,
   "metadata": {},
   "outputs": [],
   "source": [
    "print (x) \n",
    "print (y) "
   ]
  },
  {
   "cell_type": "markdown",
   "metadata": {},
   "source": [
    "(U) Variable names can be assigned to all the different object types. Keep these tricks in mind as you learn about more complex types. \n",
    "\n",
    "(U) Let's talk lists for a minute. We'll go into details about containers later in the course, but you'll need to know the basics for one of the exercises. "
   ]
  },
  {
   "cell_type": "code",
   "execution_count": null,
   "metadata": {},
   "outputs": [],
   "source": [
    "l = [1, 2, 3, 4] "
   ]
  },
  {
   "cell_type": "code",
   "execution_count": null,
   "metadata": {},
   "outputs": [],
   "source": [
    "l"
   ]
  },
  {
   "cell_type": "code",
   "execution_count": null,
   "metadata": {},
   "outputs": [],
   "source": [
    "1 in l"
   ]
  },
  {
   "cell_type": "code",
   "execution_count": null,
   "metadata": {},
   "outputs": [],
   "source": [
    "5 in l"
   ]
  },
  {
   "cell_type": "code",
   "execution_count": null,
   "metadata": {},
   "outputs": [],
   "source": [
    "l = [\"one\", \"two\" , \"three\", \"four\"] "
   ]
  },
  {
   "cell_type": "code",
   "execution_count": null,
   "metadata": {},
   "outputs": [],
   "source": [
    "\"one\" in l"
   ]
  },
  {
   "cell_type": "markdown",
   "metadata": {},
   "source": [
    "## (U) Variable Exercises \n",
    "\n",
    "1. Save a copy of your favorite snack in a variable. Using that variable, print your snack a 100 times. \n",
    "\n",
    "2. Ask your neighbor what their favorite snack is. Save it in a variable. You should now have two variables containing snacks. Add (concatenate) them together and print the result 100 times. \n",
    "\n",
    "3. Using the `[ ]` notation above, make a list of five groceries and save in a variable. (If you did the earlier grocery list exercise, use those items). Using the variable from Exercise 1, test to see if your favorite snack is \"`in`\" the list. \n",
    "\n",
    "4. Using your grocery list from Exercise 3, and the variable from Exercise 2, test to see if your neighbor's favorite snack is on your list just as you did for your snack. \n",
    "\n",
    "5. Use the \"fast swapping\" to swap your favorite snack with your neighbor's. Print both variables to see the result. Are you happy or sad with your new favorite snack?"
   ]
  },
  {
   "cell_type": "markdown",
   "metadata": {},
   "source": [
    "# (U) Functions \n",
    "\n",
    "(U) So what else can we do with variables? Lots! "
   ]
  },
  {
   "cell_type": "code",
   "execution_count": null,
   "metadata": {},
   "outputs": [],
   "source": [
    "7 % 2 # Modulo operator "
   ]
  },
  {
   "cell_type": "code",
   "execution_count": null,
   "metadata": {},
   "outputs": [],
   "source": [
    "7 ** 2 "
   ]
  },
  {
   "cell_type": "code",
   "execution_count": null,
   "metadata": {},
   "outputs": [],
   "source": [
    "min(2, 7) # built-in function "
   ]
  },
  {
   "cell_type": "code",
   "execution_count": null,
   "metadata": {},
   "outputs": [],
   "source": [
    "max(2, 7) "
   ]
  },
  {
   "cell_type": "code",
   "execution_count": null,
   "metadata": {},
   "outputs": [],
   "source": [
    "dir(\"a\")"
   ]
  },
  {
   "cell_type": "markdown",
   "metadata": {},
   "source": [
    "(U) Python comes with a bunch of built-in functions. We’ve used a few of these already: `dir()`, `min()`, `max()`, `isinstance()`, and `type()`. Python includes many more, such as: "
   ]
  },
  {
   "cell_type": "code",
   "execution_count": null,
   "metadata": {},
   "outputs": [],
   "source": [
    "abs(-1)"
   ]
  },
  {
   "cell_type": "code",
   "execution_count": null,
   "metadata": {},
   "outputs": [],
   "source": [
    "round(1.2)"
   ]
  },
  {
   "cell_type": "code",
   "execution_count": null,
   "metadata": {},
   "outputs": [],
   "source": [
    "len(\"12345\") "
   ]
  },
  {
   "cell_type": "markdown",
   "metadata": {},
   "source": [
    "(U) But functions take memory, and there are hundreds of modules included with Python, so we can't have access to everything that Python can do all at once. In order to use functions that aren't built in, we must tell Python to load them. We do this with the `import` statement: "
   ]
  },
  {
   "cell_type": "code",
   "execution_count": null,
   "metadata": {},
   "outputs": [],
   "source": [
    "import os"
   ]
  },
  {
   "cell_type": "markdown",
   "metadata": {},
   "source": [
    "(U) This loads the **os** module. A **module** is a file containing definitions and statements, and are generally used to hold a collection of related functions. The **os module** contains functions relating to the Operating System of the computer where Python is running. \n",
    "\n",
    "(U) So what's contained in `os`? Let's look:"
   ]
  },
  {
   "cell_type": "code",
   "execution_count": null,
   "metadata": {},
   "outputs": [],
   "source": [
    "dir(os)"
   ]
  },
  {
   "cell_type": "markdown",
   "metadata": {},
   "source": [
    "(U) That gives you a list of everything defined in the os module, "
   ]
  },
  {
   "cell_type": "code",
   "execution_count": null,
   "metadata": {},
   "outputs": [],
   "source": [
    "os.name # why doesn't name require parentheses? "
   ]
  },
  {
   "cell_type": "code",
   "execution_count": null,
   "metadata": {},
   "outputs": [],
   "source": [
    "os.listdir()"
   ]
  },
  {
   "cell_type": "markdown",
   "metadata": {},
   "source": [
    "(U) Python has robust documentation on the standard modules. Always consult the documentation if you are unsure how to use a function. \n",
    "\n",
    "(U) What if I don't need everything in a module? "
   ]
  },
  {
   "cell_type": "code",
   "execution_count": null,
   "metadata": {},
   "outputs": [],
   "source": [
    "from os import listdir"
   ]
  },
  {
   "cell_type": "code",
   "execution_count": null,
   "metadata": {},
   "outputs": [],
   "source": [
    "listdir()"
   ]
  },
  {
   "cell_type": "markdown",
   "metadata": {},
   "source": [
    "(U) We'll get into more modules later in the class. For now we'll just touch on two others: \n",
    "\n",
    "- `sys`, which contains variables and functions relating to Python's interaction with the system; and \n",
    "- `random`, which provides random number generation. "
   ]
  },
  {
   "cell_type": "code",
   "execution_count": null,
   "metadata": {},
   "outputs": [],
   "source": [
    "import sys "
   ]
  },
  {
   "cell_type": "code",
   "execution_count": null,
   "metadata": {},
   "outputs": [],
   "source": [
    "dir(sys) "
   ]
  },
  {
   "cell_type": "code",
   "execution_count": null,
   "metadata": {},
   "outputs": [],
   "source": [
    "sys.argv # holds command Line arguments "
   ]
  },
  {
   "cell_type": "markdown",
   "metadata": {},
   "source": [
    "```python\n",
    "sys.exit() # exits Python (you may not want to type this)\n",
    "```"
   ]
  },
  {
   "cell_type": "code",
   "execution_count": null,
   "metadata": {},
   "outputs": [],
   "source": [
    "import random"
   ]
  },
  {
   "cell_type": "code",
   "execution_count": null,
   "metadata": {},
   "outputs": [],
   "source": [
    "random.randint(1, 5) "
   ]
  },
  {
   "cell_type": "code",
   "execution_count": null,
   "metadata": {},
   "outputs": [],
   "source": [
    "random.random() "
   ]
  },
  {
   "cell_type": "markdown",
   "metadata": {},
   "source": [
    "# (U) Function Exercises \n",
    "\n",
    "1. Make a list of your grocery prices (9.42, 5.67, 3.25, 13.40, and 7.50 respectively) and store in a variable. Use built in functions to find the price of the cheapest and most expensive item on your grocery list. \n",
    "\n",
    "2. `import random` and run `help(random.randint)`. Use `randint` to randomly print between `0` and `100` copies of your favorite snack. \n",
    "\n",
    "3. Run `dir(random)`. Find a function in `random` that you can use to return a random item from your grocery list. Remember you can use `help()` to find out what different functions do! \n",
    "\n",
    "4. Write code to randomly select a price from your list of grocery prices, round to the nearest integer, and print the result. \n",
    "\n",
    "5. Challenge: Your grocery store is having a weird promotion called \"win free change\"! A random item from your (price) list is chosen and you pay 10 dollars. If the item is less than 10 dollars you get your item and the change back as normal; however, if you get lucky and the price is more than 10 dollars you get the item and the difference in price back as change. Write code randomly pick a price from your price list and print out the amount of change the cashier has to pay you during this promotion. Hint: use the built in abs function. "
   ]
  },
  {
   "cell_type": "markdown",
   "metadata": {},
   "source": [
    "# (U) Making your own functions \n",
    "\n",
    "(U) Functions (in Python) are really just special variables (or data types) that can have input and output. Once defined, you can treat them like any other variables. \n",
    "\n",
    "(U) Functions are defined with a specific syntax: \n",
    "\n",
    "- Start with the keyword `def`, \n",
    "- followed by the function name, and \n",
    "- a list of arguments enclosed in `()`, then \n",
    "- the line ends with a `:`, and \n",
    "- the body of the function is indented on following lines. \n",
    "\n",
    "(U) Python uses white space to determine blocks, unlike C, Java, and other languages that use `{}` for this purpose. \n",
    "\n",
    "(U) To have output from the function, the `return` keyword is used, followed by the thing to be returned. For no output, use return by itself, or just leave it out. "
   ]
  },
  {
   "cell_type": "code",
   "execution_count": null,
   "metadata": {},
   "outputs": [],
   "source": [
    "def first_func(x): \n",
    "    return x*2 "
   ]
  },
  {
   "cell_type": "code",
   "execution_count": null,
   "metadata": {},
   "outputs": [],
   "source": [
    "first_func(10)"
   ]
  },
  {
   "cell_type": "code",
   "execution_count": null,
   "metadata": {},
   "outputs": [],
   "source": [
    "first_func('hello')"
   ]
  },
  {
   "cell_type": "markdown",
   "metadata": {},
   "source": [
    "(U) Wow...Python REALLY does not care about types. Here is the simplest function that you can write in Python (no input, no output, and not much else!): "
   ]
  },
  {
   "cell_type": "code",
   "execution_count": null,
   "metadata": {},
   "outputs": [],
   "source": [
    "def simple(): \n",
    "    pass # or return "
   ]
  },
  {
   "cell_type": "code",
   "execution_count": null,
   "metadata": {},
   "outputs": [],
   "source": [
    "simple() # BORING! "
   ]
  },
  {
   "cell_type": "markdown",
   "metadata": {},
   "source": [
    "(U) Let play around a bit with a new function...we shall call this powerful function `add`. "
   ]
  },
  {
   "cell_type": "code",
   "execution_count": null,
   "metadata": {},
   "outputs": [],
   "source": [
    "def add(a, b): \n",
    "    return a+b "
   ]
  },
  {
   "cell_type": "code",
   "execution_count": null,
   "metadata": {},
   "outputs": [],
   "source": [
    "add(2, 3)"
   ]
  },
  {
   "cell_type": "code",
   "execution_count": null,
   "metadata": {},
   "outputs": [],
   "source": [
    "add(1)"
   ]
  },
  {
   "cell_type": "code",
   "execution_count": null,
   "metadata": {},
   "outputs": [],
   "source": [
    "add('a',3)"
   ]
  },
  {
   "cell_type": "code",
   "execution_count": null,
   "metadata": {},
   "outputs": [],
   "source": [
    "add('a','b') "
   ]
  },
  {
   "cell_type": "code",
   "execution_count": null,
   "metadata": {},
   "outputs": [],
   "source": [
    "add"
   ]
  },
  {
   "cell_type": "code",
   "execution_count": null,
   "metadata": {},
   "outputs": [],
   "source": [
    "def add2(a, b): \n",
    "    print(a+b) "
   ]
  },
  {
   "cell_type": "code",
   "execution_count": null,
   "metadata": {},
   "outputs": [],
   "source": [
    "x = add(2, 3) # What did this do? \n",
    "x "
   ]
  },
  {
   "cell_type": "code",
   "execution_count": null,
   "metadata": {},
   "outputs": [],
   "source": [
    "x = add2(2, 3) # What did this do? \n",
    "x"
   ]
  },
  {
   "cell_type": "markdown",
   "metadata": {},
   "source": [
    "(U) **Don’t forget:** function names are variables too. "
   ]
  },
  {
   "cell_type": "code",
   "execution_count": null,
   "metadata": {},
   "outputs": [],
   "source": [
    "x = add # What did this do? "
   ]
  },
  {
   "cell_type": "code",
   "execution_count": null,
   "metadata": {},
   "outputs": [],
   "source": [
    "add = 7 # And this? "
   ]
  },
  {
   "cell_type": "code",
   "execution_count": null,
   "metadata": {},
   "outputs": [],
   "source": [
    "add(2,3) # We broke this function. There is a lesson to be learned here. "
   ]
  },
  {
   "cell_type": "code",
   "execution_count": null,
   "metadata": {},
   "outputs": [],
   "source": [
    "x(2,3) "
   ]
  },
  {
   "cell_type": "markdown",
   "metadata": {},
   "source": [
    "## (U) Function Definition Exercises \n",
    "\n",
    "1. Write an `all_the_snacks` function that takes a `snack` (string) and uses the `*` operator to print it out `100` times. Test your function using each of the items on your grocery list. What happens if you enter a number into your function? Is the result what you expected? \n",
    "\n",
    "2. You may have noticed that your `all_the_snacks` function prints all your snacks squished together. Rewrite `all_the_snacks` so that it takes an additional argument `spacer`. Using `+`, combine your snack and spacer before multiplying. Test your function with different inputs. What happens if you use strings for both `snack` and `spacer`? Both numbers? A string and an integer? Is this what you expected? \n",
    "\n",
    "3. Rewrite `all the snacks` so that it also takes a variable `num` that lets you customize the number of times your snack gets printed out. \n",
    "\n",
    "4. Write an `in_grocery_list` function that takes in a `grocery_item`, and returns `True` or `False` depending on whether the item is on your list. \n",
    "\n",
    "5. Write a `price_matcher` function that takes no arguments, but prints a random grocery item and a random price from your price list every time it is run. \n",
    "\n",
    "6. Challenge: modify your `price_matcher` to `return item, price` rather than print them. Write a `free_change` function that calls your new `price_matcher` and uses the result to print your item and the absolute value of the change for the item assuming you paid $10."
   ]
  },
  {
   "cell_type": "markdown",
   "metadata": {},
   "source": [
    "# (U) Arguments, Keyword Arguments, and Defaults "
   ]
  },
  {
   "cell_type": "code",
   "execution_count": null,
   "metadata": {},
   "outputs": [],
   "source": [
    "def f(a, b, c): \n",
    "    return (a + b) * c "
   ]
  },
  {
   "cell_type": "markdown",
   "metadata": {},
   "source": [
    "(U) You can give arguments default values. This makes them optional. "
   ]
  },
  {
   "cell_type": "code",
   "execution_count": null,
   "metadata": {},
   "outputs": [],
   "source": [
    "def f(a, b, c=1): \n",
    "    return (a + b) * c"
   ]
  },
  {
   "cell_type": "code",
   "execution_count": null,
   "metadata": {},
   "outputs": [],
   "source": [
    "f(2, 3)"
   ]
  },
  {
   "cell_type": "code",
   "execution_count": null,
   "metadata": {},
   "outputs": [],
   "source": [
    "f(2, 3, 2)"
   ]
  },
  {
   "cell_type": "markdown",
   "metadata": {},
   "source": [
    "(U) You can call arguments by name also, "
   ]
  },
  {
   "cell_type": "code",
   "execution_count": null,
   "metadata": {},
   "outputs": [],
   "source": [
    "f(b=2, a=5) "
   ]
  },
  {
   "cell_type": "code",
   "execution_count": null,
   "metadata": {},
   "outputs": [],
   "source": [
    "f(b=2, c=5)"
   ]
  },
  {
   "cell_type": "code",
   "execution_count": null,
   "metadata": {},
   "outputs": [],
   "source": [
    "def g(b, c, a=1): \n",
    "    return (a + b) * c # What happens here? "
   ]
  },
  {
   "cell_type": "markdown",
   "metadata": {},
   "source": [
    "## (U) Function Arguments Exercises \n",
    "\n",
    "1. Rewrite `all_the_snacks` so that `num` and `spacer` have defaults of `100` and `', '` respectively. Using your favorite snack as input, try running your function with no additional input. \n",
    "\n",
    "2. Try running `all_the_snacks` with your favorite snack and the spacer `'! '` and no additional inputs. How would you run it while inputing your favorite snack and 42 for `num` while keeping the default for `spacer`? Can you use this method to enter `spacer` and `num` in reverse order? "
   ]
  },
  {
   "cell_type": "markdown",
   "metadata": {},
   "source": [
    "# (U) Scope \n",
    "\n",
    "(U) In programming, scope is an important concept. It is also very useful in allowing us to have flexibility in reusing variable names in function definitions. "
   ]
  },
  {
   "cell_type": "code",
   "execution_count": null,
   "metadata": {},
   "outputs": [],
   "source": [
    "x = 5 "
   ]
  },
  {
   "cell_type": "code",
   "execution_count": null,
   "metadata": {},
   "outputs": [],
   "source": [
    "def f(): \n",
    "    x = 6 \n",
    "    print (x) "
   ]
  },
  {
   "cell_type": "code",
   "execution_count": null,
   "metadata": {},
   "outputs": [],
   "source": [
    "x"
   ]
  },
  {
   "cell_type": "code",
   "execution_count": null,
   "metadata": {},
   "outputs": [],
   "source": [
    "f()"
   ]
  },
  {
   "cell_type": "code",
   "execution_count": null,
   "metadata": {},
   "outputs": [],
   "source": [
    "x "
   ]
  },
  {
   "cell_type": "markdown",
   "metadata": {},
   "source": [
    "(U) Lets talk about what happened here. Whenever we try to get or change the value of a variable, Python always looks for that variable in the most appropriate (closest) scope. \n",
    "\n",
    "(U) So, in the function above, when we declared `x = 6`, we were declaring a local variable in the definition of `f`. This did not alter the global `x` outside of the function. \n",
    "\n",
    "(U) If that is what you want to happen, just use the `global` keyword. "
   ]
  },
  {
   "cell_type": "code",
   "execution_count": null,
   "metadata": {},
   "outputs": [],
   "source": [
    "x = 5 "
   ]
  },
  {
   "cell_type": "code",
   "execution_count": null,
   "metadata": {},
   "outputs": [],
   "source": [
    "def f(): \n",
    "    global x \n",
    "    x = 6"
   ]
  },
  {
   "cell_type": "code",
   "execution_count": null,
   "metadata": {},
   "outputs": [],
   "source": [
    "x"
   ]
  },
  {
   "cell_type": "code",
   "execution_count": null,
   "metadata": {},
   "outputs": [],
   "source": [
    "f()"
   ]
  },
  {
   "cell_type": "code",
   "execution_count": null,
   "metadata": {},
   "outputs": [],
   "source": [
    "x "
   ]
  },
  {
   "cell_type": "markdown",
   "metadata": {},
   "source": [
    "(U) Be careful with scope, it can allow you to do some things you might not want to (or maybe you do!), like overriding built-in functions. "
   ]
  },
  {
   "cell_type": "code",
   "execution_count": null,
   "metadata": {},
   "outputs": [],
   "source": [
    "len('my string is longer than 3')"
   ]
  },
  {
   "cell_type": "code",
   "execution_count": null,
   "metadata": {},
   "outputs": [],
   "source": [
    "def len(x): \n",
    "    return 3"
   ]
  },
  {
   "cell_type": "code",
   "execution_count": null,
   "metadata": {},
   "outputs": [],
   "source": [
    "len('my string is longer than 3')"
   ]
  },
  {
   "cell_type": "markdown",
   "metadata": {},
   "source": [
    "# (U) `input` \n",
    "\n",
    "(U) The `input` function is a quick way to get data accessed from stdin (user input). It takes an optional string argument that is the prompt to be issued to the user, and _always_ returns a string. Simple enough! "
   ]
  },
  {
   "cell_type": "code",
   "execution_count": null,
   "metadata": {},
   "outputs": [],
   "source": [
    "a = input('Please enter your name: ').title()"
   ]
  },
  {
   "cell_type": "code",
   "execution_count": null,
   "metadata": {},
   "outputs": [],
   "source": [
    "a"
   ]
  },
  {
   "cell_type": "markdown",
   "metadata": {},
   "source": [
    "# (U) Advanced Function Arguments \n",
    "\n",
    "(U) Most of the time, you know what you want to pass into your function. Occasionally, it's useful to accept arbitrary arguments. Python lets you do this, but it takes a little bit of syntactic sugar that we haven't used before. \n",
    "\n",
    "- List and dictionary unpacking \n",
    "\n",
    "- List and dictionary packing in function arguments "
   ]
  },
  {
   "cell_type": "markdown",
   "metadata": {},
   "source": [
    "## (U) Scope and input Exercises \n",
    "\n",
    "1. (U) Use `input` to ask for your favorite color and store it in the variable `my_color`. Use input to ask for your neighbor's favorite color and store it in the variable `neighbor_color`. \n",
    "\n",
    "2. (U) Use `input` to ask for your favorite number and store it in the variable `my_num`. Run `2 + my_num`. Why does this fail? How can you fix it? \n",
    "\n",
    "3. (U) Write a \"April fool's\" `color_swapper` function that takes `my_color` and and `neighbor_color` as inputs and prints a message declaring what your and your neighbor's favorite colors are respectively. Add a line before the `print` that swaps the contents of the variables so that now `message` is printed with your favorite colors swapped. Run your function and then `print` the contents of `my_color` and `neighbor_color`. How were you able to swap them in the function without swapping them in your notebook? \n",
    "\n",
    "4. (U) Challenge: Write a `global_color_swapper` that swaps your colors globally. Run your function and then `print` the contents of `my_color` and `neighbor_color`. Why might this be a bad idea, even for an April fool's joke? "
   ]
  },
  {
   "cell_type": "markdown",
   "metadata": {},
   "source": [
    "## (U) Review Exercises\n",
    "\n",
    "1. (U) Write a function called `volume` which computes and returns the volume of a box given the `width`, `length`, and `height`. \n",
    "\n",
    "2. (U) Write a function called `volume2` which calculates the box volume, assuming the `height` is `1`, if not given. \n",
    "\n",
    "3. (U) Challenge: Import the `datetime` module. Experiment with the different methods. In particular, determine how to print the current time. "
   ]
  },
  {
   "cell_type": "markdown",
   "metadata": {},
   "source": [
    "# (U) All lesson exercises are copied here:"
   ]
  },
  {
   "cell_type": "markdown",
   "metadata": {},
   "source": [
    "## (U) Variable Exercises \n",
    "\n",
    "1. Save a copy of your favorite snack in a variable. Using that variable, print your snack a 100 times."
   ]
  },
  {
   "cell_type": "code",
   "execution_count": null,
   "metadata": {},
   "outputs": [],
   "source": [
    " "
   ]
  },
  {
   "cell_type": "markdown",
   "metadata": {},
   "source": [
    "2. Ask your neighbor what their favorite snack is. Save it in a variable. You should now have two variables containing snacks. Add (concatenate) them together and print the result 100 times. "
   ]
  },
  {
   "cell_type": "code",
   "execution_count": null,
   "metadata": {},
   "outputs": [],
   "source": []
  },
  {
   "cell_type": "markdown",
   "metadata": {},
   "source": [
    "3. Using the `[ ]` notation above, make a list of five groceries and save in a variable. (If you did the earlier grocery list exercise, use those items). Using the variable from Exercise 1, test to see if your favorite snack is \"`in`\" the list. "
   ]
  },
  {
   "cell_type": "code",
   "execution_count": null,
   "metadata": {},
   "outputs": [],
   "source": []
  },
  {
   "cell_type": "markdown",
   "metadata": {},
   "source": [
    "4. Using your grocery list from Exercise 3, and the variable from Exercise 2, test to see if your neighbor's favorite snack is on your list just as you did for your snack. "
   ]
  },
  {
   "cell_type": "code",
   "execution_count": null,
   "metadata": {},
   "outputs": [],
   "source": []
  },
  {
   "cell_type": "markdown",
   "metadata": {},
   "source": [
    "5. Use the \"fast swapping\" to swap your favorite snack with your neighbor's. Print both variables to see the result. Are you happy or sad with your new favorite snack?"
   ]
  },
  {
   "cell_type": "code",
   "execution_count": null,
   "metadata": {},
   "outputs": [],
   "source": []
  },
  {
   "cell_type": "markdown",
   "metadata": {},
   "source": [
    "## (U) Function Exercises \n",
    "\n",
    "1. Make a list of your grocery prices (9.42, 5.67, 3.25, 13.40, and 7.50 respectively) and store in a variable. Use built in functions to find the price of the cheapest and most expensive item on your grocery list."
   ]
  },
  {
   "cell_type": "code",
   "execution_count": null,
   "metadata": {},
   "outputs": [],
   "source": [
    " "
   ]
  },
  {
   "cell_type": "markdown",
   "metadata": {},
   "source": [
    "2. `import random` and run `help(random.randint)`. Use `randint` to randomly print between `0` and `100` copies of your favorite snack. "
   ]
  },
  {
   "cell_type": "code",
   "execution_count": null,
   "metadata": {},
   "outputs": [],
   "source": []
  },
  {
   "cell_type": "markdown",
   "metadata": {},
   "source": [
    "3. Run `dir(random)`. Find a function in `random` that you can use to return a random item from your grocery list. Remember you can use `help()` to find out what different functions do! "
   ]
  },
  {
   "cell_type": "code",
   "execution_count": null,
   "metadata": {},
   "outputs": [],
   "source": []
  },
  {
   "cell_type": "markdown",
   "metadata": {},
   "source": [
    "4. Write code to randomly select a price from your list of grocery prices, round to the nearest integer, and print the result. "
   ]
  },
  {
   "cell_type": "code",
   "execution_count": null,
   "metadata": {},
   "outputs": [],
   "source": []
  },
  {
   "cell_type": "markdown",
   "metadata": {},
   "source": [
    "5. Challenge: Your grocery store is having a weird promotion called \"win free change\"! A random item from your (price) list is chosen and you pay 10 dollars. If the item is less than 10 dollars you get your item and the change back as normal; however, if you get lucky and the price is more than 10 dollars you get the item and the difference in price back as change. Write code randomly pick a price from your price list and print out the amount of change the cashier has to pay you during this promotion. Hint: use the built in abs function. "
   ]
  },
  {
   "cell_type": "code",
   "execution_count": null,
   "metadata": {},
   "outputs": [],
   "source": []
  },
  {
   "cell_type": "markdown",
   "metadata": {},
   "source": [
    "## (U) Function Definition Exercises \n",
    "\n",
    "1. Write an `all_the_snacks` function that takes a `snack` (string) and uses the `*` operator to print it out `100` times. Test your function using each of the items on your grocery list. What happens if you enter a number into your function? Is the result what you expected? "
   ]
  },
  {
   "cell_type": "code",
   "execution_count": null,
   "metadata": {},
   "outputs": [],
   "source": []
  },
  {
   "cell_type": "markdown",
   "metadata": {},
   "source": [
    "2. You may have noticed that your `all_the_snacks` function prints all your snacks squished together. Rewrite `all_the_snacks` so that it takes an additional argument `spacer`. Using `+`, combine your snack and spacer before multiplying. Test your function with different inputs. What happens if you use strings for both `snack` and `spacer`? Both numbers? A string and an integer? Is this what you expected? "
   ]
  },
  {
   "cell_type": "code",
   "execution_count": null,
   "metadata": {},
   "outputs": [],
   "source": []
  },
  {
   "cell_type": "markdown",
   "metadata": {},
   "source": [
    "3. Rewrite `all the snacks` so that it also takes a variable `num` that lets you customize the number of times your snack gets printed out. "
   ]
  },
  {
   "cell_type": "code",
   "execution_count": null,
   "metadata": {},
   "outputs": [],
   "source": []
  },
  {
   "cell_type": "markdown",
   "metadata": {},
   "source": [
    "4. Write an `in_grocery_list` function that takes in a `grocery_item`, and returns `True` or `False` depending on whether the item is on your list. "
   ]
  },
  {
   "cell_type": "code",
   "execution_count": null,
   "metadata": {},
   "outputs": [],
   "source": []
  },
  {
   "cell_type": "markdown",
   "metadata": {},
   "source": [
    "5. Write a `price_matcher` function that takes no arguments, but prints a random grocery item and a random price from your price list every time it is run. "
   ]
  },
  {
   "cell_type": "code",
   "execution_count": null,
   "metadata": {},
   "outputs": [],
   "source": []
  },
  {
   "cell_type": "markdown",
   "metadata": {},
   "source": [
    "6. Challenge: modify your `price_matcher` to `return item, price` rather than print them. Write a `free_change` function that calls your new `price_matcher` and uses the result to print your item and the absolute value of the change for the item assuming you paid $10."
   ]
  },
  {
   "cell_type": "code",
   "execution_count": null,
   "metadata": {},
   "outputs": [],
   "source": []
  },
  {
   "cell_type": "markdown",
   "metadata": {},
   "source": [
    "## (U) Function Arguments Exercises \n",
    "\n",
    "1. Rewrite `all_the_snacks` so that `num` and `spacer` have defaults of `100` and `', '` respectively. Using your favorite snack as input, try running your function with no additional input."
   ]
  },
  {
   "cell_type": "code",
   "execution_count": null,
   "metadata": {},
   "outputs": [],
   "source": [
    " "
   ]
  },
  {
   "cell_type": "markdown",
   "metadata": {},
   "source": [
    "2. Try running `all_the_snacks` with your favorite snack and the spacer `'! '` and no additional inputs. How would you run it while inputing your favorite snack and 42 for `num` while keeping the default for `spacer`? Can you use this method to enter `spacer` and `num` in reverse order? "
   ]
  },
  {
   "cell_type": "code",
   "execution_count": null,
   "metadata": {},
   "outputs": [],
   "source": []
  },
  {
   "cell_type": "markdown",
   "metadata": {},
   "source": [
    "## (U) Scope and input Exercises \n",
    "\n",
    "1. (U) Use `input` to ask for your favorite color and store it in the variable `my_color`. Use input to ask for your neighbor's favorite color and store it in the variable `neighbor_color`. "
   ]
  },
  {
   "cell_type": "code",
   "execution_count": null,
   "metadata": {},
   "outputs": [],
   "source": []
  },
  {
   "cell_type": "markdown",
   "metadata": {},
   "source": [
    "2. (U) Use `input` to ask for your favorite number and store it in the variable `my_num`. Run `2 + my_num`. Why does this fail? How can you fix it? "
   ]
  },
  {
   "cell_type": "code",
   "execution_count": null,
   "metadata": {},
   "outputs": [],
   "source": []
  },
  {
   "cell_type": "markdown",
   "metadata": {},
   "source": [
    "3. (U) Write a \"April fool's\" `color_swapper` function that takes `my_color` and and `neighbor_color` as inputs and prints a message declaring what your and your neighbor's favorite colors are respectively. Add a line before the `print` that swaps the contents of the variables so that now `message` is printed with your favorite colors swapped. Run your function and then `print` the contents of `my_color` and `neighbor_color`. How were you able to swap them in the function without swapping them in your notebook? "
   ]
  },
  {
   "cell_type": "code",
   "execution_count": null,
   "metadata": {},
   "outputs": [],
   "source": []
  },
  {
   "cell_type": "markdown",
   "metadata": {},
   "source": [
    "4. (U) Challenge: Write a `global_color_swapper` that swaps your colors globally. Run your function and then `print` the contents of `my_color` and `neighbor_color`. Why might this be a bad idea, even for an April fool's joke? "
   ]
  },
  {
   "cell_type": "code",
   "execution_count": null,
   "metadata": {},
   "outputs": [],
   "source": []
  },
  {
   "cell_type": "markdown",
   "metadata": {},
   "source": [
    "## (U) Review Exercises\n",
    "\n",
    "1. (U) Write a function called `volume` which computes and returns the volume of a box given the `width`, `length`, and `height`. "
   ]
  },
  {
   "cell_type": "code",
   "execution_count": null,
   "metadata": {},
   "outputs": [],
   "source": []
  },
  {
   "cell_type": "markdown",
   "metadata": {},
   "source": [
    "2. (U) Write a function called `volume2` which calculates the box volume, assuming the `height` is `1`, if not given. "
   ]
  },
  {
   "cell_type": "code",
   "execution_count": null,
   "metadata": {},
   "outputs": [],
   "source": []
  },
  {
   "cell_type": "markdown",
   "metadata": {},
   "source": [
    "3. (U) Challenge: Import the `datetime` module. Experiment with the different methods. In particular, determine how to print the current time. "
   ]
  },
  {
   "cell_type": "code",
   "execution_count": null,
   "metadata": {},
   "outputs": [],
   "source": []
  },
  {
   "cell_type": "markdown",
   "metadata": {},
   "source": [
    "# Additional Exercises (Optional)\n",
    "\n",
    "\n",
    "## (U) Function Exercises \n",
    "\n",
    "1. (U) Write a function `isDivisibleBy7(num)` to check if a number is evenly divisible by 7. \n",
    "\n",
    "```python\n",
    ">>> isDivisibleBy7(21) \n",
    "True\n",
    "\n",
    ">>> isDivisibleBy7(25)\n",
    "False \n",
    "```"
   ]
  },
  {
   "cell_type": "code",
   "execution_count": null,
   "metadata": {},
   "outputs": [],
   "source": []
  },
  {
   "cell_type": "markdown",
   "metadata": {},
   "source": [
    "2. (U) Write a function `isDivisibleBy(num,divisor)` to check if num is evenly divisible by divisor.\n",
    "\n",
    "```python\n",
    ">>> isDivisibleBy(35,7) \n",
    "True \n",
    "\n",
    ">>> isDivisibleBy(35,4) \n",
    "False \n",
    "```"
   ]
  },
  {
   "cell_type": "code",
   "execution_count": null,
   "metadata": {},
   "outputs": [],
   "source": []
  },
  {
   "cell_type": "markdown",
   "metadata": {},
   "source": [
    "3. (U) Make a function `shout(word)` that accepts a string and returns that string in capital letters with an exclamation mark. \n",
    "\n",
    "```python\n",
    ">>> shout(\"bananas\") \n",
    "'BANANAS!' \n",
    "```"
   ]
  },
  {
   "cell_type": "code",
   "execution_count": null,
   "metadata": {},
   "outputs": [],
   "source": []
  },
  {
   "cell_type": "markdown",
   "metadata": {},
   "source": [
    "4. (U) Make a function `introduce()` to ask the user for their name and shout it back to them. Call your function `shout` to make this happen. \n",
    "\n",
    "```python\n",
    ">>> introduce()\n",
    "What's your name? Bob \n",
    "HI BOB! \n",
    "```"
   ]
  },
  {
   "cell_type": "code",
   "execution_count": null,
   "metadata": {},
   "outputs": [],
   "source": []
  },
  {
   "cell_type": "markdown",
   "metadata": {},
   "source": [
    "# (U) Variable Exercises \n",
    "\n",
    "1. (U) Identify the type of each of the following variables, and add the type after each variable in a comment. "
   ]
  },
  {
   "cell_type": "code",
   "execution_count": null,
   "metadata": {},
   "outputs": [],
   "source": [
    "a = 2999 \n",
    "b = 90.0 \n",
    "c = \"145\" \n",
    "d = \"\\u0CA0_\\u0CA0\"\n",
    "e = \"True\" \n",
    "f = True\n",
    "g = len(\"sample\") \n",
    "h = 100**30 \n",
    "i = 1 >= 1 \n",
    "j = 30%7 \n",
    "k = 30/7 \n",
    "l = b + 7 \n",
    "m = 128 << 1 \n",
    "n = bin(255) \n",
    "o = [m,l,k,n] \n",
    "p = len(o)"
   ]
  },
  {
   "cell_type": "markdown",
   "metadata": {},
   "source": [
    "2. (U) What value is in variable `my_var` at the end of these assignments? \n",
    "\n",
    "Add a comparison after the last statement in the form of: \n",
    "\n",
    "`my_val == `"
   ]
  },
  {
   "cell_type": "code",
   "execution_count": null,
   "metadata": {},
   "outputs": [],
   "source": [
    "my_var = 99 "
   ]
  },
  {
   "cell_type": "code",
   "execution_count": null,
   "metadata": {},
   "outputs": [],
   "source": [
    "my_var += 11 "
   ]
  },
  {
   "cell_type": "code",
   "execution_count": null,
   "metadata": {},
   "outputs": [],
   "source": [
    "my_var = str(my_var) "
   ]
  },
  {
   "cell_type": "code",
   "execution_count": null,
   "metadata": {},
   "outputs": [],
   "source": [
    "my_var *= 2 "
   ]
  },
  {
   "cell_type": "code",
   "execution_count": null,
   "metadata": {},
   "outputs": [],
   "source": [
    "my_var = len(my_var) "
   ]
  },
  {
   "cell_type": "code",
   "execution_count": null,
   "metadata": {},
   "outputs": [],
   "source": [
    "my_var *= 4 "
   ]
  },
  {
   "cell_type": "markdown",
   "metadata": {},
   "source": [
    "# UNCLASSIFIED\n",
    "\n",
    "Transcribed from FOIA Doc ID: 6689693\n",
    "\n",
    "https://archive.org/details/comp3321"
   ]
  }
 ],
 "metadata": {
  "kernelspec": {
   "display_name": "Python 3",
   "language": "python",
   "name": "python3"
  },
  "language_info": {
   "codemirror_mode": {
    "name": "ipython",
    "version": 3
   },
   "file_extension": ".py",
   "mimetype": "text/x-python",
   "name": "python",
   "nbconvert_exporter": "python",
   "pygments_lexer": "ipython3",
   "version": "3.8.2"
  }
 },
 "nbformat": 4,
 "nbformat_minor": 4
}
