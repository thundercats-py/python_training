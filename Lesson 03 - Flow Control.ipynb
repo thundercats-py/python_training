{
 "cells": [
  {
   "cell_type": "markdown",
   "metadata": {},
   "source": [
    "# UNCLASSIFIED\n",
    "\n",
    "Transcribed from FOIA Doc ID: 6689693\n",
    "\n",
    "https://archive.org/details/comp3321"
   ]
  },
  {
   "cell_type": "markdown",
   "metadata": {},
   "source": [
    "(U) All exercises are copied at the end of the lesson with premade code blocks."
   ]
  },
  {
   "cell_type": "markdown",
   "metadata": {},
   "source": [
    "# (U) Introduction\n",
    "\n",
    "(U) If you have ever programmed before, you know one of the core building blocks of algorithms is flow control. It tells your program what to do next based on the state it is currently in. "
   ]
  },
  {
   "cell_type": "markdown",
   "metadata": {},
   "source": [
    "# (U) Comparisons \n",
    "\n",
    "(U) First, let's look at how to compare values. The comparison operators are `>`, `>=`, `<`, `<=`, `!=`, and `==`. When working with numbers, they do what you think: return `True` or `False` depending on whether the statement is true or false. "
   ]
  },
  {
   "cell_type": "code",
   "execution_count": null,
   "metadata": {},
   "outputs": [],
   "source": [
    "2 < 3 "
   ]
  },
  {
   "cell_type": "code",
   "execution_count": null,
   "metadata": {},
   "outputs": [],
   "source": [
    "2 > 5 "
   ]
  },
  {
   "cell_type": "code",
   "execution_count": null,
   "metadata": {},
   "outputs": [],
   "source": [
    "x = 5 "
   ]
  },
  {
   "cell_type": "code",
   "execution_count": null,
   "metadata": {},
   "outputs": [],
   "source": [
    "x == 6 "
   ]
  },
  {
   "cell_type": "code",
   "execution_count": null,
   "metadata": {},
   "outputs": [],
   "source": [
    "x != 6 "
   ]
  },
  {
   "cell_type": "markdown",
   "metadata": {},
   "source": [
    "(U) Python 2.x will let you try to compare any two objects, no matter how different. The results may not be what you expect. Python 3.x only compares types where a comparison operation has been defined. "
   ]
  },
  {
   "cell_type": "code",
   "execution_count": null,
   "metadata": {},
   "outputs": [],
   "source": [
    "'apple' > 'orange' # case-sensitive alphabetical. "
   ]
  },
  {
   "cell_type": "code",
   "execution_count": null,
   "metadata": {},
   "outputs": [],
   "source": [
    "'apple' > 'Orange' "
   ]
  },
  {
   "cell_type": "code",
   "execution_count": null,
   "metadata": {},
   "outputs": [],
   "source": [
    "'apple' > ['orange'] "
   ]
  },
  {
   "cell_type": "code",
   "execution_count": null,
   "metadata": {},
   "outputs": [],
   "source": [
    "'apple' > ('orange',) "
   ]
  },
  {
   "cell_type": "markdown",
   "metadata": {},
   "source": [
    "(U) We will leave more discussion of comparisons for later, including how to intelligently compare objects that you create. "
   ]
  },
  {
   "cell_type": "markdown",
   "metadata": {},
   "source": [
    "## (U) Comparison Exercises \n",
    "\n",
    "1. Write a `you_won` function that randomly picks a number from your price list (9.42, 5.67, 3.25, 13.40, and 7.50) and prints `True` or `False` depending on whether the random number is greater than 10. \n",
    "\n",
    "2. Write a function `snack_check` that takes a string `'snack'` and returns `True` or `False` depending on whether or not it is your favorite snack. "
   ]
  },
  {
   "cell_type": "markdown",
   "metadata": {},
   "source": [
    "# (U) Conditional Execution: The if Statement \n",
    "\n",
    "(U) The if statement is an important and useful tool. It basically says, \"If a condition is true, do the requested operations.\""
   ]
  },
  {
   "cell_type": "code",
   "execution_count": null,
   "metadata": {},
   "outputs": [],
   "source": [
    "def even(n): \n",
    "    if (n % 2 == 0): \n",
    "        print ('I am even!') "
   ]
  },
  {
   "cell_type": "code",
   "execution_count": null,
   "metadata": {},
   "outputs": [],
   "source": [
    "even(2)"
   ]
  },
  {
   "cell_type": "code",
   "execution_count": null,
   "metadata": {},
   "outputs": [],
   "source": [
    "even(3)"
   ]
  },
  {
   "cell_type": "code",
   "execution_count": null,
   "metadata": {},
   "outputs": [],
   "source": [
    "even('hello') # That was siLLy "
   ]
  },
  {
   "cell_type": "markdown",
   "metadata": {},
   "source": [
    "(U) What if we want to be able to say we are not even? Or the user submitted a bad type? We use `else` and `elif` clauses. "
   ]
  },
  {
   "cell_type": "code",
   "execution_count": null,
   "metadata": {},
   "outputs": [],
   "source": [
    "def even(n): \n",
    "    if (type(n) != int): \n",
    "        print('I only talk about integers') \n",
    "    elif (n % 2 == 0): \n",
    "        print ('I am even!') \n",
    "    else: \n",
    "        print('I am odd!') "
   ]
  },
  {
   "cell_type": "code",
   "execution_count": null,
   "metadata": {},
   "outputs": [],
   "source": [
    "even(2) "
   ]
  },
  {
   "cell_type": "code",
   "execution_count": null,
   "metadata": {},
   "outputs": [],
   "source": [
    "even(3) "
   ]
  },
  {
   "cell_type": "code",
   "execution_count": null,
   "metadata": {},
   "outputs": [],
   "source": [
    "even('hello') "
   ]
  },
  {
   "cell_type": "markdown",
   "metadata": {},
   "source": [
    "## (U) Conditional Exercises \n",
    "\n",
    "1. Re-write the `snack_check` function to take a string `'snack'` and print an appropriate response depending on whether the input is your favorite snack or not. \n",
    "\n",
    "2. Write an `in_grocery_list` function that takes in a `grocery_item` and prints a different message depending on whether `grocery_item` is in your grocery list. \n",
    "\n",
    "3. Modify `in_grocery_list` to test if `grocery_item` is a string. Print a message warning the user if it is not. \n",
    "\n",
    "4. Challenge: Re-write the `you_won` function to randomly choose a number from your price list and print appropriate message depending on whether you won (the number was greater than 10) or not. Also include the amount of change you will be receiving in your message. (Recall you are winning the amount change you would have owed...). \n",
    "\n",
    "5. Advanced challenge: Write a function that imports `datetime` and uses it to determine the current time. This function should print an appropriate message based on the time ex: if the current time is between 0900 and 1000, print the message \"Morning Lecture time!\" "
   ]
  },
  {
   "cell_type": "markdown",
   "metadata": {},
   "source": [
    "# (U) Looping Behavior "
   ]
  },
  {
   "cell_type": "markdown",
   "metadata": {},
   "source": [
    "## (U) The `while` Loop \n",
    "\n",
    "(U) The `while` loop is used for repeated operations that continue as long as an expression is true. \n",
    "\n",
    "(U) The famous infinite loop: "
   ]
  },
  {
   "cell_type": "code",
   "execution_count": null,
   "metadata": {},
   "outputs": [],
   "source": [
    "while (2 + 2 == 4): \n",
    "    print('forever') "
   ]
  },
  {
   "cell_type": "markdown",
   "metadata": {},
   "source": [
    "(U) A mistake that may lead to an infinite loop: "
   ]
  },
  {
   "cell_type": "code",
   "execution_count": null,
   "metadata": {},
   "outputs": [],
   "source": [
    "while (i <= 20): \n",
    "    print(i) "
   ]
  },
  {
   "cell_type": "markdown",
   "metadata": {},
   "source": [
    "(U) The below is probably a more sensible thing to type. "
   ]
  },
  {
   "cell_type": "code",
   "execution_count": null,
   "metadata": {},
   "outputs": [],
   "source": [
    "i = 0 \n",
    "\n",
    "while (i <= 20): \n",
    "    print(i)\n",
    "    i += 1 "
   ]
  },
  {
   "cell_type": "markdown",
   "metadata": {},
   "source": [
    "## (U) `break` and `continue`\n",
    "\n",
    "(U) For more control, we can use `break` and `continue` (they work just as in C). "
   ]
  },
  {
   "cell_type": "markdown",
   "metadata": {},
   "source": [
    "(U)The `break` command will break out of the innermost `while` or `for` loop: "
   ]
  },
  {
   "cell_type": "code",
   "execution_count": null,
   "metadata": {},
   "outputs": [],
   "source": [
    "i = 0 \n",
    "\n",
    "while(True): \n",
    "    i += 1 \n",
    "    print(i) \n",
    "    if (i == 20): \n",
    "        break "
   ]
  },
  {
   "cell_type": "markdown",
   "metadata": {},
   "source": [
    "(U) The `continue` command will halt the current iteration of the loop and continue to the next value. "
   ]
  },
  {
   "cell_type": "code",
   "execution_count": null,
   "metadata": {},
   "outputs": [],
   "source": [
    "i = 0 \n",
    "\n",
    "while(True):\n",
    "    i += 1\n",
    "    if (i == 10): \n",
    "        print (\"I am 10!\") \n",
    "        continue \n",
    "    print (i) \n",
    "    if (i == 20): \n",
    "        break "
   ]
  },
  {
   "cell_type": "markdown",
   "metadata": {},
   "source": [
    "## (U) The `else` clause \n",
    "\n",
    "(U) You can also have an `else` statement at the end of a loop. It will be run only if the loop completes normally, that is, when the conditional expression results in `False`. A `break` will skip it. "
   ]
  },
  {
   "cell_type": "code",
   "execution_count": null,
   "metadata": {},
   "outputs": [],
   "source": [
    "i = 0 \n",
    "while (i < 2): \n",
    "    print (i) \n",
    "    i += 1\n",
    "else:\n",
    "    print(\"This executes after the condition becomes false.\") \n",
    "print (\"Done!\") "
   ]
  },
  {
   "cell_type": "code",
   "execution_count": null,
   "metadata": {},
   "outputs": [],
   "source": [
    "i = 0\n",
    "while (i < 2): \n",
    "    print (i) \n",
    "    if True: \n",
    "        break \n",
    "    i += 1 \n",
    "else: \n",
    "    print(\"This won't print because the loop was exited early.\") \n",
    "print (\"Done!\") "
   ]
  },
  {
   "cell_type": "markdown",
   "metadata": {},
   "source": [
    "## (U) `while` Loop Exercises \n",
    "\n",
    "Hint: You will not need `continue` or `break` for these exercises. \n",
    "\n",
    "1. Previously we printed out many copies of a string using the `*` operator. Use a `while` loop to print out 10 copies of your favorite snack. Each copy can be on it's own line, that's fine. \n",
    "\n",
    "2. Mix and match! Write a `while` loop that uses the `*` to print multiple copies of your favorite snack per line. Print out 10 lines with the number of copies per line corresponding to the line number (your first line will have one copy and your last line will have 10). \n",
    "\n",
    "3. Challenge: Write a `while` loop that prints 100 copies of your favorite snack on one single (wrapped) line. Hint: use `+`. "
   ]
  },
  {
   "cell_type": "markdown",
   "metadata": {},
   "source": [
    "## (U) The `for` loop \n",
    "\n",
    "(U) The `for` loop is probably the most used control flow element as it has the most functionality. It basically says, \"for the following explicit items, do something.\" We are going to use the `list` type here. More interesting properties of this type will follow in another lesson. "
   ]
  },
  {
   "cell_type": "code",
   "execution_count": null,
   "metadata": {},
   "outputs": [],
   "source": [
    "for i in [1,2,3,4,5,'a','b','c']: \n",
    "    print (i)"
   ]
  },
  {
   "cell_type": "markdown",
   "metadata": {},
   "source": [
    "(U) The variable `i` \"becomes\" each value of the list in turn, and the indented code is executed each time through the loop with the new value for `i`: "
   ]
  },
  {
   "cell_type": "code",
   "execution_count": null,
   "metadata": {},
   "outputs": [],
   "source": [
    "for i in [1,2,3,4,5,'a','b','c']:\n",
    "    print(i, type(i))"
   ]
  },
  {
   "cell_type": "markdown",
   "metadata": {},
   "source": [
    "(U) The temporary variable can be named anything you like. Here we loop across the `char`acters in the string 'orange'."
   ]
  },
  {
   "cell_type": "code",
   "execution_count": null,
   "metadata": {},
   "outputs": [],
   "source": [
    "for char in 'orange': \n",
    "    print(char)"
   ]
  },
  {
   "cell_type": "markdown",
   "metadata": {},
   "source": [
    "## (U) `for` Loop Exercises \n",
    "\n",
    "1. Write a `for` loop that prints out each character in the string \"blood-oxygenation level dependent functional magnetic resonance imaging\". \n",
    "\n",
    "2. Take your grocery list of five items (or create one). Write a `for` loop to print out the message \"Note to self, buy:\" and then the grocery item. \n",
    "\n",
    "3. Write a `for` loop that prints out a numbered list of your grocery items. \n",
    "\n",
    "4. Clearly your favorite snack is more important than the other items on your list. Modify your `for` loop from Exercise 3 to use `break` to stop printing once you have found your favorite snack in your list. Question: Could you have achieved the same result without using a break? **Bonus:** if your snack isn't in the list, have your code print a warning at the end. \n",
    "\n",
    "5. Challenge: use the string method `split` to write a `for` loop that prints out each word in the string \"blood-oxygenation level dependent functional magnetic resonance imaging\". Hint: run `help(str.split)`"
   ]
  },
  {
   "cell_type": "markdown",
   "metadata": {},
   "source": [
    "## (U) `for` Loop Fodder: `range` \n",
    "\n",
    "(U) OK, that is great...but I want to print 1,000,000 numbers! The `range` function returns an object that produces values based on the arguments you provide, sort of like automatically building a list to iterate through. This \n",
    "is a simple way to generate 0 through 9: "
   ]
  },
  {
   "cell_type": "code",
   "execution_count": null,
   "metadata": {},
   "outputs": [],
   "source": [
    "print(range(10))"
   ]
  },
  {
   "cell_type": "code",
   "execution_count": null,
   "metadata": {},
   "outputs": [],
   "source": [
    "print(list(range(10)))"
   ]
  },
  {
   "cell_type": "code",
   "execution_count": null,
   "metadata": {},
   "outputs": [],
   "source": [
    "for i in range(10): \n",
    "    print(i)"
   ]
  },
  {
   "cell_type": "code",
   "execution_count": null,
   "metadata": {},
   "outputs": [],
   "source": [
    "for i in range(10, 20): \n",
    "    print(i) "
   ]
  },
  {
   "cell_type": "code",
   "execution_count": null,
   "metadata": {},
   "outputs": [],
   "source": [
    "for i in range(10, 20, 2): \n",
    "    print(i) "
   ]
  },
  {
   "cell_type": "code",
   "execution_count": null,
   "metadata": {},
   "outputs": [],
   "source": [
    "for i in range(100, 0, -5):\n",
    "    print(i)"
   ]
  },
  {
   "cell_type": "markdown",
   "metadata": {},
   "source": [
    "(U) This makes a great tool for keeping a notion of the index of the loop! "
   ]
  },
  {
   "cell_type": "code",
   "execution_count": null,
   "metadata": {},
   "outputs": [],
   "source": [
    "a = \"mystring\" \n",
    "\n",
    "for i in range(len(a)) : \n",
    "    print(\"The character at position \" + str(i) + \" is \" + a[i])"
   ]
  },
  {
   "cell_type": "markdown",
   "metadata": {},
   "source": [
    "(U) Incidentally, the `enumerate` function is the preferred way of keeping track of the loop index: "
   ]
  },
  {
   "cell_type": "code",
   "execution_count": null,
   "metadata": {},
   "outputs": [],
   "source": [
    "for (i, j) in enumerate(a): \n",
    "    print(\"The character at position \" + str(i) + \" is \" + j)"
   ]
  },
  {
   "cell_type": "markdown",
   "metadata": {},
   "source": [
    "(U) In Python 3, the `range` function produces an iterator. For now, think of an iterator as an object that knows where to start, where to stop, and how to get from start to stop, but doesn't keep track of every step along the way all at once. We'll discuss iterators more later. \n",
    "\n",
    "(U) In Python 2, `range` directly produced a list object and another command `xrange` acted like Python 3's range. The old Python 2 `range` command might have used a lot of memory if you used it to produce a very large list. You should almost always use `xrange` instead of `range` in Python 2. \n",
    "\n",
    "**Note:** Python 2 is end of life and no longer supported, so you should definitely be using Python 3 anyway."
   ]
  },
  {
   "cell_type": "code",
   "execution_count": null,
   "metadata": {},
   "outputs": [],
   "source": [
    "b = range(100000000) # Ohh, that was fast "
   ]
  },
  {
   "cell_type": "code",
   "execution_count": null,
   "metadata": {},
   "outputs": [],
   "source": [
    "b # It's just an object! "
   ]
  },
  {
   "cell_type": "code",
   "execution_count": null,
   "metadata": {},
   "outputs": [],
   "source": [
    "for i in range(10000):\n",
    "    if (i % 2 == 0):\n",
    "        print(i)"
   ]
  },
  {
   "cell_type": "code",
   "execution_count": null,
   "metadata": {},
   "outputs": [],
   "source": [
    "b = range(0, 1000000, 100) "
   ]
  },
  {
   "cell_type": "code",
   "execution_count": null,
   "metadata": {},
   "outputs": [],
   "source": [
    "b"
   ]
  },
  {
   "cell_type": "code",
   "execution_count": null,
   "metadata": {},
   "outputs": [],
   "source": [
    "b[0] "
   ]
  },
  {
   "cell_type": "code",
   "execution_count": null,
   "metadata": {},
   "outputs": [],
   "source": [
    "b[1] "
   ]
  },
  {
   "cell_type": "code",
   "execution_count": null,
   "metadata": {},
   "outputs": [],
   "source": [
    "b[2] "
   ]
  },
  {
   "cell_type": "code",
   "execution_count": null,
   "metadata": {},
   "outputs": [],
   "source": [
    "b[-1] "
   ]
  },
  {
   "cell_type": "markdown",
   "metadata": {},
   "source": [
    "## (U) `range` Exercises \n",
    "\n",
    "1. Use `range` to write a `for` loop to print out a numbered grocery list. \n",
    "\n",
    "2. Use `enumerate` to print out a numbered grocery list. You've now done this three ways. What are some pros and cons to each technique? There are often several different ways to get the same output! However, usually one is more elegant than the others. \n",
    "\n",
    "3. Use `range` to write a `for` loop that prints out 10 copies of your favorite snack. How does this compare to using a `while` loop?\n",
    "\n",
    "4. Challenge: Write a \"Guess my number\" game that generates a random number and gives your user a fixed number of guesses. Use `input` to get the user's guesses. Think about what loop type you might use and how you might provide feedback based on the user's guesses. Hint: what type does `input` return? You might need to convert this to a more useful type... However, now what happens if your user inputs something that isn't a number? "
   ]
  },
  {
   "cell_type": "markdown",
   "metadata": {},
   "source": [
    "# (U) All Lesson Exercises"
   ]
  },
  {
   "cell_type": "markdown",
   "metadata": {},
   "source": [
    "## (U) Comparison Exercises\n",
    "\n",
    "1. Write a `you_won` function that randomly picks a number from your price list (9.42, 5.67, 3.25, 13.40, and 7.50) and prints `True` or `False` depending on whether the random number is greater than 10."
   ]
  },
  {
   "cell_type": "code",
   "execution_count": null,
   "metadata": {},
   "outputs": [],
   "source": [
    " "
   ]
  },
  {
   "cell_type": "markdown",
   "metadata": {},
   "source": [
    "2. Write a function `snack_check` that takes a string `'snack'` and returns `True` or `False` depending on whether or not it is your favorite snack. "
   ]
  },
  {
   "cell_type": "code",
   "execution_count": null,
   "metadata": {},
   "outputs": [],
   "source": []
  },
  {
   "cell_type": "markdown",
   "metadata": {},
   "source": [
    "## (U) Conditional Exercises \n",
    "\n",
    "1. Re-write the `snack_check` function to take a string `'snack'` and print an appropriate response depending on whether the input is your favorite snack or not. "
   ]
  },
  {
   "cell_type": "code",
   "execution_count": null,
   "metadata": {},
   "outputs": [],
   "source": []
  },
  {
   "cell_type": "markdown",
   "metadata": {},
   "source": [
    "2. Write an `in_grocery_list` function that takes in a `grocery_item` and prints a different message depending on whether `grocery_item` is in your grocery list. "
   ]
  },
  {
   "cell_type": "code",
   "execution_count": null,
   "metadata": {},
   "outputs": [],
   "source": []
  },
  {
   "cell_type": "markdown",
   "metadata": {},
   "source": [
    "3. Modify `in_grocery_list` to test if `grocery_item` is a string. Print a message warning the user if it is not. "
   ]
  },
  {
   "cell_type": "code",
   "execution_count": null,
   "metadata": {},
   "outputs": [],
   "source": []
  },
  {
   "cell_type": "markdown",
   "metadata": {},
   "source": [
    "4. Challenge: Re-write the `you_won` function to randomly choose a number from your price list and print appropriate message depending on whether you won (the number was greater than 10) or not. Also include the amount of change you will be receiving in your message. (Recall you are winning the amount change you would have owed...). "
   ]
  },
  {
   "cell_type": "code",
   "execution_count": null,
   "metadata": {},
   "outputs": [],
   "source": []
  },
  {
   "cell_type": "markdown",
   "metadata": {},
   "source": [
    "5. Advanced challenge: Write a function that imports `datetime` and uses it to determine the current time. This function should print an appropriate message based on the time ex: if the current time is between 0900 and 1000, print the message \"Morning Lecture time!\" "
   ]
  },
  {
   "cell_type": "code",
   "execution_count": null,
   "metadata": {},
   "outputs": [],
   "source": []
  },
  {
   "cell_type": "markdown",
   "metadata": {},
   "source": [
    "## (U) `while` Loop Exercises \n",
    "\n",
    "Hint: You will not need `continue` or `break` for these exercises. \n",
    "\n",
    "1. Previously we printed out many copies of a string using the `*` operator. Use a `while` loop to print out 10 copies of your favorite snack. Each copy can be on it's own line, that's fine. "
   ]
  },
  {
   "cell_type": "code",
   "execution_count": null,
   "metadata": {},
   "outputs": [],
   "source": []
  },
  {
   "cell_type": "markdown",
   "metadata": {},
   "source": [
    "2. Mix and match! Write a `while` loop that uses the `*` to print multiple copies of your favorite snack per line. Print out 10 lines with the number of copies per line corresponding to the line number (your first line will have one copy and your last line will have 10). "
   ]
  },
  {
   "cell_type": "code",
   "execution_count": null,
   "metadata": {},
   "outputs": [],
   "source": []
  },
  {
   "cell_type": "markdown",
   "metadata": {},
   "source": [
    "3. Challenge: Write a `while` loop that prints 100 copies of your favorite snack on one single (wrapped) line. Hint: use `+`. "
   ]
  },
  {
   "cell_type": "code",
   "execution_count": null,
   "metadata": {},
   "outputs": [],
   "source": []
  },
  {
   "cell_type": "markdown",
   "metadata": {},
   "source": [
    "## (U) `for` Loop Exercises \n",
    "\n",
    "1. Write a `for` loop that prints out each character in the string \"blood-oxygenation level dependent functional magnetic resonance imaging\". "
   ]
  },
  {
   "cell_type": "code",
   "execution_count": null,
   "metadata": {},
   "outputs": [],
   "source": []
  },
  {
   "cell_type": "markdown",
   "metadata": {},
   "source": [
    "2. Take your grocery list of five items (or create one). Write a `for` loop to print out the message \"Note to self, buy:\" and then the grocery item. "
   ]
  },
  {
   "cell_type": "code",
   "execution_count": null,
   "metadata": {},
   "outputs": [],
   "source": []
  },
  {
   "cell_type": "markdown",
   "metadata": {},
   "source": [
    "3. Write a `for` loop that prints out a numbered list of your grocery items. "
   ]
  },
  {
   "cell_type": "code",
   "execution_count": null,
   "metadata": {},
   "outputs": [],
   "source": []
  },
  {
   "cell_type": "markdown",
   "metadata": {},
   "source": [
    "4. Clearly your favorite snack is more important than the other items on your list. Modify your `for` loop from Exercise 3 to use `break` to stop printing once you have found your favorite snack in your list. Question: Could you have achieved the same result without using a break? **Bonus:** if your snack isn't in the list, have your code print a warning at the end. "
   ]
  },
  {
   "cell_type": "code",
   "execution_count": null,
   "metadata": {},
   "outputs": [],
   "source": []
  },
  {
   "cell_type": "markdown",
   "metadata": {},
   "source": [
    "5. Challenge: use the string method `split` to write a `for` loop that prints out each word in the string \"blood-oxygenation level dependent functional magnetic resonance imaging\". Hint: run `help(str.split)`"
   ]
  },
  {
   "cell_type": "code",
   "execution_count": null,
   "metadata": {},
   "outputs": [],
   "source": []
  },
  {
   "cell_type": "markdown",
   "metadata": {},
   "source": [
    "## (U) `range` Exercises \n",
    "\n",
    "1. Use `range` to write a `for` loop to print out a numbered grocery list. "
   ]
  },
  {
   "cell_type": "code",
   "execution_count": null,
   "metadata": {},
   "outputs": [],
   "source": []
  },
  {
   "cell_type": "markdown",
   "metadata": {},
   "source": [
    "2. Use `enumerate` to print out a numbered grocery list. You've now done this three ways. What are some pros and cons to each technique? There are often several different ways to get the same output! However, usually one is more elegant than the others. "
   ]
  },
  {
   "cell_type": "code",
   "execution_count": null,
   "metadata": {},
   "outputs": [],
   "source": []
  },
  {
   "cell_type": "markdown",
   "metadata": {},
   "source": [
    "3. Use `range` to write a `for` loop that prints out 10 copies of your favorite snack. How does this compare to using a `while` loop?"
   ]
  },
  {
   "cell_type": "code",
   "execution_count": null,
   "metadata": {},
   "outputs": [],
   "source": []
  },
  {
   "cell_type": "markdown",
   "metadata": {},
   "source": [
    "4. Challenge: Write a \"Guess my number\" game that generates a random number and gives your user a fixed number of guesses. Use `input` to get the user's guesses. Think about what loop type you might use and how you might provide feedback based on the user's guesses. Hint: what type does `input` return? You might need to convert this to a more useful type... However, now what happens if your user inputs something that isn't a number? "
   ]
  },
  {
   "cell_type": "code",
   "execution_count": null,
   "metadata": {},
   "outputs": [],
   "source": []
  },
  {
   "cell_type": "markdown",
   "metadata": {},
   "source": [
    "## (U) Additional Flow Control Exercises (Optional)\n",
    "\n",
    "1. (U) Change the loop below so that it prints numbers from 1 to 10. \n",
    "\n",
    "```python\n",
    "for i in range (9): \n",
    "    print(i) \n",
    "```"
   ]
  },
  {
   "cell_type": "code",
   "execution_count": null,
   "metadata": {},
   "outputs": [],
   "source": []
  },
  {
   "cell_type": "markdown",
   "metadata": {},
   "source": [
    "2. (U) Using a for loop and enumerate, write a function `getindex(string, character)` to recreate the string method .index\n",
    "\n",
    "```python\n",
    "\"skyscraper\".index('c') \n",
    "> 4 \n",
    "```\n",
    "\n",
    "```python\n",
    "getindex(\"skyscraper\", 'c') \n",
    "> 4\n",
    "```"
   ]
  },
  {
   "cell_type": "code",
   "execution_count": null,
   "metadata": {},
   "outputs": [],
   "source": []
  },
  {
   "cell_type": "markdown",
   "metadata": {},
   "source": [
    "3. (U) Using the `shout` function from the first set of basic exercises, write a `shout_words(sentence)` function that takes a string argument and \"shouts\" each word on its own line. \n",
    "\n",
    "```python\n",
    "shout_words(\"Everybody likes bananas\") \n",
    "> EVERYBODY! \n",
    "> LIKES! \n",
    "> BANANAS! \n",
    " ```"
   ]
  },
  {
   "cell_type": "code",
   "execution_count": null,
   "metadata": {},
   "outputs": [],
   "source": []
  },
  {
   "cell_type": "markdown",
   "metadata": {},
   "source": [
    "4. (U) Write an `extract_longer(length, sentence)` function that takes a sentence and word length, then returns a list of the sentence's words that exceed the given length. If no words match the length, return `False`.\n",
    "\n",
    "```python\n",
    "extract_longer(5, \"Try not to interrupt the speaker.\") \n",
    "> ['interrupt','speaker.']\n",
    "```\n",
    "\n",
    "```python\n",
    "extract_longer(7, \"Sorry about the mess.\") \n",
    "> False\n",
    "```"
   ]
  },
  {
   "cell_type": "code",
   "execution_count": null,
   "metadata": {},
   "outputs": [],
   "source": []
  },
  {
   "cell_type": "markdown",
   "metadata": {},
   "source": [
    "# UNCLASSIFIED\n",
    "\n",
    "Transcribed from FOIA Doc ID: 6689693\n",
    "\n",
    "https://archive.org/details/comp3321"
   ]
  }
 ],
 "metadata": {
  "kernelspec": {
   "display_name": "Python 3",
   "language": "python",
   "name": "python3"
  },
  "language_info": {
   "codemirror_mode": {
    "name": "ipython",
    "version": 3
   },
   "file_extension": ".py",
   "mimetype": "text/x-python",
   "name": "python",
   "nbconvert_exporter": "python",
   "pygments_lexer": "ipython3",
   "version": "3.8.2"
  }
 },
 "nbformat": 4,
 "nbformat_minor": 2
}
