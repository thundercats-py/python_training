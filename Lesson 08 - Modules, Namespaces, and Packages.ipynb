{
 "cells": [
  {
   "cell_type": "markdown",
   "metadata": {},
   "source": [
    "# UNCLASSIFIED~~//FOR OFFICIAL USE ONLY~~\n",
    "\n",
    "Transcribed from FOIA Doc ID: 6689693\n",
    "\n",
    "https://archive.org/details/comp3321"
   ]
  },
  {
   "cell_type": "markdown",
   "metadata": {},
   "source": [
    "# (U) Modules, Namespaces, and Packages \n",
    "\n",
    "(U) We have already been using modules quite a bit -- every time we've run `import`, in fact. But what is a module, exactly? "
   ]
  },
  {
   "cell_type": "markdown",
   "metadata": {},
   "source": [
    "## (U) Motivation \n",
    "\n",
    "(U) When working in Jupyter, you don't have to worry about your code disappearing when you exit. You can save the notebook and share it with others. A Jupyter notebook kind of behaves like a python **script**: a text file containing Python source code. You can give that file to the python interpreter on the command line and execute all the code in the file (kind of like \"Run All\" in a Jupyter notebook): \n",
    "\n",
    "```\n",
    "$ python awesome.py\n",
    "```\n",
    "\n",
    "(U) There are a few significant limitations to sharing code in Jupyter notebooks, though: \n",
    "\n",
    "1. what if you want to share with somebody who has python installed but not Jupyter? \n",
    "2. what if you want to share _part_ of the code with others (or reuse part of it yourself)? \n",
    "3. what if you're writing a large, complex program? \n",
    "\n",
    "(U) All of these _do_ have native solutions in Jupyter: \n",
    "\n",
    "1. convert the notebook to a script (File > Download as > Python) \n",
    "2. copy-paste...? \n",
    "3. make a big, messy notebook...? \n",
    "\n",
    "(U) ...but they get unwieldy fast. This is where modules come in."
   ]
  },
  {
   "cell_type": "markdown",
   "metadata": {},
   "source": [
    "## (U) Modules \n",
    "\n",
    "(U) At its most basic, a **module** in Python is really just another name for a script. It's just a file containing Python definitions and statements. The filename is the module's name followed by a `.py` extension. Typically, though, we don't run modules directly -- we import their definitions into our own code and use them there. Modules enable us to write _modular_ code by organizing our program into logical units and putting those units in \n",
    "separate files. We can then share and reuse those files individually as parts of other programs. "
   ]
  },
  {
   "cell_type": "markdown",
   "metadata": {},
   "source": [
    "### (U) Standard Modules \n",
    "\n",
    "(U) Python ships with a library of standard modules, so you can get pretty far without writing your own. We've seen some of these modules already, and much of next week will be devoted to learning more about useful ones. They are documented in full detail in the [Python Standard Library reference](https://docs.python.org/3/library/index.html). "
   ]
  },
  {
   "cell_type": "markdown",
   "metadata": {},
   "source": [
    "### (U) An awesome example \n",
    "\n",
    "(U) To understand modules better, let's make our own. This will put some Python code in a file called `awesome.py` in the current directory. "
   ]
  },
  {
   "cell_type": "code",
   "execution_count": null,
   "metadata": {},
   "outputs": [],
   "source": [
    "contents = '''\n",
    "class Awesome(object):\n",
    "    def __init__(self, awesome_thing):\n",
    "        self.thing = awesome_thing\n",
    "    def __str__(self):\n",
    "        return \"{0.thing} is awesome!!!\".format(self)\n",
    "\n",
    "a = Awesome(\"Everything\")\n",
    "print(a)\n",
    "'''\n",
    "\n",
    "with open ('awesome.py', 'w') as f:\n",
    "    f.write(contents)"
   ]
  },
  {
   "cell_type": "markdown",
   "metadata": {},
   "source": [
    "(U) Now you can run `python awesome.py` on the command line as a Python script. "
   ]
  },
  {
   "cell_type": "markdown",
   "metadata": {},
   "source": [
    "### (U) Using modules: `import`\n",
    "\n",
    "(U) You can also import awesome.py here as a module:"
   ]
  },
  {
   "cell_type": "code",
   "execution_count": null,
   "metadata": {},
   "outputs": [],
   "source": [
    "import awesome"
   ]
  },
  {
   "cell_type": "markdown",
   "metadata": {},
   "source": [
    "(U) Note that you leave out the file extension when you import it. Python knows to look for a file in your path called `awesome.py`.\n",
    "\n",
    "(U) The first time you import the module, Python executes the code inside it. Any defined functions, classes, etc. will be available for use. But notice what happens when you try to import it again: "
   ]
  },
  {
   "cell_type": "code",
   "execution_count": null,
   "metadata": {},
   "outputs": [],
   "source": [
    "import awesome"
   ]
  },
  {
   "cell_type": "code",
   "execution_count": null,
   "metadata": {},
   "outputs": [],
   "source": [
    "print(awesome.a)"
   ]
  },
  {
   "cell_type": "markdown",
   "metadata": {},
   "source": [
    "(U) It's assumed that the other statements (e.g. variable assignments, print) are there to help _initialize_ the module. That's why the module is only run once. If you try to import the same module twice, Python will not re-run the code -- it will refer back to the already-imported version. This is helpful when you import multiple modules that in turn import the same module. \n",
    "\n",
    "(U) However, what if the module changed since you last imported it and you really do want to re-import it? "
   ]
  },
  {
   "cell_type": "code",
   "execution_count": null,
   "metadata": {},
   "outputs": [],
   "source": [
    "contents = '''\n",
    "class Awesome(object):\n",
    "    def __init__(self, awesome_thing):\n",
    "        self.thing = awesome_thing\n",
    "    def __str__(self):\n",
    "        return \"{0.thing} is awesome!!!\".format(self)\n",
    "\n",
    "def cool(group):\n",
    "    return \"Everything is cool when you're part of {0}\".format(group)\n",
    "\n",
    "a = Awesome(\"Everything\")\n",
    "\n",
    "print(a)\n",
    "'''\n",
    "\n",
    "with open ('awesome.py', 'w') as f:\n",
    "    f.write(contents)"
   ]
  },
  {
   "cell_type": "markdown",
   "metadata": {},
   "source": [
    "(U) You can bring in the new version with the help of the `importlib` module:"
   ]
  },
  {
   "cell_type": "code",
   "execution_count": null,
   "metadata": {},
   "outputs": [],
   "source": [
    "import importlib\n",
    "importlib.reload(awesome)"
   ]
  },
  {
   "cell_type": "markdown",
   "metadata": {},
   "source": [
    "### (U) Calling the module's code \n",
    "\n",
    "(U) The main point of importing a module is so you can use its defined functions, classes, constants, etc. By default, we access things defined in the `awesome` module by prefixing them with the module's name. "
   ]
  },
  {
   "cell_type": "code",
   "execution_count": null,
   "metadata": {},
   "outputs": [],
   "source": [
    "print(awesome.Awesome(\"A Nobel prize\")) "
   ]
  },
  {
   "cell_type": "code",
   "execution_count": null,
   "metadata": {},
   "outputs": [],
   "source": [
    "awesome.cool(\"a team\")"
   ]
  },
  {
   "cell_type": "code",
   "execution_count": null,
   "metadata": {},
   "outputs": [],
   "source": [
    "print(awesome.a)"
   ]
  },
  {
   "cell_type": "markdown",
   "metadata": {},
   "source": [
    "(U) What if we get tired of writing `awesome` all the time? We have a few options. "
   ]
  },
  {
   "cell_type": "markdown",
   "metadata": {},
   "source": [
    "### (U) Using modules: `import ___ as ___`\n",
    "\n",
    "(U) First, we can pick a nickname for the module:"
   ]
  },
  {
   "cell_type": "code",
   "execution_count": null,
   "metadata": {},
   "outputs": [],
   "source": [
    "import awesome as awe"
   ]
  },
  {
   "cell_type": "code",
   "execution_count": null,
   "metadata": {},
   "outputs": [],
   "source": [
    "print(awe.Awesome(\"A book of Greek antiquities\")) "
   ]
  },
  {
   "cell_type": "code",
   "execution_count": null,
   "metadata": {},
   "outputs": [],
   "source": [
    "awe.cool(\"the Python developer community\") "
   ]
  },
  {
   "cell_type": "code",
   "execution_count": null,
   "metadata": {},
   "outputs": [],
   "source": [
    "print(awe.a)"
   ]
  },
  {
   "cell_type": "markdown",
   "metadata": {},
   "source": [
    "### (U) Using modules: `from ___ import ___` \n",
    "\n",
    "(U) Second, we can import specific things from the `awesome` module into the current _namespace_: "
   ]
  },
  {
   "cell_type": "code",
   "execution_count": null,
   "metadata": {},
   "outputs": [],
   "source": [
    "from awesome import cool"
   ]
  },
  {
   "cell_type": "code",
   "execution_count": null,
   "metadata": {},
   "outputs": [],
   "source": [
    "cool(\"this class\")"
   ]
  },
  {
   "cell_type": "code",
   "execution_count": null,
   "metadata": {},
   "outputs": [],
   "source": [
    "print(Awesome(\"A piece of string\")) # will this work?"
   ]
  },
  {
   "cell_type": "code",
   "execution_count": null,
   "metadata": {},
   "outputs": [],
   "source": [
    "print(a) # will this work? "
   ]
  },
  {
   "cell_type": "markdown",
   "metadata": {},
   "source": [
    "### (U) Get everything: `from ___ import *`\n",
    "\n",
    "(U) Finally, if you really want to import _everything_ from the module into the current namespace, you can do this: "
   ]
  },
  {
   "cell_type": "code",
   "execution_count": null,
   "metadata": {},
   "outputs": [],
   "source": [
    "from awesome import * # BE CAREFUL"
   ]
  },
  {
   "cell_type": "markdown",
   "metadata": {},
   "source": [
    "(U) Now you can re-run the cells above and get them to work. \n",
    "\n",
    "(U) Why might you need to be careful with this method? "
   ]
  },
  {
   "cell_type": "code",
   "execution_count": null,
   "metadata": {},
   "outputs": [],
   "source": [
    "# what if you had defined this prior to import? \n",
    "\n",
    "def cool(): \n",
    "    return \"Something important is pretty cool\" "
   ]
  },
  {
   "cell_type": "code",
   "execution_count": null,
   "metadata": {},
   "outputs": [],
   "source": [
    "cool()"
   ]
  },
  {
   "cell_type": "markdown",
   "metadata": {},
   "source": [
    "### (U) Get one thing and rename: `from ___ import ___ as ___` \n",
    "\n",
    "(U) You can use both `from` and `as` if you need to:"
   ]
  },
  {
   "cell_type": "code",
   "execution_count": null,
   "metadata": {},
   "outputs": [],
   "source": [
    "from awesome import cool as coolgroup"
   ]
  },
  {
   "cell_type": "code",
   "execution_count": null,
   "metadata": {},
   "outputs": [],
   "source": [
    "cool()"
   ]
  },
  {
   "cell_type": "code",
   "execution_count": null,
   "metadata": {},
   "outputs": [],
   "source": [
    "coolgroup(\"the A team\")"
   ]
  },
  {
   "cell_type": "markdown",
   "metadata": {},
   "source": [
    "## (U) Tidying up with _main_ \n",
    "\n",
    "(U) Remember how it printed something back when we ran `import awesome`? We don't need that to print out every time we import the module. (And really aren't initializing anything important.) Fortunately, Python provides a way to distinguish between running a file as a script and importing it as a module by checking the special variable `__name__`. Let's change our module code again:"
   ]
  },
  {
   "cell_type": "code",
   "execution_count": null,
   "metadata": {},
   "outputs": [],
   "source": [
    "contents = '''\n",
    "class Awesome(object):\n",
    "    def __init__(self, awesome_thing):\n",
    "        self.thing = awesome_thing\n",
    "    def __str__(self):\n",
    "        return \"{0.thing} is awesome!!!\".format(self)\n",
    "\n",
    "def cool(group):\n",
    "    return \"Everything is cool when you're part of {0}\".format(group)\n",
    "\n",
    "if __name__ == '__main__':\n",
    "    a = Awesome(\"Everything\")\n",
    "    print(a)\n",
    "'''\n",
    "\n",
    "with open ('awesome.py', 'w') as f:\n",
    "    f.write(contents)"
   ]
  },
  {
   "cell_type": "markdown",
   "metadata": {},
   "source": [
    "(U) Now if you run the module as a script from the command line, it will make and print an example of the `Awesome` class. But if you import it as a module, it won't -- you will just get the class and function definition. "
   ]
  },
  {
   "cell_type": "code",
   "execution_count": null,
   "metadata": {},
   "outputs": [],
   "source": [
    "importlib.reload(awesome) "
   ]
  },
  {
   "cell_type": "markdown",
   "metadata": {},
   "source": [
    "(U) The magic here is that `__name__` is the name of the current module. When you import a module, its `__name__` is the module name (e.g. `awesome`), like you would expect. But a running script (or notebook) also uses a special module at the top level called `__main__`: "
   ]
  },
  {
   "cell_type": "code",
   "execution_count": null,
   "metadata": {},
   "outputs": [],
   "source": [
    "__name__"
   ]
  },
  {
   "cell_type": "markdown",
   "metadata": {},
   "source": [
    "(U) So when you run a module directly as a script (e.g. `python awesome.py`), its `__name__` is actually `__main__`, not the module name any longer. \n",
    "\n",
    "(U) This is a common convention for writing a Python script: organize it so that its functions and classes can be imported cleanly, and put the \"glue\" code or default behavior you want when the script is run directly under the `__name__` check. Sometimes developers will also put the code in a function called `main()` and call that instead, like so: "
   ]
  },
  {
   "cell_type": "code",
   "execution_count": null,
   "metadata": {},
   "outputs": [],
   "source": [
    "def main(): \n",
    "    a = Awesome(\"Everything\") \n",
    "    print (a) \n",
    "\n",
    "if __name__ == '__main__': \n",
    "    main() "
   ]
  },
  {
   "cell_type": "markdown",
   "metadata": {},
   "source": [
    "## (U) Namespaces \n",
    "\n",
    "(U) In Python, _namespaces_ are what store the names of all variables, functions, classes, modules, etc. used in the program. A namespaces kind of behaves like a big dictionary that maps the name to the thing named. \n",
    "\n",
    "(U) The two major namespaces are the _global_ namespace and the _local_ namespace. The global namespace is accessible from everywhere in the program. The local namespace will change depending on the current scope -- whether you are in a function, loop, class, module, etc. Besides local and global namespaces, each module has its own namespace. "
   ]
  },
  {
   "cell_type": "markdown",
   "metadata": {},
   "source": [
    "### (U) Global namespace \n",
    "\n",
    "(U) `dir()` with no arguments actually shows you the names in the global namespace. "
   ]
  },
  {
   "cell_type": "code",
   "execution_count": null,
   "metadata": {},
   "outputs": [],
   "source": [
    "dir()"
   ]
  },
  {
   "cell_type": "markdown",
   "metadata": {},
   "source": [
    "(U) Another way to see this is with the `globals()` function, which returns a dictionary of not only the names but also their values."
   ]
  },
  {
   "cell_type": "code",
   "execution_count": null,
   "metadata": {},
   "outputs": [],
   "source": [
    "sorted(globals().keys())"
   ]
  },
  {
   "cell_type": "code",
   "execution_count": null,
   "metadata": {},
   "outputs": [],
   "source": [
    "dir() == sorted(globals().keys())"
   ]
  },
  {
   "cell_type": "code",
   "execution_count": null,
   "metadata": {},
   "outputs": [],
   "source": [
    "globals()"
   ]
  },
  {
   "cell_type": "code",
   "execution_count": null,
   "metadata": {},
   "outputs": [],
   "source": [
    "globals()['awesome']"
   ]
  },
  {
   "cell_type": "code",
   "execution_count": null,
   "metadata": {},
   "outputs": [],
   "source": [
    "globals()['cool']"
   ]
  },
  {
   "cell_type": "code",
   "execution_count": null,
   "metadata": {},
   "outputs": [],
   "source": [
    "globals()['coolgroup']"
   ]
  },
  {
   "cell_type": "markdown",
   "metadata": {},
   "source": [
    "### (U) Local namespace \n",
    "\n",
    "(U) The local namespace can be accessed using `locals()`, which behaves just like `globals()`. \n",
    "\n",
    "(U) Right now, the local namespace and the global namespace are the same. We're at the top level of our code, not inside a function or anything else. "
   ]
  },
  {
   "cell_type": "code",
   "execution_count": null,
   "metadata": {},
   "outputs": [],
   "source": [
    "globals() == locals()"
   ]
  },
  {
   "cell_type": "markdown",
   "metadata": {},
   "source": [
    "(U) Let's take a look at it in a different scope. \n",
    "\n",
    "```\n",
    "sound/                  Top-level package\n",
    "    __init__.py         Initialize the sound package\n",
    "    formats/            Subpackage for file format conversions\n",
    "        __init__.py     \n",
    "        wavread.py \n",
    "        wavwrite.py \n",
    "        aiffread.py \n",
    "        aiffwrite.py \n",
    "        ...\n",
    "    effects/            Subpackage for sound effects \n",
    "        __init__.py \n",
    "        echo.py \n",
    "        surround.py \n",
    "        reverse.py \n",
    "        ...\n",
    "    filters/            Subpackage for filters \n",
    "        __init__.py \n",
    "        equalizer.py \n",
    "        vocoder.py \n",
    "        karaoke.py\n",
    "        ...\n",
    "```\n",
    "\n",
    "(U) You can access submodules by chaining them together with dot notation: "
   ]
  },
  {
   "cell_type": "code",
   "execution_count": null,
   "metadata": {},
   "outputs": [],
   "source": [
    "import sound.effects.reverse"
   ]
  },
  {
   "cell_type": "markdown",
   "metadata": {},
   "source": [
    "(U) The other methods of importing work as well: "
   ]
  },
  {
   "cell_type": "code",
   "execution_count": null,
   "metadata": {},
   "outputs": [],
   "source": [
    "from sound.filters import karaoke "
   ]
  },
  {
   "cell_type": "markdown",
   "metadata": {},
   "source": [
    "### (U) `__init__.py`\n",
    "\n",
    "(U) What is this special `__init__.py` file? \n",
    "\n",
    "- (U) Its presence is required to tell Python that the directory is a package \n",
    "- (U) It can be empty, as long as it's there \n",
    "- (U) It's typically used to initialize the package (as the name implies) \n",
    "\n",
    "(U) `__init__.py` can contain any code, but it's best to keep it short and focused on just what's needed to initialize and manage the package. For example: \n",
    "\n",
    "- (U) setting the `__all__` variable to tell Python what modules to include when someone runs `from package import *` \n",
    "- (U) automatically import some of the submodules so that when someone runs `import package`, then they can run `package.function` rather than `package.submodule.function`"
   ]
  },
  {
   "cell_type": "markdown",
   "metadata": {},
   "source": [
    "### (U) Installing packages \n",
    "\n",
    "(U) Packages are actually the common way to share and distribute modules. A package can contain a single module -- there is no requirement for it to hold multiple modules. If you're wanting to work with a Python module that is not in the standard library (i.e. not installed with Python by default), then you will probably need to install the package that contains it. Python developers don't usually share or install individual module files. "
   ]
  },
  {
   "cell_type": "markdown",
   "metadata": {},
   "source": [
    "### (U) pip and PyPI \n",
    "\n",
    "(U) On the command line, the standard tool for installing a package is `pip`, Python's package manager. (`pip` ships with Python by default nowadays, but if you're using an older version, you may have to install it yourself.) To use `pip`, you need to configure it to point at a package repository. The big repository everyone uses is called PyPI (a.k.a. the Cheese Shop)."
   ]
  },
  {
   "cell_type": "markdown",
   "metadata": {},
   "source": [
    "_Note: Removed a (U~~//FOUO~~) portion marked paragraph here. There weren't any redactions so nothing FOUO about it, but it wasn't relevant in this context._"
   ]
  },
  {
   "cell_type": "markdown",
   "metadata": {},
   "source": [
    "### (U) ipydeps & pypki2\n",
    "\n",
    "(U~~//FOUO~~) If you are working in a Jupyter notebook, it can be awkward trying to install packages from the command line with `pip` and then use them. Instead, `ipydeps` is a module that allows you to install packages directly from the notebook. It also uses the `pypki2` module behind the scenes to handle HTTPS connections that need your PKI certificates. _Note: There were no redactions in this paragraph so the portion marking was incorrect._"
   ]
  },
  {
   "cell_type": "code",
   "execution_count": null,
   "metadata": {},
   "outputs": [],
   "source": [
    "import ipydeps \n",
    "ipydeps.pip('prettytable')"
   ]
  },
  {
   "cell_type": "markdown",
   "metadata": {},
   "source": [
    "(U~~//FOUO~~) Another thing that `ipydeps` does behind the scenes is try to install operating system (non-Python) dependencies that the package needs in order to install and run correctly. That is manually configured by the Jupyter team here at NSA. If you run into trouble installing a package with `ipydeps` in Jupyter on LABBENCH, contact `REDACTED` and provide the name of the package you are trying to install and the errors you are seeing. "
   ]
  },
  {
   "cell_type": "markdown",
   "metadata": {},
   "source": [
    "### Note: There was a suplement to Lesson 08 in the table of contents but upon review it looks like it was just an old version of lesson 8. It didn't include the information about namespaces but was otherwise very similar to the content above. I've decided not to include it. If you're curious you can see the content starting on page 82 of the scanned PDF at the source on archive.org"
   ]
  },
  {
   "cell_type": "markdown",
   "metadata": {},
   "source": [
    "# UNCLASSIFIED~~//FOR OFFICIAL USE ONLY~~\n",
    "\n",
    "Transcribed from FOIA Doc ID: 6689693\n",
    "\n",
    "https://archive.org/details/comp3321"
   ]
  }
 ],
 "metadata": {
  "kernelspec": {
   "display_name": "Python 3",
   "language": "python",
   "name": "python3"
  },
  "language_info": {
   "codemirror_mode": {
    "name": "ipython",
    "version": 3
   },
   "file_extension": ".py",
   "mimetype": "text/x-python",
   "name": "python",
   "nbconvert_exporter": "python",
   "pygments_lexer": "ipython3",
   "version": "3.8.2"
  },
  "varInspector": {
   "cols": {
    "lenName": 16,
    "lenType": 16,
    "lenVar": 40
   },
   "kernels_config": {
    "python": {
     "delete_cmd_postfix": "",
     "delete_cmd_prefix": "del ",
     "library": "var_list.py",
     "varRefreshCmd": "print(var_dic_list())"
    },
    "r": {
     "delete_cmd_postfix": ") ",
     "delete_cmd_prefix": "rm(",
     "library": "var_list.r",
     "varRefreshCmd": "cat(var_dic_list()) "
    }
   },
   "types_to_exclude": [
    "module",
    "function",
    "builtin_function_or_method",
    "instance",
    "_Feature"
   ],
   "window_display": false
  }
 },
 "nbformat": 4,
 "nbformat_minor": 2
}
