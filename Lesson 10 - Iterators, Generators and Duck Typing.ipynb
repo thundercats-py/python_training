{
 "cells": [
  {
   "cell_type": "markdown",
   "metadata": {},
   "source": [
    "# UNCLASSIFIED\n",
    "\n",
    "Transcribed from FOIA Doc ID: 6689693\n",
    "\n",
    "https://archive.org/details/comp3321"
   ]
  },
  {
   "cell_type": "markdown",
   "metadata": {},
   "source": [
    "(U) Iterators, generators, sorting, and duck typing in Python. \n",
    "\n",
    "# (U) Introduction: List Comprehensions Revisited \n",
    "\n",
    "(U) We begin by reviewing the fundamentals of lists and list comprehension. "
   ]
  },
  {
   "cell_type": "code",
   "execution_count": null,
   "metadata": {},
   "outputs": [],
   "source": [
    "melist = [ i for i in range(1, 100, 2) ]\n",
    "for i in melist: # how does the loop work?\n",
    "    print (i)"
   ]
  },
  {
   "cell_type": "markdown",
   "metadata": {},
   "source": [
    "(U) What happens when the list construction gets more complicated?"
   ]
  },
  {
   "cell_type": "code",
   "execution_count": null,
   "metadata": {
    "ExecuteTime": {
     "end_time": "2020-04-11T04:05:34.695300Z",
     "start_time": "2020-04-11T04:05:34.688260Z"
    }
   },
   "outputs": [],
   "source": [
    "noprimes = [ j for i in range(2, 20) for j in range(i*2, 500, i) ]\n",
    "\n",
    "primes = [ x for x in range(2, 500) if x not in noprimes ]\n",
    "\n",
    "print(sorted(primes)) "
   ]
  },
  {
   "cell_type": "markdown",
   "metadata": {},
   "source": [
    "(U) Can we do this in one shot? Yes, but... "
   ]
  },
  {
   "cell_type": "code",
   "execution_count": null,
   "metadata": {
    "ExecuteTime": {
     "end_time": "2020-04-11T04:05:28.222547Z",
     "start_time": "2020-04-11T04:05:28.192091Z"
    }
   },
   "outputs": [],
   "source": [
    "# nesting madness ! \n",
    "primes = [ x for x in range(2, 500) if x not in [ j for i in range(2, 19) for j in range(i*2, 500, i) ] ] "
   ]
  },
  {
   "cell_type": "code",
   "execution_count": null,
   "metadata": {
    "ExecuteTime": {
     "end_time": "2020-04-11T04:05:58.692930Z",
     "start_time": "2020-04-11T04:05:58.687470Z"
    }
   },
   "outputs": [],
   "source": [
    "i = 3\n",
    "primes = [2]\n",
    "while i < 500:\n",
    "    for num in primes:\n",
    "        if i % num == 0:\n",
    "            break\n",
    "    else:\n",
    "        primes.append(i)\n",
    "    i += 2\n",
    "print(primes)"
   ]
  },
  {
   "cell_type": "markdown",
   "metadata": {},
   "source": [
    "# (U) Iterators \n",
    "\n",
    "(U) To create your own iterable objects, suitable for use in `for` loops and list comprehensions, all you need to do is implement the right special methods for the class. The `__iter__` method should return the iterable object itself (almost always `self`), and the `__next__` method defines the values of the iterator. \n",
    "\n",
    "(U) Let's do an example, sticking with the theme previously introduced, of an iterator that returns numbers in order, except for multiples of the arguments used at construction time. We'll make sure that it terminates eventually by raising the `StopIteration` exception whenever it gets to 200. (This is a great example of an exception in Python that is not uncommon: handling an event that is not unexpected, but requires termination; `for` loops and list comprehensions expect to get the `StopIteration` exception as a signal to stop processing.) "
   ]
  },
  {
   "cell_type": "code",
   "execution_count": null,
   "metadata": {},
   "outputs": [],
   "source": [
    "class NonFactorIterable(object):\n",
    "    def __init__(self, *args):             # *args will be a list of all arguments passed to the object constructor\n",
    "        self.avoid_multiples = args        # Assign args to self.avoid_multiples\n",
    "        self.x = 0                         # Initialize self.x as 0\n",
    "        \n",
    "    def __next__(self):                    # The next method determines how new values are produced by the iterator\n",
    "        self.x += 1                        # Increment self.x by 1\n",
    "        while True:\n",
    "            if self.x > 200:\n",
    "                raise StopIteration        # StopIteration if x grows beyond 200\n",
    "            for y in self.avoid_multiples: # Loop through the list passed as *args\n",
    "                if self.x % y == 0:        # If x is divisible by any of the *args we will break the for loop\n",
    "                    self.x += 1\n",
    "                    break\n",
    "            else:                          # This doesn't happen if we broke so the while loop restarts\n",
    "                return self.x              # Otherwise, self.x is not a multiple of any of *args and is returned\n",
    "\n",
    "    def __iter__(self):                    # This method tells Python that this is an iterable object.\n",
    "        return self "
   ]
  },
  {
   "cell_type": "code",
   "execution_count": null,
   "metadata": {},
   "outputs": [],
   "source": [
    "silent_fizz_buzz = NonFactorIterable(3, 5) # "
   ]
  },
  {
   "cell_type": "code",
   "execution_count": null,
   "metadata": {},
   "outputs": [],
   "source": [
    "[x for x in silent_fizz_buzz] "
   ]
  },
  {
   "cell_type": "code",
   "execution_count": null,
   "metadata": {},
   "outputs": [],
   "source": [
    "mostly_prime = NonFactorIterable(2, 3, 5, 7, 11, 13, 17, 19) "
   ]
  },
  {
   "cell_type": "code",
   "execution_count": null,
   "metadata": {},
   "outputs": [],
   "source": [
    "partial_sum = 0"
   ]
  },
  {
   "cell_type": "code",
   "execution_count": null,
   "metadata": {},
   "outputs": [],
   "source": [
    "for x in mostly_prime: \n",
    "    partial_sum += x "
   ]
  },
  {
   "cell_type": "code",
   "execution_count": null,
   "metadata": {},
   "outputs": [],
   "source": [
    "partial_sum "
   ]
  },
  {
   "cell_type": "code",
   "execution_count": null,
   "metadata": {},
   "outputs": [],
   "source": [
    "mostly_prime = NonFactorIterable(2, 3, 5, 7, 11, 13, 17, 19) \n",
    "print(sum(mostly_prime)) "
   ]
  },
  {
   "cell_type": "markdown",
   "metadata": {},
   "source": [
    "(U) It may seem strange that the `__iter__` method doesn't appear to do anything. This is because in some cases the **iterator** for an object should not be the same as the object itself. Covering such usage is beyond the scope of the course. \n",
    "\n",
    "(U) There is another way of implementing a custom iterator: the `__getitem__` method. This allows you to use the square bracket `[]` notation for getting data out of the object. However, you still must remember to raise a `StopIteration` exception for it to work properly in for loops and list comprehensions. "
   ]
  },
  {
   "cell_type": "markdown",
   "metadata": {},
   "source": [
    "## (U) Another iterator example \n",
    "\n",
    "(U) In the below example, we create an iterator that returns the squares of numbers. Note that in the `__next__` method, all we're doing is iterating our counter (`self.x`) and returning the square of that counter number, as long as the counter is not greater than the pre-defined limit (`self.limit`). The `while` loop in the previous example was specific to that use-case; we don't actually need to implement any looping at all in `__next__`, as that's simply the method called for each iteration through a loop on our iterator. \n",
    "\n",
    "Here we're also implementing the `__getitem__` method, which allows us to retrieve a value from the iterator at a certain index location. This one simply calls the iterator using `self.__next__` until it arrives at the desired index location, then returns that value. "
   ]
  },
  {
   "cell_type": "code",
   "execution_count": null,
   "metadata": {},
   "outputs": [],
   "source": [
    "class Squares(object):\n",
    "    \n",
    "    def __init__(self, limit=200):\n",
    "        self.limit = limit\n",
    "        self.x = 0\n",
    "\n",
    "    def __next__(self):\n",
    "        self.x += 1\n",
    "        if self.x > self.limit:\n",
    "            raise StopIteration\n",
    "        return (self.x - 1) ** 2\n",
    "\n",
    "    def __getitem__(self, idx):\n",
    "        # reset counter to 0\n",
    "        self.x = 0\n",
    "        if not isinstance(idx, int):\n",
    "            raise Exception(\"Only integer index arguments are accepted!\")\n",
    "        while self.x < idx:\n",
    "            self.__next__()\n",
    "        return self.x**2\n",
    "\n",
    "    def __iter__(self):\n",
    "        return self"
   ]
  },
  {
   "cell_type": "code",
   "execution_count": null,
   "metadata": {},
   "outputs": [],
   "source": [
    "my_squares = Squares(limit=20)"
   ]
  },
  {
   "cell_type": "code",
   "execution_count": null,
   "metadata": {},
   "outputs": [],
   "source": [
    "[x for x in my_squares]"
   ]
  },
  {
   "cell_type": "code",
   "execution_count": null,
   "metadata": {},
   "outputs": [],
   "source": [
    "my_squares[5]"
   ]
  },
  {
   "cell_type": "code",
   "execution_count": null,
   "metadata": {},
   "outputs": [],
   "source": [
    "# since we set a Limit of 20, we can't access an index Location higher than that \n",
    "my_squares[25] "
   ]
  },
  {
   "cell_type": "markdown",
   "metadata": {},
   "source": [
    "## (U) Benefits of Custom Iterators \n",
    "\n",
    "1. (U) Cleaner code \n",
    "2. (U) Ability to work with infinite sequences \n",
    "3. (U) Ability to use built-in functions like `sum` that work with iterables \n",
    "4. (U) Possibility of saving memory (e.g. `range`)"
   ]
  },
  {
   "cell_type": "markdown",
   "metadata": {},
   "source": [
    "# (U) Generators \n",
    "\n",
    "(U) Generators are iterators with a much lighter syntax. Very simple generators look just like list comprehensions, except they're surrounded with parentheses `()` instead of square brackets `[]`. More complicated generators are defined like functions, with the one difference being that they use the `yield` keyword instead of the `return` keyword. A generator maintains state in between times when it is called; execution resumes starting \n",
    "immediately after the `yield` statement and continues until the next `yield` is encountered."
   ]
  },
  {
   "cell_type": "code",
   "execution_count": null,
   "metadata": {},
   "outputs": [],
   "source": [
    "y = (x*x for x in range(30))\n",
    "print (y) # hmm ..."
   ]
  },
  {
   "cell_type": "code",
   "execution_count": null,
   "metadata": {},
   "outputs": [],
   "source": [
    "def xsquared():\n",
    "    for i in range(30):\n",
    "        yield i*i"
   ]
  },
  {
   "cell_type": "code",
   "execution_count": null,
   "metadata": {},
   "outputs": [],
   "source": [
    "def xsquared_inf():\n",
    "    x = 0\n",
    "    while True:\n",
    "        yield x*x\n",
    "        x += 1"
   ]
  },
  {
   "cell_type": "code",
   "execution_count": null,
   "metadata": {},
   "outputs": [],
   "source": [
    "squares = [x for x in xsquared()]\n",
    "print(squares)"
   ]
  },
  {
   "cell_type": "markdown",
   "metadata": {},
   "source": [
    "(U) Another example...days of the week! "
   ]
  },
  {
   "cell_type": "code",
   "execution_count": null,
   "metadata": {},
   "outputs": [],
   "source": [
    "def day_of_week():\n",
    "    i = 0\n",
    "    days = [\"Monday\" , \"Tuesday\" , \"Wednesday\" , \"Thursday\" , \"Friday\" , \"Saturday\" , \"Sunday\"]\n",
    "    while True:\n",
    "        yield days[i%7]\n",
    "        i += 1\n",
    "day_of_week()"
   ]
  },
  {
   "cell_type": "code",
   "execution_count": null,
   "metadata": {},
   "outputs": [],
   "source": [
    "import random\n",
    "def snowday(prob=.01):\n",
    "    r = random.random()\n",
    "    if r < prob:\n",
    "        return \"snowday!\"\n",
    "    else:\n",
    "        return \"regular day.\""
   ]
  },
  {
   "cell_type": "code",
   "execution_count": null,
   "metadata": {},
   "outputs": [],
   "source": [
    "n = 0\n",
    "for x in day_of_week():\n",
    "    today = snowday()\n",
    "    print(x + \" is a \" + today)\n",
    "    n += 1\n",
    "    if today == \"snowday!\":\n",
    "        break"
   ]
  },
  {
   "cell_type": "code",
   "execution_count": null,
   "metadata": {},
   "outputs": [],
   "source": [
    "weekday = (day for day in day_of_week())"
   ]
  },
  {
   "cell_type": "code",
   "execution_count": null,
   "metadata": {},
   "outputs": [],
   "source": [
    "next(weekday)"
   ]
  },
  {
   "cell_type": "markdown",
   "metadata": {},
   "source": [
    "## (U) Pipelining Generators\n",
    "\n",
    "(U) One powerful use of generators is to connect them together into a _pipeline_, where each generator is used by the next. Since Python evaluates generators \"lazily,\" i.e. as needed, this can increase the speed and potentially allow steps to run concurrently. This is especially useful if one or two steps can take a long time (e.g. a database query). Without generators, the long-running steps will become a bottleneck for execution, but generators allow other steps to proceed while waiting for the long-running steps to finish. "
   ]
  },
  {
   "cell_type": "code",
   "execution_count": null,
   "metadata": {},
   "outputs": [],
   "source": [
    "import random\n",
    "\n",
    "# Get the fractional, part of a string representation of a float \n",
    "def frac_part(v):\n",
    "    v = str(v)\n",
    "    i, f = v.split( '.' )\n",
    "    return f"
   ]
  },
  {
   "cell_type": "code",
   "execution_count": null,
   "metadata": {},
   "outputs": [],
   "source": [
    "# traditional approach \n",
    "results = [] \n",
    "for i in range(20): \n",
    "    r = random.random() * 100     # generate a random number \n",
    "    r_str = str(r)                # convert it to a string \n",
    "    r_frac = frac_part(r_str)     # get the fractional part \n",
    "    r_out = float('0.' + r_frac)  # convert it back to a float \n",
    "    results.append(r_out)\n",
    "\n",
    "results"
   ]
  },
  {
   "cell_type": "code",
   "execution_count": null,
   "metadata": {},
   "outputs": [],
   "source": [
    "# generator pipeline \n",
    "rand_gen = ( random.random() * 100 for i in range(20) ) \n",
    "str_gen = ( str(r) for r in rand_gen ) \n",
    "frac_gen = ( frac_part(r) for r in str_gen ) \n",
    "out_gen = ( float( '0.' + r) for r in frac_gen )\n",
    "\n",
    "results = list(out_gen)\n",
    "results "
   ]
  },
  {
   "cell_type": "markdown",
   "metadata": {},
   "source": [
    "# (U) Sorting \n",
    "\n",
    "(U) In Python 3, iterable objects must have the `__lt__` ( `lt` = less than) method explicitly defined in order to be sortable.\n",
    "\n",
    "(U) The built-in function `sorted(x)` returns a new list with the data from `x` in sorted order. The `sort` method (for `list`s only) sorts a list in-place and returns `None`. "
   ]
  },
  {
   "cell_type": "code",
   "execution_count": null,
   "metadata": {},
   "outputs": [],
   "source": [
    "int_data = [10, 1 , 5 , 4, 2]"
   ]
  },
  {
   "cell_type": "code",
   "execution_count": null,
   "metadata": {},
   "outputs": [],
   "source": [
    "sorted(int_data)"
   ]
  },
  {
   "cell_type": "code",
   "execution_count": null,
   "metadata": {},
   "outputs": [],
   "source": [
    "int_data"
   ]
  },
  {
   "cell_type": "code",
   "execution_count": null,
   "metadata": {},
   "outputs": [],
   "source": [
    "int_data.sort()"
   ]
  },
  {
   "cell_type": "code",
   "execution_count": null,
   "metadata": {},
   "outputs": [],
   "source": [
    "int_data"
   ]
  },
  {
   "cell_type": "markdown",
   "metadata": {},
   "source": [
    "(U) To specify how the sorting takes place, both `sorted` and `sort` take an optional argument called `key`. `key` specifies a _function_ of one argument that is used to extract a comparison key from each list element (e.g. `key=str.lower`). The default value is `None` (compare the elements directly). "
   ]
  },
  {
   "cell_type": "code",
   "execution_count": null,
   "metadata": {},
   "outputs": [],
   "source": [
    "users = ['hAcker1', 'TheBoss', 'botman', 'turingTest' ] "
   ]
  },
  {
   "cell_type": "code",
   "execution_count": null,
   "metadata": {},
   "outputs": [],
   "source": [
    "sorted(users) "
   ]
  },
  {
   "cell_type": "code",
   "execution_count": null,
   "metadata": {},
   "outputs": [],
   "source": [
    "sorted(users, key=str.lower) "
   ]
  },
  {
   "cell_type": "markdown",
   "metadata": {},
   "source": [
    "(U)The `__lt__` function takes two arguments: `self` and `other` which is another object, normally of the same type. "
   ]
  },
  {
   "cell_type": "code",
   "execution_count": null,
   "metadata": {},
   "outputs": [],
   "source": [
    "class comparableCmp(complex): \n",
    "    def __lt__ (self, other): \n",
    "        return abs(self) < abs(other)"
   ]
  },
  {
   "cell_type": "code",
   "execution_count": null,
   "metadata": {},
   "outputs": [],
   "source": [
    "a = 3+4j"
   ]
  },
  {
   "cell_type": "code",
   "execution_count": null,
   "metadata": {},
   "outputs": [],
   "source": [
    "b = 5+12j"
   ]
  },
  {
   "cell_type": "code",
   "execution_count": null,
   "metadata": {},
   "outputs": [],
   "source": [
    "a < b"
   ]
  },
  {
   "cell_type": "code",
   "execution_count": null,
   "metadata": {},
   "outputs": [],
   "source": [
    "a1 = comparableCmp(a) "
   ]
  },
  {
   "cell_type": "code",
   "execution_count": null,
   "metadata": {},
   "outputs": [],
   "source": [
    "b1 = comparableCmp(b) "
   ]
  },
  {
   "cell_type": "code",
   "execution_count": null,
   "metadata": {},
   "outputs": [],
   "source": [
    "a1 < b1 "
   ]
  },
  {
   "cell_type": "code",
   "execution_count": null,
   "metadata": {},
   "outputs": [],
   "source": [
    "c = [b1, a1]"
   ]
  },
  {
   "cell_type": "code",
   "execution_count": null,
   "metadata": {},
   "outputs": [],
   "source": [
    "sorted(c) "
   ]
  },
  {
   "cell_type": "markdown",
   "metadata": {},
   "source": [
    "(U) Here's how it works: \n",
    "\n",
    "1. the argument given to `key` must be a function that takes a single argument; \n",
    "2. internally, `sorted` creates function calls `key(item)` on each item in the list and then \n",
    "3. sorts the original list by using `__lt__` on the results of the `key(item)` function. \n",
    "\n",
    "(U) Another way to do the comparison is to use `key`: "
   ]
  },
  {
   "cell_type": "code",
   "execution_count": null,
   "metadata": {},
   "outputs": [],
   "source": [
    "def magnitude_key(a) : \n",
    "    return (a*a.conjugate()).real "
   ]
  },
  {
   "cell_type": "code",
   "execution_count": null,
   "metadata": {},
   "outputs": [],
   "source": [
    "magnitude_key(3+4j)"
   ]
  },
  {
   "cell_type": "code",
   "execution_count": null,
   "metadata": {},
   "outputs": [],
   "source": [
    "sorted([5+3j, 1j, -2j, 35+0j], key=magnitude_key)"
   ]
  },
  {
   "cell_type": "markdown",
   "metadata": {},
   "source": [
    "(U) In many cases, we must sort a list of dictionaries, lists, or even objects. We could define our own key function or even several key functions for different sorting methods: "
   ]
  },
  {
   "cell_type": "code",
   "execution_count": null,
   "metadata": {},
   "outputs": [],
   "source": [
    "list_to_sort = [\n",
    "    {'lname': 'Dones', 'fname': 'Sally'},\n",
    "    {'lname': 'Dones', 'fname': 'Derry'},\n",
    "    {'lname': 'Smith', 'fname': 'Dohn'},\n",
    "    {'lname': 'Phish', 'fname': 'James'},\n",
    "]"
   ]
  },
  {
   "cell_type": "code",
   "execution_count": null,
   "metadata": {},
   "outputs": [],
   "source": [
    "def lname_sorter(list_item): \n",
    "    return list_item['lname'] "
   ]
  },
  {
   "cell_type": "code",
   "execution_count": null,
   "metadata": {},
   "outputs": [],
   "source": [
    "def fname_sorter(list_item):\n",
    "    return list_item['fname'] "
   ]
  },
  {
   "cell_type": "code",
   "execution_count": null,
   "metadata": {},
   "outputs": [],
   "source": [
    "def lname_then_fname_sorter(list_item):\n",
    "    return (list_item['lname' ], list_item['fname']) "
   ]
  },
  {
   "cell_type": "code",
   "execution_count": null,
   "metadata": {},
   "outputs": [],
   "source": [
    "sorted(list_to_sort, key=lname_sorter)"
   ]
  },
  {
   "cell_type": "code",
   "execution_count": null,
   "metadata": {},
   "outputs": [],
   "source": [
    "sorted(list_to_sort, key=fname_sorter)"
   ]
  },
  {
   "cell_type": "code",
   "execution_count": null,
   "metadata": {},
   "outputs": [],
   "source": [
    "sorted(list_to_sort, key=lname_then_fname_sorter)"
   ]
  },
  {
   "cell_type": "markdown",
   "metadata": {},
   "source": [
    "(U) While it's good to know how this works, this pattern common enough that there is a method in the standard library `operator` package to do it even more concisely."
   ]
  },
  {
   "cell_type": "code",
   "execution_count": null,
   "metadata": {},
   "outputs": [],
   "source": [
    "import operator"
   ]
  },
  {
   "cell_type": "code",
   "execution_count": null,
   "metadata": {},
   "outputs": [],
   "source": [
    "lname_sorter = operator.itemgetter('lname') # same as previous lname_sorter "
   ]
  },
  {
   "cell_type": "markdown",
   "metadata": {},
   "source": [
    "(U) The application of the `itemgetter` method returns a _function_ that is equivalent to the `lname_sorter` function above. Even better, when passed multiple arguments, it returns a tuple containing those items in the given order. Moreover, we don't even need to give it a name first, it's fine to do this: "
   ]
  },
  {
   "cell_type": "code",
   "execution_count": null,
   "metadata": {},
   "outputs": [],
   "source": [
    "sorted(list_to_sort, key=operator.itemgetter('lname'))"
   ]
  },
  {
   "cell_type": "code",
   "execution_count": null,
   "metadata": {},
   "outputs": [],
   "source": [
    "sorted(list_to_sort, key=operator.itemgetter('lname', 'fname')) # same as using lname_then_fname_sorter "
   ]
  },
  {
   "cell_type": "markdown",
   "metadata": {},
   "source": [
    "(U) To use `operator.itemgetter` with `list`s or `tuple`s, give it integer indices as arguments. The equivalent function for objects is `operator.attrgetter`. \n",
    "\n",
    "(U) Since we know so much about Python now, it's not hard to figure out how simple `operator.itemgetter` actually is; the following function is essentially equivalent: "
   ]
  },
  {
   "cell_type": "code",
   "execution_count": null,
   "metadata": {},
   "outputs": [],
   "source": [
    "def itemgetter_clone(*args) : \n",
    "    def f(item): \n",
    "        return tuple(item[x] for x in args) \n",
    "    return f"
   ]
  },
  {
   "cell_type": "markdown",
   "metadata": {},
   "source": [
    "(U) Obviously, `operator.itemgetter` and `itemgetter_clone` are not actually simple--it's just that most of the complexity is hidden inside the Python internals and arises out of the fundamental data model. "
   ]
  },
  {
   "cell_type": "markdown",
   "metadata": {},
   "source": [
    "# (U) Duck Typing \n",
    "\n",
    "(U) All the magic methods we've discussed are examples of the fundamental Python principle of **duck typing**: \"If it walks like a duck and quacks like a duck, it must be a duck.\" Even though Python has `isinstance` and `type` methods, it's considered poor form to use them to validate input inside a function or method. If verification needs to take place, it should be restricted to verifying required behavior using `hasattr`. The benefit of this approach can be seen in the built-in `sum` function."
   ]
  },
  {
   "cell_type": "code",
   "execution_count": null,
   "metadata": {},
   "outputs": [],
   "source": [
    "help(sum) "
   ]
  },
  {
   "cell_type": "markdown",
   "metadata": {},
   "source": [
    "(U) **Any** sequence of numbers, regardless of whether it's a `list`, `tuple`, `set`, generator, or custom iterable, can be passed to `sum`. \n",
    "\n",
    "(U) The following is a comparison of _bad_ and _good_ examples of how to write a `product` function:"
   ]
  },
  {
   "cell_type": "code",
   "execution_count": null,
   "metadata": {},
   "outputs": [],
   "source": [
    "def list_prod(to_multiply): \n",
    "    if isinstance(to_multiply, list): # don't do this! \n",
    "        accumulator = 1 \n",
    "        for i in to_multiply: \n",
    "            accumulator *= i \n",
    "        return accumulator \n",
    "    else: \n",
    "        raise TypeError(\"Argument to_multiply must be a list\")"
   ]
  },
  {
   "cell_type": "markdown",
   "metadata": {},
   "source": [
    "Why does it have to be a `list`? This function would work with `tuple`s if the function didn't require a `list` by raising an exception if the argument is not an instance of `list`."
   ]
  },
  {
   "cell_type": "code",
   "execution_count": null,
   "metadata": {},
   "outputs": [],
   "source": [
    "def generic_prod(to_multiply): \n",
    "    if hasattr(to_multiply, '__iter__') or hasattr(to_multiply, '__getitem__'): \n",
    "        accumulator = 1 \n",
    "        for i in to_multiply: \n",
    "            accumulator *= i \n",
    "        return accumulator \n",
    "    else: \n",
    "        raise TypeError(\"Argument to_multiply must be a sequence\")"
   ]
  },
  {
   "cell_type": "code",
   "execution_count": null,
   "metadata": {},
   "outputs": [],
   "source": [
    "list_prod([1,2,3])"
   ]
  },
  {
   "cell_type": "code",
   "execution_count": null,
   "metadata": {},
   "outputs": [],
   "source": [
    "list_prod((1,2,3))"
   ]
  },
  {
   "cell_type": "code",
   "execution_count": null,
   "metadata": {},
   "outputs": [],
   "source": [
    "generic_prod((1,2,3))"
   ]
  },
  {
   "cell_type": "markdown",
   "metadata": {},
   "source": [
    "(U) Having given that example, testing for iterability is one of a few special cases where `isinstance` might be the right function to use, but not in the obvious way. The `collections` package provides **abstract base classes** which have the express purpose of helping to determine when an object implements a common interface. \n",
    "\n",
    "(U) Finally, effective use of duck typing goes hand in hand with robust error handling, based on the principle that \"it's easier to ask for forgiveness than permission.\" "
   ]
  },
  {
   "cell_type": "markdown",
   "metadata": {},
   "source": [
    "# (U) Exercises \n",
    "\n",
    "1. Add a method to your `RangedQuery` class to allow instances of the class to be sorted by `start_date`."
   ]
  },
  {
   "cell_type": "code",
   "execution_count": null,
   "metadata": {},
   "outputs": [],
   "source": []
  },
  {
   "cell_type": "markdown",
   "metadata": {},
   "source": [
    "2. Write an iterator class `ReverseIter` that takes a list and iterates it from the reverse direction. "
   ]
  },
  {
   "cell_type": "code",
   "execution_count": null,
   "metadata": {},
   "outputs": [],
   "source": []
  },
  {
   "cell_type": "markdown",
   "metadata": {},
   "source": [
    "3. Write a generator which will iterate over every day in a year. For example, the first output would be `Monday, January 1`."
   ]
  },
  {
   "cell_type": "code",
   "execution_count": null,
   "metadata": {},
   "outputs": [],
   "source": []
  },
  {
   "cell_type": "markdown",
   "metadata": {},
   "source": [
    "4. Modify the generator from exercise 2 so the user can specify the year and initial day of the week. "
   ]
  },
  {
   "cell_type": "code",
   "execution_count": null,
   "metadata": {},
   "outputs": [],
   "source": []
  },
  {
   "cell_type": "markdown",
   "metadata": {},
   "source": [
    "# (U) Pipelining with Generators: Supplement to Lesson 10\n",
    "\n",
    "(U) Defining processing pipelines with generators in Python. It's simply awesome. \n",
    "\n",
    "Note: This supplement was not portion marked. The only redaction was the author's name."
   ]
  },
  {
   "cell_type": "markdown",
   "metadata": {},
   "source": [
    "## Pipelining with Generators \n",
    "\n",
    "Imagine you're doing your laundry. Think about the stages involved. Roughly speaking, the stages are sorting, washing, drying, and folding. The beauty though is that even though these stages are sequential, they can be performed in parallel. This is called **pipelining**. \n",
    "\n",
    "Python generators make pipelining easy and can even clarify your code quite a bit. By breaking your processing into distinct stages, the Python interpreter can make better use of your computer's resources, and even break the stages out into separate threads behind the scenes. Memory is also conserved because values are automatically generated as needed, and discarded as soon as possible. \n",
    "\n",
    "A prime example of this is processing results from a database query. Often, before we can use the results of a database query, we need to clean them up by running them through a series of changes or transformations. Pipelined generators are perfect for this. "
   ]
  },
  {
   "cell_type": "code",
   "execution_count": null,
   "metadata": {},
   "outputs": [],
   "source": [
    "from pprint import pprint \n",
    "import random "
   ]
  },
  {
   "cell_type": "markdown",
   "metadata": {},
   "source": [
    "## A Silly Example \n",
    "\n",
    "Here we're going to take 200 randomly generated numbers and extract their fractional parts (the part after the decimal point). There are probably more efficient ways to do this, but we're doing to do it by splitting out the string into two parts. Here we have a function that simply returns the integer part and the fractional part of an input float as two strings in a tuple."
   ]
  },
  {
   "cell_type": "code",
   "execution_count": null,
   "metadata": {},
   "outputs": [],
   "source": [
    "def split_float(v):\n",
    "    '''\n",
    "    Takes a float or string of a float and returns a tuple containing the\n",
    "    integer part and the fractional part of the number, as strings, respectively.\n",
    "    '''\n",
    "    v = str(v)\n",
    "    i, f = v.split('.')\n",
    "    return (i, '0.' + f)"
   ]
  },
  {
   "cell_type": "markdown",
   "metadata": {},
   "source": [
    "## The Pipeline \n",
    "\n",
    "Here we have a pipeline of four generators, each feeding the one below it. We `pprint` out the final resulting list after all the stages have complete. See the comments after each line for further explanation. "
   ]
  },
  {
   "cell_type": "code",
   "execution_count": null,
   "metadata": {},
   "outputs": [],
   "source": [
    "rand_gen = (random.random() * 100 for i in range(200)) # generate 200 random floats between 0 and 100, one at a time \n",
    "results = (split_float(r) for r in rand_gen) # call our split_float() function which will generate matching tuples \n",
    "results = (r[1] for r in results ) # we only care about the fractional part, so only keep that part of the tuple \n",
    "results = (float(r) for r in results) # convert our fractional value from a string back into a float \n",
    "\n",
    "pprint(list(results)) # print the final results "
   ]
  },
  {
   "cell_type": "markdown",
   "metadata": {},
   "source": [
    "## Why not a for-loop? \n",
    "\n",
    "We could have put all the steps of our pipeline into a single for-loop, but we get a couple advantages by breaking the stages out into separate generators: \n",
    "\n",
    "- There's some clarity gained by having distinct stages specified as a pipeline. People reading the code can clearly see the transforms. \n",
    "- In a for-loop, Python simply computes the values sequentially; there's no chance for automatic optimization or multi-threading. By breaking the stages out, each stage can execute in parallel, just like your washer and dryer. "
   ]
  },
  {
   "cell_type": "markdown",
   "metadata": {},
   "source": [
    "## Another (Pseudo-)Example \n",
    "\n",
    "Here's a pseudo-example querying a database that returns JSON that we need to convert to lists. \n",
    "\n",
    "```python\n",
    "import json \n",
    "results = ( json.loads(result) for result in db_cursor.execute(my_query) ) \n",
    "results = ( r['results'] for r in results ) \n",
    "results = ( [ r['name'], retype'], r['count'], r['source'] ] for r in results ) \n",
    "```"
   ]
  },
  {
   "cell_type": "markdown",
   "metadata": {},
   "source": [
    "## Filters \n",
    "\n",
    "We can even filter our data in our generator pipeline. \n",
    "\n",
    "```python\n",
    "results = ( r for r in results if r[2] > 0 ) # remove results with a count of zero \n",
    "foo(results) # do something else with your results \n",
    "```"
   ]
  },
  {
   "cell_type": "markdown",
   "metadata": {},
   "source": [
    "# UNCLASSIFIED\n",
    "\n",
    "Transcribed from FOIA Doc ID: 6689693\n",
    "\n",
    "https://archive.org/details/comp3321"
   ]
  }
 ],
 "metadata": {
  "kernelspec": {
   "display_name": "Python 3",
   "language": "python",
   "name": "python3"
  },
  "language_info": {
   "codemirror_mode": {
    "name": "ipython",
    "version": 3
   },
   "file_extension": ".py",
   "mimetype": "text/x-python",
   "name": "python",
   "nbconvert_exporter": "python",
   "pygments_lexer": "ipython3",
   "version": "3.8.2"
  },
  "varInspector": {
   "cols": {
    "lenName": 16,
    "lenType": 16,
    "lenVar": 40
   },
   "kernels_config": {
    "python": {
     "delete_cmd_postfix": "",
     "delete_cmd_prefix": "del ",
     "library": "var_list.py",
     "varRefreshCmd": "print(var_dic_list())"
    },
    "r": {
     "delete_cmd_postfix": ") ",
     "delete_cmd_prefix": "rm(",
     "library": "var_list.r",
     "varRefreshCmd": "cat(var_dic_list()) "
    }
   },
   "types_to_exclude": [
    "module",
    "function",
    "builtin_function_or_method",
    "instance",
    "_Feature"
   ],
   "window_display": false
  }
 },
 "nbformat": 4,
 "nbformat_minor": 2
}
